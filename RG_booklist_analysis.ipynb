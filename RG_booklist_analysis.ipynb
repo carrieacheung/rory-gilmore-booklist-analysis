{
  "nbformat": 4,
  "nbformat_minor": 0,
  "metadata": {
    "colab": {
      "name": "RG_booklist_analysis.ipynb",
      "provenance": [],
      "collapsed_sections": [],
      "mount_file_id": "1iL48h4oUEgO15PWuLdcJz_B3F9vfptyD",
      "authorship_tag": "ABX9TyPxGaHFfmoisbe/ucKQXHBZ",
      "include_colab_link": true
    },
    "kernelspec": {
      "name": "python3",
      "display_name": "Python 3"
    },
    "language_info": {
      "name": "python"
    }
  },
  "cells": [
    {
      "cell_type": "markdown",
      "metadata": {
        "id": "view-in-github",
        "colab_type": "text"
      },
      "source": [
        "<a href=\"https://colab.research.google.com/github/carrieacheung/rory-gilmore-booklist-analysis/blob/main/RG_booklist_analysis.ipynb\" target=\"_parent\"><img src=\"https://colab.research.google.com/assets/colab-badge.svg\" alt=\"Open In Colab\"/></a>"
      ]
    },
    {
      "cell_type": "markdown",
      "source": [
        "# Import libraries"
      ],
      "metadata": {
        "id": "uFDGZOOlwxOe"
      }
    },
    {
      "cell_type": "code",
      "execution_count": null,
      "metadata": {
        "id": "diqarj7ZwXjA"
      },
      "outputs": [],
      "source": [
        "# Import necessary libraries\n",
        "\n",
        "import pandas as pd\n",
        "from collections import Counter\n",
        "import plotly.express as px\n",
        "from statistics import mean\n",
        "import numpy as np\n",
        "import string\n",
        "from wordcloud import WordCloud\n",
        "import matplotlib.pyplot as plt\n",
        "from PIL import Image"
      ]
    },
    {
      "cell_type": "markdown",
      "source": [
        "# Load the data from a file in the Google drive\n",
        "\n"
      ],
      "metadata": {
        "id": "U5iF7WtSwGBh"
      }
    },
    {
      "cell_type": "code",
      "source": [
        "# Load the csv file containing the Rory Gilmore booklist data as a pandas dataframe\n",
        "\n",
        "RG_df = pd.read_csv ('/content/drive/MyDrive/Colab Notebooks/Rory Gilmore Book List/goodreads_data.csv', index_col=0, dtype = str)  "
      ],
      "metadata": {
        "id": "xtKmvHNTxRVO"
      },
      "execution_count": null,
      "outputs": []
    },
    {
      "cell_type": "markdown",
      "source": [
        "# Display the dataframe"
      ],
      "metadata": {
        "id": "HYOWSFKZwjPt"
      }
    },
    {
      "cell_type": "code",
      "source": [
        "# Display a section of the dataframe\n",
        "\n",
        "RG_df"
      ],
      "metadata": {
        "id": "NdjC7ylwcs7_",
        "colab": {
          "base_uri": "https://localhost:8080/",
          "height": 1000
        },
        "outputId": "f6015206-796a-4c1d-ce91-0082dcf5cb8c"
      },
      "execution_count": null,
      "outputs": [
        {
          "output_type": "execute_result",
          "data": {
            "text/plain": [
              "                                  Title                        Author(s)  \\\n",
              "0                                  1984                    George Orwell   \n",
              "1                         Absolute Rage              Robert K. Tanenbaum   \n",
              "2                  The Age of Innocence  Edith Wharton, James Zimmerhoff   \n",
              "3    The Adventures of Huckleberry Finn                       Mark Twain   \n",
              "4          The Adventures of Tom Sawyer                       Mark Twain   \n",
              "..                                  ...                              ...   \n",
              "541       The Hound of the Baskervilles               Arthur Conan Doyle   \n",
              "542       The Return of Sherlock Holmes               Arthur Conan Doyle   \n",
              "543                  The Valley of Fear               Arthur Conan Doyle   \n",
              "544                        His Last Bow               Arthur Conan Doyle   \n",
              "545    The Case-Book of Sherlock Holmes               Arthur Conan Doyle   \n",
              "\n",
              "    Number in Series                Series Title Length of Series  \\\n",
              "0                NaN                         NaN              NaN   \n",
              "1                 14                  Butch Karp               29   \n",
              "2                NaN                         NaN              NaN   \n",
              "3                  2  Adventures of Tom and Huck                4   \n",
              "4                  1  Adventures of Tom and Huck                4   \n",
              "..               ...                         ...              ...   \n",
              "541                5             Sherlock Holmes                9   \n",
              "542                6             Sherlock Holmes                9   \n",
              "543                7             Sherlock Holmes                9   \n",
              "544                8             Sherlock Holmes                9   \n",
              "545                9             Sherlock Holmes                9   \n",
              "\n",
              "    Publication Month Publication Day Publication Year Number of Pages  \\\n",
              "0               April               8             1949             298   \n",
              "1              August              13             2002             480   \n",
              "2             October              19             1920             293   \n",
              "3            December              18             1884             327   \n",
              "4                June              18             1876             244   \n",
              "..                ...             ...              ...             ...   \n",
              "541         September               1             1901             256   \n",
              "542           January               1             1904             455   \n",
              "543          February              27             1915              96   \n",
              "544           October              22             1917             242   \n",
              "545              June              16             1927             303   \n",
              "\n",
              "                                                Genres  ... Rating  \\\n",
              "0                                                  NaN  ...   4.19   \n",
              "1    Mystery, Fiction, Legal Thriller, Thriller, My...  ...   4.04   \n",
              "2    Classics, Fiction, Historical Fiction, Romance...  ...   3.96   \n",
              "3    Classics, Fiction, Historical Fiction, Literat...  ...   3.82   \n",
              "4    Classics, Fiction, Adventure, Young Adult, His...  ...   3.92   \n",
              "..                                                 ...  ...    ...   \n",
              "541  Classics, Mystery, Fiction, Crime, Detective, ...  ...   4.13   \n",
              "542  Classics, Mystery, Fiction, Short Stories, Cri...  ...   4.29   \n",
              "543  Mystery, Classics, Fiction, Crime, Detective, ...  ...   3.97   \n",
              "544  Mystery, Classics, Fiction, Short Stories, Cri...  ...   4.26   \n",
              "545  Mystery, Classics, Fiction, Short Stories, Cri...  ...   4.15   \n",
              "\n",
              "    Number of Ratings Number of 5-Star Ratings Number of 4-Star Ratings  \\\n",
              "0             3820332                  1806702                  1242757   \n",
              "1                1012                      342                      414   \n",
              "2              154799                    52610                    57180   \n",
              "3             1210766                   368888                   417312   \n",
              "4              847233                   278245                   305825   \n",
              "..                ...                      ...                      ...   \n",
              "541            301092                   116513                   119511   \n",
              "542             59209                    27952                    21925   \n",
              "543             40324                    12860                    15925   \n",
              "544             41852                    19899                    14409   \n",
              "545             24507                     9979                     9293   \n",
              "\n",
              "    Number of 3-Star Ratings Number of 2-Star Ratings  \\\n",
              "0                     544887                   147075   \n",
              "1                        215                       35   \n",
              "2                      33799                     8321   \n",
              "3                     301667                    89262   \n",
              "4                     196463                    48334   \n",
              "..                       ...                      ...   \n",
              "541                    54564                     8324   \n",
              "542                     8030                      958   \n",
              "543                     9494                     1657   \n",
              "544                     6268                      936   \n",
              "545                     4405                      641   \n",
              "\n",
              "    Number of 1-Star Ratings Number of Reviews  \\\n",
              "0                      78911             89015   \n",
              "1                          6                62   \n",
              "2                       2889              8338   \n",
              "3                      33637             17439   \n",
              "4                      18366             11787   \n",
              "..                       ...               ...   \n",
              "541                     2180             10040   \n",
              "542                      344              1828   \n",
              "543                      388              2337   \n",
              "544                      340              1167   \n",
              "545                      189              1117   \n",
              "\n",
              "                                       Cover Image Tag  \\\n",
              "0    https://i.gr-assets.com/images/S/compressed.ph...   \n",
              "1    https://i.gr-assets.com/images/S/compressed.ph...   \n",
              "2    https://i.gr-assets.com/images/S/compressed.ph...   \n",
              "3    https://i.gr-assets.com/images/S/compressed.ph...   \n",
              "4    https://i.gr-assets.com/images/S/compressed.ph...   \n",
              "..                                                 ...   \n",
              "541  https://i.gr-assets.com/images/S/compressed.ph...   \n",
              "542  https://i.gr-assets.com/images/S/compressed.ph...   \n",
              "543  https://i.gr-assets.com/images/S/compressed.ph...   \n",
              "544  https://i.gr-assets.com/images/S/compressed.ph...   \n",
              "545  https://i.gr-assets.com/images/S/compressed.ph...   \n",
              "\n",
              "                                              Synopsis  \n",
              "0    Among the seminal texts of the 20th century,Ni...  \n",
              "1    New York Timesbestselling author Robert K. Tan...  \n",
              "2    Winner of the 1921 Pulitzer Prize,The Age of I...  \n",
              "3    A nineteenth-century boy from a Mississippi Ri...  \n",
              "4    The Adventures of Tom Sawyer revolves around t...  \n",
              "..                                                 ...  \n",
              "541  Could the sudden death of Sir Charles Baskervi...  \n",
              "542  'Holmes,' I cried. 'Is it really you? Can it i...  \n",
              "543  Doyle's final novel featuring the beloved sleu...  \n",
              "544  'His Last Bow', the title story of this collec...  \n",
              "545  'When you have eliminated all which is impossi...  \n",
              "\n",
              "[546 rows x 21 columns]"
            ],
            "text/html": [
              "\n",
              "  <div id=\"df-ac03efd8-790d-4570-af52-a70094a05b15\">\n",
              "    <div class=\"colab-df-container\">\n",
              "      <div>\n",
              "<style scoped>\n",
              "    .dataframe tbody tr th:only-of-type {\n",
              "        vertical-align: middle;\n",
              "    }\n",
              "\n",
              "    .dataframe tbody tr th {\n",
              "        vertical-align: top;\n",
              "    }\n",
              "\n",
              "    .dataframe thead th {\n",
              "        text-align: right;\n",
              "    }\n",
              "</style>\n",
              "<table border=\"1\" class=\"dataframe\">\n",
              "  <thead>\n",
              "    <tr style=\"text-align: right;\">\n",
              "      <th></th>\n",
              "      <th>Title</th>\n",
              "      <th>Author(s)</th>\n",
              "      <th>Number in Series</th>\n",
              "      <th>Series Title</th>\n",
              "      <th>Length of Series</th>\n",
              "      <th>Publication Month</th>\n",
              "      <th>Publication Day</th>\n",
              "      <th>Publication Year</th>\n",
              "      <th>Number of Pages</th>\n",
              "      <th>Genres</th>\n",
              "      <th>...</th>\n",
              "      <th>Rating</th>\n",
              "      <th>Number of Ratings</th>\n",
              "      <th>Number of 5-Star Ratings</th>\n",
              "      <th>Number of 4-Star Ratings</th>\n",
              "      <th>Number of 3-Star Ratings</th>\n",
              "      <th>Number of 2-Star Ratings</th>\n",
              "      <th>Number of 1-Star Ratings</th>\n",
              "      <th>Number of Reviews</th>\n",
              "      <th>Cover Image Tag</th>\n",
              "      <th>Synopsis</th>\n",
              "    </tr>\n",
              "  </thead>\n",
              "  <tbody>\n",
              "    <tr>\n",
              "      <th>0</th>\n",
              "      <td>1984</td>\n",
              "      <td>George Orwell</td>\n",
              "      <td>NaN</td>\n",
              "      <td>NaN</td>\n",
              "      <td>NaN</td>\n",
              "      <td>April</td>\n",
              "      <td>8</td>\n",
              "      <td>1949</td>\n",
              "      <td>298</td>\n",
              "      <td>NaN</td>\n",
              "      <td>...</td>\n",
              "      <td>4.19</td>\n",
              "      <td>3820332</td>\n",
              "      <td>1806702</td>\n",
              "      <td>1242757</td>\n",
              "      <td>544887</td>\n",
              "      <td>147075</td>\n",
              "      <td>78911</td>\n",
              "      <td>89015</td>\n",
              "      <td>https://i.gr-assets.com/images/S/compressed.ph...</td>\n",
              "      <td>Among the seminal texts of the 20th century,Ni...</td>\n",
              "    </tr>\n",
              "    <tr>\n",
              "      <th>1</th>\n",
              "      <td>Absolute Rage</td>\n",
              "      <td>Robert K. Tanenbaum</td>\n",
              "      <td>14</td>\n",
              "      <td>Butch Karp</td>\n",
              "      <td>29</td>\n",
              "      <td>August</td>\n",
              "      <td>13</td>\n",
              "      <td>2002</td>\n",
              "      <td>480</td>\n",
              "      <td>Mystery, Fiction, Legal Thriller, Thriller, My...</td>\n",
              "      <td>...</td>\n",
              "      <td>4.04</td>\n",
              "      <td>1012</td>\n",
              "      <td>342</td>\n",
              "      <td>414</td>\n",
              "      <td>215</td>\n",
              "      <td>35</td>\n",
              "      <td>6</td>\n",
              "      <td>62</td>\n",
              "      <td>https://i.gr-assets.com/images/S/compressed.ph...</td>\n",
              "      <td>New York Timesbestselling author Robert K. Tan...</td>\n",
              "    </tr>\n",
              "    <tr>\n",
              "      <th>2</th>\n",
              "      <td>The Age of Innocence</td>\n",
              "      <td>Edith Wharton, James Zimmerhoff</td>\n",
              "      <td>NaN</td>\n",
              "      <td>NaN</td>\n",
              "      <td>NaN</td>\n",
              "      <td>October</td>\n",
              "      <td>19</td>\n",
              "      <td>1920</td>\n",
              "      <td>293</td>\n",
              "      <td>Classics, Fiction, Historical Fiction, Romance...</td>\n",
              "      <td>...</td>\n",
              "      <td>3.96</td>\n",
              "      <td>154799</td>\n",
              "      <td>52610</td>\n",
              "      <td>57180</td>\n",
              "      <td>33799</td>\n",
              "      <td>8321</td>\n",
              "      <td>2889</td>\n",
              "      <td>8338</td>\n",
              "      <td>https://i.gr-assets.com/images/S/compressed.ph...</td>\n",
              "      <td>Winner of the 1921 Pulitzer Prize,The Age of I...</td>\n",
              "    </tr>\n",
              "    <tr>\n",
              "      <th>3</th>\n",
              "      <td>The Adventures of Huckleberry Finn</td>\n",
              "      <td>Mark Twain</td>\n",
              "      <td>2</td>\n",
              "      <td>Adventures of Tom and Huck</td>\n",
              "      <td>4</td>\n",
              "      <td>December</td>\n",
              "      <td>18</td>\n",
              "      <td>1884</td>\n",
              "      <td>327</td>\n",
              "      <td>Classics, Fiction, Historical Fiction, Literat...</td>\n",
              "      <td>...</td>\n",
              "      <td>3.82</td>\n",
              "      <td>1210766</td>\n",
              "      <td>368888</td>\n",
              "      <td>417312</td>\n",
              "      <td>301667</td>\n",
              "      <td>89262</td>\n",
              "      <td>33637</td>\n",
              "      <td>17439</td>\n",
              "      <td>https://i.gr-assets.com/images/S/compressed.ph...</td>\n",
              "      <td>A nineteenth-century boy from a Mississippi Ri...</td>\n",
              "    </tr>\n",
              "    <tr>\n",
              "      <th>4</th>\n",
              "      <td>The Adventures of Tom Sawyer</td>\n",
              "      <td>Mark Twain</td>\n",
              "      <td>1</td>\n",
              "      <td>Adventures of Tom and Huck</td>\n",
              "      <td>4</td>\n",
              "      <td>June</td>\n",
              "      <td>18</td>\n",
              "      <td>1876</td>\n",
              "      <td>244</td>\n",
              "      <td>Classics, Fiction, Adventure, Young Adult, His...</td>\n",
              "      <td>...</td>\n",
              "      <td>3.92</td>\n",
              "      <td>847233</td>\n",
              "      <td>278245</td>\n",
              "      <td>305825</td>\n",
              "      <td>196463</td>\n",
              "      <td>48334</td>\n",
              "      <td>18366</td>\n",
              "      <td>11787</td>\n",
              "      <td>https://i.gr-assets.com/images/S/compressed.ph...</td>\n",
              "      <td>The Adventures of Tom Sawyer revolves around t...</td>\n",
              "    </tr>\n",
              "    <tr>\n",
              "      <th>...</th>\n",
              "      <td>...</td>\n",
              "      <td>...</td>\n",
              "      <td>...</td>\n",
              "      <td>...</td>\n",
              "      <td>...</td>\n",
              "      <td>...</td>\n",
              "      <td>...</td>\n",
              "      <td>...</td>\n",
              "      <td>...</td>\n",
              "      <td>...</td>\n",
              "      <td>...</td>\n",
              "      <td>...</td>\n",
              "      <td>...</td>\n",
              "      <td>...</td>\n",
              "      <td>...</td>\n",
              "      <td>...</td>\n",
              "      <td>...</td>\n",
              "      <td>...</td>\n",
              "      <td>...</td>\n",
              "      <td>...</td>\n",
              "      <td>...</td>\n",
              "    </tr>\n",
              "    <tr>\n",
              "      <th>541</th>\n",
              "      <td>The Hound of the Baskervilles</td>\n",
              "      <td>Arthur Conan Doyle</td>\n",
              "      <td>5</td>\n",
              "      <td>Sherlock Holmes</td>\n",
              "      <td>9</td>\n",
              "      <td>September</td>\n",
              "      <td>1</td>\n",
              "      <td>1901</td>\n",
              "      <td>256</td>\n",
              "      <td>Classics, Mystery, Fiction, Crime, Detective, ...</td>\n",
              "      <td>...</td>\n",
              "      <td>4.13</td>\n",
              "      <td>301092</td>\n",
              "      <td>116513</td>\n",
              "      <td>119511</td>\n",
              "      <td>54564</td>\n",
              "      <td>8324</td>\n",
              "      <td>2180</td>\n",
              "      <td>10040</td>\n",
              "      <td>https://i.gr-assets.com/images/S/compressed.ph...</td>\n",
              "      <td>Could the sudden death of Sir Charles Baskervi...</td>\n",
              "    </tr>\n",
              "    <tr>\n",
              "      <th>542</th>\n",
              "      <td>The Return of Sherlock Holmes</td>\n",
              "      <td>Arthur Conan Doyle</td>\n",
              "      <td>6</td>\n",
              "      <td>Sherlock Holmes</td>\n",
              "      <td>9</td>\n",
              "      <td>January</td>\n",
              "      <td>1</td>\n",
              "      <td>1904</td>\n",
              "      <td>455</td>\n",
              "      <td>Classics, Mystery, Fiction, Short Stories, Cri...</td>\n",
              "      <td>...</td>\n",
              "      <td>4.29</td>\n",
              "      <td>59209</td>\n",
              "      <td>27952</td>\n",
              "      <td>21925</td>\n",
              "      <td>8030</td>\n",
              "      <td>958</td>\n",
              "      <td>344</td>\n",
              "      <td>1828</td>\n",
              "      <td>https://i.gr-assets.com/images/S/compressed.ph...</td>\n",
              "      <td>'Holmes,' I cried. 'Is it really you? Can it i...</td>\n",
              "    </tr>\n",
              "    <tr>\n",
              "      <th>543</th>\n",
              "      <td>The Valley of Fear</td>\n",
              "      <td>Arthur Conan Doyle</td>\n",
              "      <td>7</td>\n",
              "      <td>Sherlock Holmes</td>\n",
              "      <td>9</td>\n",
              "      <td>February</td>\n",
              "      <td>27</td>\n",
              "      <td>1915</td>\n",
              "      <td>96</td>\n",
              "      <td>Mystery, Classics, Fiction, Crime, Detective, ...</td>\n",
              "      <td>...</td>\n",
              "      <td>3.97</td>\n",
              "      <td>40324</td>\n",
              "      <td>12860</td>\n",
              "      <td>15925</td>\n",
              "      <td>9494</td>\n",
              "      <td>1657</td>\n",
              "      <td>388</td>\n",
              "      <td>2337</td>\n",
              "      <td>https://i.gr-assets.com/images/S/compressed.ph...</td>\n",
              "      <td>Doyle's final novel featuring the beloved sleu...</td>\n",
              "    </tr>\n",
              "    <tr>\n",
              "      <th>544</th>\n",
              "      <td>His Last Bow</td>\n",
              "      <td>Arthur Conan Doyle</td>\n",
              "      <td>8</td>\n",
              "      <td>Sherlock Holmes</td>\n",
              "      <td>9</td>\n",
              "      <td>October</td>\n",
              "      <td>22</td>\n",
              "      <td>1917</td>\n",
              "      <td>242</td>\n",
              "      <td>Mystery, Classics, Fiction, Short Stories, Cri...</td>\n",
              "      <td>...</td>\n",
              "      <td>4.26</td>\n",
              "      <td>41852</td>\n",
              "      <td>19899</td>\n",
              "      <td>14409</td>\n",
              "      <td>6268</td>\n",
              "      <td>936</td>\n",
              "      <td>340</td>\n",
              "      <td>1167</td>\n",
              "      <td>https://i.gr-assets.com/images/S/compressed.ph...</td>\n",
              "      <td>'His Last Bow', the title story of this collec...</td>\n",
              "    </tr>\n",
              "    <tr>\n",
              "      <th>545</th>\n",
              "      <td>The Case-Book of Sherlock Holmes</td>\n",
              "      <td>Arthur Conan Doyle</td>\n",
              "      <td>9</td>\n",
              "      <td>Sherlock Holmes</td>\n",
              "      <td>9</td>\n",
              "      <td>June</td>\n",
              "      <td>16</td>\n",
              "      <td>1927</td>\n",
              "      <td>303</td>\n",
              "      <td>Mystery, Classics, Fiction, Short Stories, Cri...</td>\n",
              "      <td>...</td>\n",
              "      <td>4.15</td>\n",
              "      <td>24507</td>\n",
              "      <td>9979</td>\n",
              "      <td>9293</td>\n",
              "      <td>4405</td>\n",
              "      <td>641</td>\n",
              "      <td>189</td>\n",
              "      <td>1117</td>\n",
              "      <td>https://i.gr-assets.com/images/S/compressed.ph...</td>\n",
              "      <td>'When you have eliminated all which is impossi...</td>\n",
              "    </tr>\n",
              "  </tbody>\n",
              "</table>\n",
              "<p>546 rows × 21 columns</p>\n",
              "</div>\n",
              "      <button class=\"colab-df-convert\" onclick=\"convertToInteractive('df-ac03efd8-790d-4570-af52-a70094a05b15')\"\n",
              "              title=\"Convert this dataframe to an interactive table.\"\n",
              "              style=\"display:none;\">\n",
              "        \n",
              "  <svg xmlns=\"http://www.w3.org/2000/svg\" height=\"24px\"viewBox=\"0 0 24 24\"\n",
              "       width=\"24px\">\n",
              "    <path d=\"M0 0h24v24H0V0z\" fill=\"none\"/>\n",
              "    <path d=\"M18.56 5.44l.94 2.06.94-2.06 2.06-.94-2.06-.94-.94-2.06-.94 2.06-2.06.94zm-11 1L8.5 8.5l.94-2.06 2.06-.94-2.06-.94L8.5 2.5l-.94 2.06-2.06.94zm10 10l.94 2.06.94-2.06 2.06-.94-2.06-.94-.94-2.06-.94 2.06-2.06.94z\"/><path d=\"M17.41 7.96l-1.37-1.37c-.4-.4-.92-.59-1.43-.59-.52 0-1.04.2-1.43.59L10.3 9.45l-7.72 7.72c-.78.78-.78 2.05 0 2.83L4 21.41c.39.39.9.59 1.41.59.51 0 1.02-.2 1.41-.59l7.78-7.78 2.81-2.81c.8-.78.8-2.07 0-2.86zM5.41 20L4 18.59l7.72-7.72 1.47 1.35L5.41 20z\"/>\n",
              "  </svg>\n",
              "      </button>\n",
              "      \n",
              "  <style>\n",
              "    .colab-df-container {\n",
              "      display:flex;\n",
              "      flex-wrap:wrap;\n",
              "      gap: 12px;\n",
              "    }\n",
              "\n",
              "    .colab-df-convert {\n",
              "      background-color: #E8F0FE;\n",
              "      border: none;\n",
              "      border-radius: 50%;\n",
              "      cursor: pointer;\n",
              "      display: none;\n",
              "      fill: #1967D2;\n",
              "      height: 32px;\n",
              "      padding: 0 0 0 0;\n",
              "      width: 32px;\n",
              "    }\n",
              "\n",
              "    .colab-df-convert:hover {\n",
              "      background-color: #E2EBFA;\n",
              "      box-shadow: 0px 1px 2px rgba(60, 64, 67, 0.3), 0px 1px 3px 1px rgba(60, 64, 67, 0.15);\n",
              "      fill: #174EA6;\n",
              "    }\n",
              "\n",
              "    [theme=dark] .colab-df-convert {\n",
              "      background-color: #3B4455;\n",
              "      fill: #D2E3FC;\n",
              "    }\n",
              "\n",
              "    [theme=dark] .colab-df-convert:hover {\n",
              "      background-color: #434B5C;\n",
              "      box-shadow: 0px 1px 3px 1px rgba(0, 0, 0, 0.15);\n",
              "      filter: drop-shadow(0px 1px 2px rgba(0, 0, 0, 0.3));\n",
              "      fill: #FFFFFF;\n",
              "    }\n",
              "  </style>\n",
              "\n",
              "      <script>\n",
              "        const buttonEl =\n",
              "          document.querySelector('#df-ac03efd8-790d-4570-af52-a70094a05b15 button.colab-df-convert');\n",
              "        buttonEl.style.display =\n",
              "          google.colab.kernel.accessAllowed ? 'block' : 'none';\n",
              "\n",
              "        async function convertToInteractive(key) {\n",
              "          const element = document.querySelector('#df-ac03efd8-790d-4570-af52-a70094a05b15');\n",
              "          const dataTable =\n",
              "            await google.colab.kernel.invokeFunction('convertToInteractive',\n",
              "                                                     [key], {});\n",
              "          if (!dataTable) return;\n",
              "\n",
              "          const docLinkHtml = 'Like what you see? Visit the ' +\n",
              "            '<a target=\"_blank\" href=https://colab.research.google.com/notebooks/data_table.ipynb>data table notebook</a>'\n",
              "            + ' to learn more about interactive tables.';\n",
              "          element.innerHTML = '';\n",
              "          dataTable['output_type'] = 'display_data';\n",
              "          await google.colab.output.renderOutput(dataTable, element);\n",
              "          const docLink = document.createElement('div');\n",
              "          docLink.innerHTML = docLinkHtml;\n",
              "          element.appendChild(docLink);\n",
              "        }\n",
              "      </script>\n",
              "    </div>\n",
              "  </div>\n",
              "  "
            ]
          },
          "metadata": {},
          "execution_count": 3
        }
      ]
    },
    {
      "cell_type": "markdown",
      "source": [
        "# Exploratory Data Analysis"
      ],
      "metadata": {
        "id": "QjI53iTrw592"
      }
    },
    {
      "cell_type": "markdown",
      "source": [
        "## Define all of the series' "
      ],
      "metadata": {
        "id": "5wO2iVjGgeNz"
      }
    },
    {
      "cell_type": "code",
      "source": [
        "# Define all of the series' that will be used from the dataframe\n",
        "\n",
        "titles = RG_df['Title'].dropna()\n",
        "authors = RG_df['Author(s)'].dropna()\n",
        "num_in_series = RG_df['Number in Series'].dropna().astype('int64')\n",
        "series_title = RG_df['Series Title'].dropna()\n",
        "series_length = RG_df['Length of Series'].dropna().astype('int64')\n",
        "publication_month = RG_df['Publication Month'].dropna()\n",
        "publication_day = RG_df['Publication Day'].dropna()\n",
        "publication_year = RG_df['Publication Year'].dropna().astype('int64')\n",
        "num_pages = RG_df['Number of Pages'].dropna().astype('int64')\n",
        "genres = RG_df['Genres'].dropna()\n",
        "ratings = RG_df['Rating'].dropna().astype('float64')\n",
        "num_ratings = RG_df['Number of Ratings'].dropna().astype('int64')\n",
        "num_5_star = RG_df['Number of 5-Star Ratings'].dropna().astype('int64')\n",
        "num_4_star = RG_df['Number of 4-Star Ratings'].dropna().astype('int64')\n",
        "num_3_star = RG_df['Number of 3-Star Ratings'].dropna().astype('int64')\n",
        "num_2_star = RG_df['Number of 2-Star Ratings'].dropna().astype('int64')\n",
        "num_1_star = RG_df['Number of 1-Star Ratings'].dropna().astype('int64')\n",
        "num_reviews = RG_df['Number of Reviews'].dropna().astype('int64')"
      ],
      "metadata": {
        "id": "4sdt_dIcgd1a"
      },
      "execution_count": null,
      "outputs": []
    },
    {
      "cell_type": "markdown",
      "source": [
        "## Simple breakdown of the books"
      ],
      "metadata": {
        "id": "yN4_K4HuAcA5"
      }
    },
    {
      "cell_type": "markdown",
      "source": [
        "Displays\n",
        "\n",
        "* The count of each column\n",
        "* How many uniique items in each column\n",
        "* The item with the highest frequency in each column\n",
        "* The frequency of the top item\n",
        "* The dataframes shape"
      ],
      "metadata": {
        "id": "_zjazAqNDfEx"
      }
    },
    {
      "cell_type": "code",
      "source": [
        "# Simple breakdown of the books \n",
        "\n",
        "# Deterines the number of books in the booklist\n",
        "num_books = len(RG_df)\n",
        "\n",
        "# Gets descriptive statistics from the dataframe\n",
        "RG_df.describe()"
      ],
      "metadata": {
        "id": "ggtNuUUORQ9v",
        "colab": {
          "base_uri": "https://localhost:8080/",
          "height": 390
        },
        "outputId": "1d67f155-85af-4fcf-d797-729d80afe8e7"
      },
      "execution_count": null,
      "outputs": [
        {
          "output_type": "execute_result",
          "data": {
            "text/plain": [
              "          Title            Author(s) Number in Series     Series Title  \\\n",
              "count       546                  542              135              134   \n",
              "unique      545                  405               16               81   \n",
              "top     Inferno  William Shakespeare                1  Sherlock Holmes   \n",
              "freq          2                   14               69                9   \n",
              "\n",
              "       Length of Series Publication Month Publication Day Publication Year  \\\n",
              "count               148               279             538              525   \n",
              "unique               23                12              38              179   \n",
              "top                   3           January              19             2003   \n",
              "freq                 31                40             184               28   \n",
              "\n",
              "       Number of Pages                                             Genres  \\\n",
              "count              532                                                471   \n",
              "unique             321                                                463   \n",
              "top                400  Classics, Historical Fiction, Childrens, Ficti...   \n",
              "freq                 9                                                  3   \n",
              "\n",
              "        ... Rating Number of Ratings Number of 5-Star Ratings  \\\n",
              "count   ...    546               546                      546   \n",
              "unique  ...    127               539                      530   \n",
              "top     ...   3.91                43                        0   \n",
              "freq    ...     16                 2                        5   \n",
              "\n",
              "       Number of 4-Star Ratings Number of 3-Star Ratings  \\\n",
              "count                       546                      546   \n",
              "unique                      525                      524   \n",
              "top                           1                        0   \n",
              "freq                          5                        5   \n",
              "\n",
              "       Number of 2-Star Ratings Number of 1-Star Ratings Number of Reviews  \\\n",
              "count                       546                      546               546   \n",
              "unique                      492                      453               492   \n",
              "top                           0                        0                 1   \n",
              "freq                         13                       13                 8   \n",
              "\n",
              "                                          Cover Image Tag  \\\n",
              "count                                                 546   \n",
              "unique                                                540   \n",
              "top     https://s.gr-assets.com/assets/nophoto/book/bl...   \n",
              "freq                                                    7   \n",
              "\n",
              "                                                 Synopsis  \n",
              "count                                                 532  \n",
              "unique                                                532  \n",
              "top     Among the seminal texts of the 20th century,Ni...  \n",
              "freq                                                    1  \n",
              "\n",
              "[4 rows x 21 columns]"
            ],
            "text/html": [
              "\n",
              "  <div id=\"df-31371e57-aabb-4461-9cc8-6aca1f251eaa\">\n",
              "    <div class=\"colab-df-container\">\n",
              "      <div>\n",
              "<style scoped>\n",
              "    .dataframe tbody tr th:only-of-type {\n",
              "        vertical-align: middle;\n",
              "    }\n",
              "\n",
              "    .dataframe tbody tr th {\n",
              "        vertical-align: top;\n",
              "    }\n",
              "\n",
              "    .dataframe thead th {\n",
              "        text-align: right;\n",
              "    }\n",
              "</style>\n",
              "<table border=\"1\" class=\"dataframe\">\n",
              "  <thead>\n",
              "    <tr style=\"text-align: right;\">\n",
              "      <th></th>\n",
              "      <th>Title</th>\n",
              "      <th>Author(s)</th>\n",
              "      <th>Number in Series</th>\n",
              "      <th>Series Title</th>\n",
              "      <th>Length of Series</th>\n",
              "      <th>Publication Month</th>\n",
              "      <th>Publication Day</th>\n",
              "      <th>Publication Year</th>\n",
              "      <th>Number of Pages</th>\n",
              "      <th>Genres</th>\n",
              "      <th>...</th>\n",
              "      <th>Rating</th>\n",
              "      <th>Number of Ratings</th>\n",
              "      <th>Number of 5-Star Ratings</th>\n",
              "      <th>Number of 4-Star Ratings</th>\n",
              "      <th>Number of 3-Star Ratings</th>\n",
              "      <th>Number of 2-Star Ratings</th>\n",
              "      <th>Number of 1-Star Ratings</th>\n",
              "      <th>Number of Reviews</th>\n",
              "      <th>Cover Image Tag</th>\n",
              "      <th>Synopsis</th>\n",
              "    </tr>\n",
              "  </thead>\n",
              "  <tbody>\n",
              "    <tr>\n",
              "      <th>count</th>\n",
              "      <td>546</td>\n",
              "      <td>542</td>\n",
              "      <td>135</td>\n",
              "      <td>134</td>\n",
              "      <td>148</td>\n",
              "      <td>279</td>\n",
              "      <td>538</td>\n",
              "      <td>525</td>\n",
              "      <td>532</td>\n",
              "      <td>471</td>\n",
              "      <td>...</td>\n",
              "      <td>546</td>\n",
              "      <td>546</td>\n",
              "      <td>546</td>\n",
              "      <td>546</td>\n",
              "      <td>546</td>\n",
              "      <td>546</td>\n",
              "      <td>546</td>\n",
              "      <td>546</td>\n",
              "      <td>546</td>\n",
              "      <td>532</td>\n",
              "    </tr>\n",
              "    <tr>\n",
              "      <th>unique</th>\n",
              "      <td>545</td>\n",
              "      <td>405</td>\n",
              "      <td>16</td>\n",
              "      <td>81</td>\n",
              "      <td>23</td>\n",
              "      <td>12</td>\n",
              "      <td>38</td>\n",
              "      <td>179</td>\n",
              "      <td>321</td>\n",
              "      <td>463</td>\n",
              "      <td>...</td>\n",
              "      <td>127</td>\n",
              "      <td>539</td>\n",
              "      <td>530</td>\n",
              "      <td>525</td>\n",
              "      <td>524</td>\n",
              "      <td>492</td>\n",
              "      <td>453</td>\n",
              "      <td>492</td>\n",
              "      <td>540</td>\n",
              "      <td>532</td>\n",
              "    </tr>\n",
              "    <tr>\n",
              "      <th>top</th>\n",
              "      <td>Inferno</td>\n",
              "      <td>William Shakespeare</td>\n",
              "      <td>1</td>\n",
              "      <td>Sherlock Holmes</td>\n",
              "      <td>3</td>\n",
              "      <td>January</td>\n",
              "      <td>19</td>\n",
              "      <td>2003</td>\n",
              "      <td>400</td>\n",
              "      <td>Classics, Historical Fiction, Childrens, Ficti...</td>\n",
              "      <td>...</td>\n",
              "      <td>3.91</td>\n",
              "      <td>43</td>\n",
              "      <td>0</td>\n",
              "      <td>1</td>\n",
              "      <td>0</td>\n",
              "      <td>0</td>\n",
              "      <td>0</td>\n",
              "      <td>1</td>\n",
              "      <td>https://s.gr-assets.com/assets/nophoto/book/bl...</td>\n",
              "      <td>Among the seminal texts of the 20th century,Ni...</td>\n",
              "    </tr>\n",
              "    <tr>\n",
              "      <th>freq</th>\n",
              "      <td>2</td>\n",
              "      <td>14</td>\n",
              "      <td>69</td>\n",
              "      <td>9</td>\n",
              "      <td>31</td>\n",
              "      <td>40</td>\n",
              "      <td>184</td>\n",
              "      <td>28</td>\n",
              "      <td>9</td>\n",
              "      <td>3</td>\n",
              "      <td>...</td>\n",
              "      <td>16</td>\n",
              "      <td>2</td>\n",
              "      <td>5</td>\n",
              "      <td>5</td>\n",
              "      <td>5</td>\n",
              "      <td>13</td>\n",
              "      <td>13</td>\n",
              "      <td>8</td>\n",
              "      <td>7</td>\n",
              "      <td>1</td>\n",
              "    </tr>\n",
              "  </tbody>\n",
              "</table>\n",
              "<p>4 rows × 21 columns</p>\n",
              "</div>\n",
              "      <button class=\"colab-df-convert\" onclick=\"convertToInteractive('df-31371e57-aabb-4461-9cc8-6aca1f251eaa')\"\n",
              "              title=\"Convert this dataframe to an interactive table.\"\n",
              "              style=\"display:none;\">\n",
              "        \n",
              "  <svg xmlns=\"http://www.w3.org/2000/svg\" height=\"24px\"viewBox=\"0 0 24 24\"\n",
              "       width=\"24px\">\n",
              "    <path d=\"M0 0h24v24H0V0z\" fill=\"none\"/>\n",
              "    <path d=\"M18.56 5.44l.94 2.06.94-2.06 2.06-.94-2.06-.94-.94-2.06-.94 2.06-2.06.94zm-11 1L8.5 8.5l.94-2.06 2.06-.94-2.06-.94L8.5 2.5l-.94 2.06-2.06.94zm10 10l.94 2.06.94-2.06 2.06-.94-2.06-.94-.94-2.06-.94 2.06-2.06.94z\"/><path d=\"M17.41 7.96l-1.37-1.37c-.4-.4-.92-.59-1.43-.59-.52 0-1.04.2-1.43.59L10.3 9.45l-7.72 7.72c-.78.78-.78 2.05 0 2.83L4 21.41c.39.39.9.59 1.41.59.51 0 1.02-.2 1.41-.59l7.78-7.78 2.81-2.81c.8-.78.8-2.07 0-2.86zM5.41 20L4 18.59l7.72-7.72 1.47 1.35L5.41 20z\"/>\n",
              "  </svg>\n",
              "      </button>\n",
              "      \n",
              "  <style>\n",
              "    .colab-df-container {\n",
              "      display:flex;\n",
              "      flex-wrap:wrap;\n",
              "      gap: 12px;\n",
              "    }\n",
              "\n",
              "    .colab-df-convert {\n",
              "      background-color: #E8F0FE;\n",
              "      border: none;\n",
              "      border-radius: 50%;\n",
              "      cursor: pointer;\n",
              "      display: none;\n",
              "      fill: #1967D2;\n",
              "      height: 32px;\n",
              "      padding: 0 0 0 0;\n",
              "      width: 32px;\n",
              "    }\n",
              "\n",
              "    .colab-df-convert:hover {\n",
              "      background-color: #E2EBFA;\n",
              "      box-shadow: 0px 1px 2px rgba(60, 64, 67, 0.3), 0px 1px 3px 1px rgba(60, 64, 67, 0.15);\n",
              "      fill: #174EA6;\n",
              "    }\n",
              "\n",
              "    [theme=dark] .colab-df-convert {\n",
              "      background-color: #3B4455;\n",
              "      fill: #D2E3FC;\n",
              "    }\n",
              "\n",
              "    [theme=dark] .colab-df-convert:hover {\n",
              "      background-color: #434B5C;\n",
              "      box-shadow: 0px 1px 3px 1px rgba(0, 0, 0, 0.15);\n",
              "      filter: drop-shadow(0px 1px 2px rgba(0, 0, 0, 0.3));\n",
              "      fill: #FFFFFF;\n",
              "    }\n",
              "  </style>\n",
              "\n",
              "      <script>\n",
              "        const buttonEl =\n",
              "          document.querySelector('#df-31371e57-aabb-4461-9cc8-6aca1f251eaa button.colab-df-convert');\n",
              "        buttonEl.style.display =\n",
              "          google.colab.kernel.accessAllowed ? 'block' : 'none';\n",
              "\n",
              "        async function convertToInteractive(key) {\n",
              "          const element = document.querySelector('#df-31371e57-aabb-4461-9cc8-6aca1f251eaa');\n",
              "          const dataTable =\n",
              "            await google.colab.kernel.invokeFunction('convertToInteractive',\n",
              "                                                     [key], {});\n",
              "          if (!dataTable) return;\n",
              "\n",
              "          const docLinkHtml = 'Like what you see? Visit the ' +\n",
              "            '<a target=\"_blank\" href=https://colab.research.google.com/notebooks/data_table.ipynb>data table notebook</a>'\n",
              "            + ' to learn more about interactive tables.';\n",
              "          element.innerHTML = '';\n",
              "          dataTable['output_type'] = 'display_data';\n",
              "          await google.colab.output.renderOutput(dataTable, element);\n",
              "          const docLink = document.createElement('div');\n",
              "          docLink.innerHTML = docLinkHtml;\n",
              "          element.appendChild(docLink);\n",
              "        }\n",
              "      </script>\n",
              "    </div>\n",
              "  </div>\n",
              "  "
            ]
          },
          "metadata": {},
          "execution_count": 5
        }
      ]
    },
    {
      "cell_type": "markdown",
      "source": [
        "Table Summary\n",
        "\n",
        "* 546 books in the Rory Gilmore booklist\n",
        "* 21 columns containing book data"
      ],
      "metadata": {
        "id": "XTEKy9Nj7UWF"
      }
    },
    {
      "cell_type": "markdown",
      "source": [
        "## Analysis of book titles"
      ],
      "metadata": {
        "id": "LmV-Gyps73uw"
      }
    },
    {
      "cell_type": "markdown",
      "source": [
        "Display a wordcloud from the book titles to see the most frequent words"
      ],
      "metadata": {
        "id": "-qQwrwFueNFD"
      }
    },
    {
      "cell_type": "code",
      "source": [
        "def clean_text(series):\n",
        "  '''\n",
        "  Clean the series by removing all words contained in the defined removal list\n",
        "\n",
        "  [Args]\n",
        "  :series: {pandas series} (n,) A selected series from the pandas dataframe\n",
        "\n",
        "  [Returns]\n",
        "  :cleaned_series: {pandas series} (n,) The cleaned series with all of the unwanted text removed\n",
        "  '''\n",
        "\n",
        "  # Creates a list of words that will be removed from the text\n",
        "  stop_words = [\"ourselves\", \"hers\", \"between\", \"yourself\", \"but\", \"again\", \"there\", \"about\", \"once\", \n",
        "                    \"during\", \"out\", \"very\", \"having\", \"with\", \"they\", \"own\", \"an\", \"be\", \"some\", \"for\", \n",
        "                    \"do\", \"its\", \"yours\", \"such\", \"into\", \"of\", \"most\", \"itself\", \"other\", \"off\", \"is\", \n",
        "                    \"s\", \"am\", \"or\", \"who\", \"as\", \"from\", \"him\", \"each\", \"the\", \"themselves\", \"until\", \n",
        "                    \"below\", \"are\", \"we\", \"these\", \"your\", \"his\", \"through\", \"don\", \"nor\", \"me\", \"were\", \n",
        "                    \"her\", \"more\", \"himself\", \"this\", \"down\", \"should\", \"our\", \"their\", \"while\", \"above\", \n",
        "                    \"both\", \"up\", \"to\", \"ours\", \"had\", \"she\", \"all\", \"no\", \"when\", \"at\", \"any\", \"before\", \n",
        "                    \"them\", \"same\", \"and\", \"been\", \"have\", \"in\", \"will\", \"on\", \"does\", \"yourselves\", \"then\", \n",
        "                    \"that\", \"because\", \"what\", \"over\", \"why\", \"so\", \"can\", \"did\", \"not\", \"now\", \"under\", \"he\", \n",
        "                    \"you\", \"herself\", \"has\", \"just\", \"where\", \"too\", \"only\", \"myself\", \"which\", \"those\", \"i\", \n",
        "                    \"after\", \"few\", \"whom\", \"t\", \"being\", \"if\", \"theirs\", \"my\", \"against\", \"a\", \"by\", \"doing\", \n",
        "                    \"it\", \"how\", \"further\", \"was\", \"here\", \"than\"]\n",
        "  contractions_dict = { \"ain't\": \"are not\",\"'s\":\" is\",\"aren't\": \"are not\",\n",
        "                      \"can't\": \"cannot\",\"can't've\": \"cannot have\",\n",
        "                      \"'cause\": \"because\",\"could've\": \"could have\",\"couldn't\": \"could not\",\n",
        "                      \"couldn't've\": \"could not have\", \"didn't\": \"did not\",\"doesn't\": \"does not\",\n",
        "                      \"don't\": \"do not\",\"hadn't\": \"had not\",\"hadn't've\": \"had not have\",\n",
        "                      \"hasn't\": \"has not\",\"haven't\": \"have not\",\"he'd\": \"he would\",\n",
        "                      \"he'd've\": \"he would have\",\"he'll\": \"he will\", \"he'll've\": \"he will have\",\n",
        "                      \"how'd\": \"how did\",\"how'd'y\": \"how do you\",\"how'll\": \"how will\",\n",
        "                      \"I'd\": \"I would\", \"I'd've\": \"I would have\",\"I'll\": \"I will\",\n",
        "                      \"I'll've\": \"I will have\",\"I'm\": \"I am\",\"I've\": \"I have\", \"isn't\": \"is not\",\n",
        "                      \"it'd\": \"it would\",\"it'd've\": \"it would have\",\"it'll\": \"it will\",\n",
        "                      \"it'll've\": \"it will have\", \"let's\": \"let us\",\"ma'am\": \"madam\",\n",
        "                      \"mayn't\": \"may not\",\"might've\": \"might have\",\"mightn't\": \"might not\", \n",
        "                      \"mightn't've\": \"might not have\",\"must've\": \"must have\",\"mustn't\": \"must not\",\n",
        "                      \"mustn't've\": \"must not have\", \"needn't\": \"need not\",\n",
        "                      \"needn't've\": \"need not have\",\"o'clock\": \"of the clock\",\"oughtn't\": \"ought not\",\n",
        "                      \"oughtn't've\": \"ought not have\",\"shan't\": \"shall not\",\"sha'n't\": \"shall not\",\n",
        "                      \"shan't've\": \"shall not have\",\"she'd\": \"she would\",\"she'd've\": \"she would have\",\n",
        "                      \"she'll\": \"she will\", \"she'll've\": \"she will have\",\"should've\": \"should have\",\n",
        "                      \"shouldn't\": \"should not\", \"shouldn't've\": \"should not have\",\"so've\": \"so have\",\n",
        "                      \"that'd\": \"that would\",\"that'd've\": \"that would have\", \"there'd\": \"there would\",\n",
        "                      \"there'd've\": \"there would have\", \"they'd\": \"they would\",\n",
        "                      \"they'd've\": \"they would have\",\"they'll\": \"they will\",\n",
        "                      \"they'll've\": \"they will have\", \"they're\": \"they are\",\"they've\": \"they have\",\n",
        "                      \"to've\": \"to have\",\"wasn't\": \"was not\",\"we'd\": \"we would\",\n",
        "                      \"we'd've\": \"we would have\",\"we'll\": \"we will\",\"we'll've\": \"we will have\",\n",
        "                      \"we're\": \"we are\",\"we've\": \"we have\", \"weren't\": \"were not\",\"what'll\": \"what will\",\n",
        "                      \"what'll've\": \"what will have\",\"what're\": \"what are\", \"what've\": \"what have\",\n",
        "                      \"when've\": \"when have\",\"where'd\": \"where did\", \"where've\": \"where have\",\n",
        "                      \"who'll\": \"who will\",\"who'll've\": \"who will have\",\"who've\": \"who have\",\n",
        "                      \"why've\": \"why have\",\"will've\": \"will have\",\"won't\": \"will not\",\n",
        "                      \"won't've\": \"will not have\", \"would've\": \"would have\",\"wouldn't\": \"would not\",\n",
        "                      \"wouldn't've\": \"would not have\",\"y'all\": \"you all\", \"y'all'd\": \"you all would\",\n",
        "                      \"y'all'd've\": \"you all would have\",\"y'all're\": \"you all are\",\n",
        "                      \"y'all've\": \"you all have\", \"you'd\": \"you would\",\"you'd've\": \"you would have\",\n",
        "                      \"you'll\": \"you will\",\"you'll've\": \"you will have\", \"you're\": \"you are\",\n",
        "                      \"you've\": \"you have\"}\n",
        "  contractions = list(contractions_dict.keys()) \n",
        "  expanded_contractions = ' '.join(list(contractions_dict.values()), ).split(' ')\n",
        "  all_removed_words = stop_words + contractions + expanded_contractions \n",
        "  unique_removed_words = list(Counter(all_removed_words).keys())\n",
        "\n",
        "  # Removes all of the words in the removal list from the text\n",
        "  cleaned_series = []\n",
        "  for element in series:\n",
        "    element_words = element.split(' ')\n",
        "    cleaned_element = []\n",
        "    for word in element_words:\n",
        "      if word.lower() not in unique_removed_words:\n",
        "        cleaned_element.append(word)\n",
        "    cleaned_element = ' '. join(cleaned_element)\n",
        "    cleaned_element = cleaned_element.translate(str.maketrans('', '', string.punctuation)) # remove all punctuation from the string\n",
        "    cleaned_series.append(cleaned_element)\n",
        "  cleaned_series = pd.Series(cleaned_series) \n",
        "  return cleaned_series"
      ],
      "metadata": {
        "id": "2bQ-YGyK78QM"
      },
      "execution_count": null,
      "outputs": []
    },
    {
      "cell_type": "code",
      "source": [
        "def convert_series_to_string(series):\n",
        "  '''\n",
        "  Combine a series of strings into a single string\n",
        "\n",
        "  [Args]\n",
        "  :series: {pandas series} (n,) A selected series from the pandas dataframe\n",
        "\n",
        "  [Returns]\n",
        "  :string: {string} The string created from combining all of the string elements in the series together\n",
        "  '''\n",
        "  string = ''\n",
        "  for element in series:\n",
        "    string = string + element + ' '\n",
        "  return string"
      ],
      "metadata": {
        "id": "HI_CX-YciGP5"
      },
      "execution_count": null,
      "outputs": []
    },
    {
      "cell_type": "code",
      "source": [
        "# Create a wordcloud from words in the title\n",
        "\n",
        "# Clean and format the titles for the wordcloud\n",
        "cleaned_titles_series = clean_text(titles)\n",
        "titles_string = convert_series_to_string(cleaned_titles_series)\n",
        "\n",
        "# Generate the wordcloud image\n",
        "wordcloud = WordCloud(background_color=\"white\").generate(titles_string)\n",
        "\n",
        "# Display the wordcloud image\n",
        "plt.imshow(wordcloud, interpolation='bilinear')\n",
        "plt.axis(\"off\")\n",
        "plt.show()"
      ],
      "metadata": {
        "colab": {
          "base_uri": "https://localhost:8080/",
          "height": 198
        },
        "id": "fxfWVrURF_wa",
        "outputId": "75055383-59b3-490e-cf82-508adb6ca570"
      },
      "execution_count": null,
      "outputs": [
        {
          "output_type": "display_data",
          "data": {
            "text/plain": [
              "<Figure size 432x288 with 1 Axes>"
            ],
            "image/png": "[encoded data removed]"
          },
          "metadata": {
            "needs_background": "light"
          }
        }
      ]
    },
    {
      "cell_type": "markdown",
      "source": [
        "## Analysis of authors"
      ],
      "metadata": {
        "id": "2WtjoMzqGCRo"
      }
    },
    {
      "cell_type": "markdown",
      "source": [
        "Determine the top authors from the Rory Gilmore booklist"
      ],
      "metadata": {
        "id": "ooUuUUL9io4e"
      }
    },
    {
      "cell_type": "code",
      "source": [
        "def sort_counter(series):\n",
        "  '''\n",
        "  Sort the elements in a series by frequency and save the data into a pandas dataframe\n",
        "\n",
        "  [Args]\n",
        "  :series: {pandas series} (n,) A selected series from the pandas dataframe\n",
        "\n",
        "  [Returns]\n",
        "  :sorted_df: {pandas dataframe} (n, 2) Dataframe with the elements sorted by their frequency\n",
        "  '''\n",
        "  counter_dict = Counter(series)\n",
        "  dict_keys = list(counter_dict.keys())\n",
        "  dict_values = list(counter_dict.values())\n",
        "  df_dict = {'Keys': dict_keys, 'Count': dict_values}\n",
        "  sorted_df = pd.DataFrame(df_dict).sort_values(by=['Count'])\n",
        "  return sorted_df"
      ],
      "metadata": {
        "id": "RvZwu4onPcXi"
      },
      "execution_count": null,
      "outputs": []
    },
    {
      "cell_type": "code",
      "source": [
        "def find_keys_match_all(keys, keys_series, match_series):\n",
        "  '''\n",
        "  Find all of the elements in the match series that are in the same row as the keys in the keys series\n",
        "\n",
        "  [Args]\n",
        "  :keys: {list} A list containg the keys that you want to find the match for\n",
        "  :keys_series: {pandas series} (n,) A selected series from the pandas dataframe that contains the keys as elements\n",
        "  :match_series: {pandas series} (n,) A selected series from the pandas dataframe that contains the matches for the keys\n",
        "\n",
        "  [Returns]\n",
        "  :matches: {list} A list of strings, where each sting is the matche to a key\n",
        "  '''\n",
        "  matches = []\n",
        "  for key in keys:\n",
        "    match = match_series[keys_series[keys_series == key].index[:]].values\n",
        "    try:\n",
        "      match = ', '.join(match)\n",
        "    except:\n",
        "      pass\n",
        "    matches.append(match)\n",
        "  return matches"
      ],
      "metadata": {
        "id": "DBEDOZEXX8YY"
      },
      "execution_count": null,
      "outputs": []
    },
    {
      "cell_type": "code",
      "source": [
        "def format_hover_text(list_of_strings):\n",
        "  '''\n",
        "  Formats all the strings in a list so that they are displayed as hover text in a graph or chart correctly\n",
        "\n",
        "  [Args]\n",
        "  :list_of_strings: {list} A list of strings that list items\n",
        "\n",
        "  [Returns]\n",
        "  :formatted_string: {list} A list of strings formatted to display as hover text correctly\n",
        "  '''\n",
        "  formatted_list = []\n",
        "  for string in list_of_strings:\n",
        "    formatted_string = string.replace(', ', '<br>')\n",
        "    formatted_list.append(formatted_string)\n",
        "  return formatted_list"
      ],
      "metadata": {
        "id": "1dFbtiRYBK55"
      },
      "execution_count": null,
      "outputs": []
    },
    {
      "cell_type": "code",
      "source": [
        "# Create a bar chart for the top  authors\n",
        "\n",
        "# Collect data on the top authors, the number of books they've published and the titles of those books \n",
        "sorted_authors_df = sort_counter(authors)\n",
        "top_authors_df = sorted_authors_df.tail(10)\n",
        "books_from_top_authors = find_keys_match_all(top_authors_df['Keys'], authors, titles)\n",
        "books_from_top_authors_formatted = format_hover_text(books_from_top_authors)\n",
        "\n",
        "# Display the bar chart\n",
        "fig = px.bar(top_authors_df,\n",
        "             y='Keys', \n",
        "             x='Count',\n",
        "             custom_data=[books_from_top_authors_formatted],\n",
        "             title='Top Authors in the Rory Gilmore Booklist',\n",
        "             orientation='h')\n",
        "fig.update_traces(hovertemplate='<br>'.join(['Book Count = %{x}',\n",
        "                                             'Author = %{y}',\n",
        "                                             'Titles = %{customdata[0]}']))\n",
        "fig.update_layout(xaxis={'title': 'Book Count'},\n",
        "                  yaxis={'title': 'Authors'},\n",
        "                  showlegend=False)\n",
        "fig.show()"
      ],
      "metadata": {
        "colab": {
          "base_uri": "https://localhost:8080/",
          "height": 542
        },
        "id": "F7W_pZX44z2u",
        "outputId": "6af2ae98-def9-482e-d25c-b954a74e3305"
      },
      "execution_count": null,
      "outputs": [
        {
          "output_type": "display_data",
          "data": {
            "text/html": [
              "<html>\n",
              "<head><meta charset=\"utf-8\" /></head>\n",
              "<body>\n",
              "    <div>            <script src=\"https://cdnjs.cloudflare.com/ajax/libs/mathjax/2.7.5/MathJax.js?config=TeX-AMS-MML_SVG\"></script><script type=\"text/javascript\">if (window.MathJax) {MathJax.Hub.Config({SVG: {font: \"STIX-Web\"}});}</script>                <script type=\"text/javascript\">window.PlotlyConfig = {MathJaxConfig: 'local'};</script>\n",
              "        <script src=\"https://cdn.plot.ly/plotly-2.8.3.min.js\"></script>                <div id=\"89dc168d-9ab6-4b1e-85db-814b45f0a269\" class=\"plotly-graph-div\" style=\"height:525px; width:100%;\"></div>            <script type=\"text/javascript\">                                    window.PLOTLYENV=window.PLOTLYENV || {};                                    if (document.getElementById(\"89dc168d-9ab6-4b1e-85db-814b45f0a269\")) {                    Plotly.newPlot(                        \"89dc168d-9ab6-4b1e-85db-814b45f0a269\",                        [{\"alignmentgroup\":\"True\",\"customdata\":[[\"Of Human Bondage<br>Points of View<br>The Razor's Edge<br>Theatre\"],[\"A Game of Thrones<br>A Clash of Kings<br>A Storm of Swords<br>A Feast for Crows<br>A Dance with Dragons\"],[\"A Movable Feast<br>The Old Man and the Sea<br>The Snows of Kilimanjaro<br>The Sun Also Rises<br>To Have and Have Not\"],[\"The Da Vinci Code<br>Angels & Demons<br>The Lost Symbol<br>Inferno<br>Origin\"],[\"Carrie<br>Christine<br>Cujo<br>Misery<br>Rita Hayworth and Shawshank Redemption<br>The Shining\"],[\"Harry Potter and the Goblet of Fire<br>Harry Potter and the Sorcerer's Stone<br>Harry Potter and the Chamber of Secrets<br>Harry Potter and the Prisoner of Azkaban<br>Harry Potter and the Order of the Phoenix<br>Harry Potter and the Half-Blood Prince<br>Harry Potter and the Deathly Hallows\"],[\"A Christmas Carol<br>David Copperfield<br>Little Dorrit<br>Nicholas Nickleby<br>Oliver Twist<br>Our Mutual Friend<br>A Tale of Two Cities\"],[\"Little House in the Big Woods<br>Little House on the Prairie<br>Farmer Boy<br>On the Banks of Plum Creek<br>By the Shores of Silver Lake<br>The Long Winter<br>Little Town on the Prairie<br>These Happy Golden Years<br>The First Four Years\"],[\"A Study in Scarlet<br>The Sign of Four<br>The Adventures of Sherlock Holmes<br>The Memoirs of Sherlock Holmes<br>The Hound of the Baskervilles<br>The Return of Sherlock Holmes<br>The Valley of Fear<br>His Last Bow<br>The Case-Book of Sherlock Holmes\"],[\"The Comedy of Errors<br>Hamlet<br>Henry IV<br>Part 2<br>Henry V<br>Henry VI (Parts I<br>II and III)<br>Macbeth<br>The Merry Wives of Windsor<br>A Midsummer Night's Dream<br>Othello<br>The Oxford Complete Works of Shakespeare<br>Richard III<br>Romeo and Juliet<br>The Sonnets - William Shakespeare<br>The Tragedy of King Richard III\"]],\"hovertemplate\":\"Book Count = %{x}<br>Author = %{y}<br>Titles = %{customdata[0]}\",\"legendgroup\":\"\",\"marker\":{\"color\":\"#636efa\",\"pattern\":{\"shape\":\"\"}},\"name\":\"\",\"offsetgroup\":\"\",\"orientation\":\"h\",\"showlegend\":false,\"textposition\":\"auto\",\"x\":[4,5,5,5,6,7,7,9,9,14],\"xaxis\":\"x\",\"y\":[\"W. Somerset Maugham\",\"George R.R. Martin\",\"Ernest Hemingway\",\"Dan Brown\",\"Stephen King\",\"J.K. Rowling\",\"Charles Dickens\",\"Laura Ingalls Wilder\",\"Arthur Conan Doyle\",\"William Shakespeare\"],\"yaxis\":\"y\",\"type\":\"bar\"}],                        {\"template\":{\"data\":{\"bar\":[{\"error_x\":{\"color\":\"#2a3f5f\"},\"error_y\":{\"color\":\"#2a3f5f\"},\"marker\":{\"line\":{\"color\":\"#E5ECF6\",\"width\":0.5},\"pattern\":{\"fillmode\":\"overlay\",\"size\":10,\"solidity\":0.2}},\"type\":\"bar\"}],\"barpolar\":[{\"marker\":{\"line\":{\"color\":\"#E5ECF6\",\"width\":0.5},\"pattern\":{\"fillmode\":\"overlay\",\"size\":10,\"solidity\":0.2}},\"type\":\"barpolar\"}],\"carpet\":[{\"aaxis\":{\"endlinecolor\":\"#2a3f5f\",\"gridcolor\":\"white\",\"linecolor\":\"white\",\"minorgridcolor\":\"white\",\"startlinecolor\":\"#2a3f5f\"},\"baxis\":{\"endlinecolor\":\"#2a3f5f\",\"gridcolor\":\"white\",\"linecolor\":\"white\",\"minorgridcolor\":\"white\",\"startlinecolor\":\"#2a3f5f\"},\"type\":\"carpet\"}],\"choropleth\":[{\"colorbar\":{\"outlinewidth\":0,\"ticks\":\"\"},\"type\":\"choropleth\"}],\"contour\":[{\"colorbar\":{\"outlinewidth\":0,\"ticks\":\"\"},\"colorscale\":[[0.0,\"#0d0887\"],[0.1111111111111111,\"#46039f\"],[0.2222222222222222,\"#7201a8\"],[0.3333333333333333,\"#9c179e\"],[0.4444444444444444,\"#bd3786\"],[0.5555555555555556,\"#d8576b\"],[0.6666666666666666,\"#ed7953\"],[0.7777777777777778,\"#fb9f3a\"],[0.8888888888888888,\"#fdca26\"],[1.0,\"#f0f921\"]],\"type\":\"contour\"}],\"contourcarpet\":[{\"colorbar\":{\"outlinewidth\":0,\"ticks\":\"\"},\"type\":\"contourcarpet\"}],\"heatmap\":[{\"colorbar\":{\"outlinewidth\":0,\"ticks\":\"\"},\"colorscale\":[[0.0,\"#0d0887\"],[0.1111111111111111,\"#46039f\"],[0.2222222222222222,\"#7201a8\"],[0.3333333333333333,\"#9c179e\"],[0.4444444444444444,\"#bd3786\"],[0.5555555555555556,\"#d8576b\"],[0.6666666666666666,\"#ed7953\"],[0.7777777777777778,\"#fb9f3a\"],[0.8888888888888888,\"#fdca26\"],[1.0,\"#f0f921\"]],\"type\":\"heatmap\"}],\"heatmapgl\":[{\"colorbar\":{\"outlinewidth\":0,\"ticks\":\"\"},\"colorscale\":[[0.0,\"#0d0887\"],[0.1111111111111111,\"#46039f\"],[0.2222222222222222,\"#7201a8\"],[0.3333333333333333,\"#9c179e\"],[0.4444444444444444,\"#bd3786\"],[0.5555555555555556,\"#d8576b\"],[0.6666666666666666,\"#ed7953\"],[0.7777777777777778,\"#fb9f3a\"],[0.8888888888888888,\"#fdca26\"],[1.0,\"#f0f921\"]],\"type\":\"heatmapgl\"}],\"histogram\":[{\"marker\":{\"pattern\":{\"fillmode\":\"overlay\",\"size\":10,\"solidity\":0.2}},\"type\":\"histogram\"}],\"histogram2d\":[{\"colorbar\":{\"outlinewidth\":0,\"ticks\":\"\"},\"colorscale\":[[0.0,\"#0d0887\"],[0.1111111111111111,\"#46039f\"],[0.2222222222222222,\"#7201a8\"],[0.3333333333333333,\"#9c179e\"],[0.4444444444444444,\"#bd3786\"],[0.5555555555555556,\"#d8576b\"],[0.6666666666666666,\"#ed7953\"],[0.7777777777777778,\"#fb9f3a\"],[0.8888888888888888,\"#fdca26\"],[1.0,\"#f0f921\"]],\"type\":\"histogram2d\"}],\"histogram2dcontour\":[{\"colorbar\":{\"outlinewidth\":0,\"ticks\":\"\"},\"colorscale\":[[0.0,\"#0d0887\"],[0.1111111111111111,\"#46039f\"],[0.2222222222222222,\"#7201a8\"],[0.3333333333333333,\"#9c179e\"],[0.4444444444444444,\"#bd3786\"],[0.5555555555555556,\"#d8576b\"],[0.6666666666666666,\"#ed7953\"],[0.7777777777777778,\"#fb9f3a\"],[0.8888888888888888,\"#fdca26\"],[1.0,\"#f0f921\"]],\"type\":\"histogram2dcontour\"}],\"mesh3d\":[{\"colorbar\":{\"outlinewidth\":0,\"ticks\":\"\"},\"type\":\"mesh3d\"}],\"parcoords\":[{\"line\":{\"colorbar\":{\"outlinewidth\":0,\"ticks\":\"\"}},\"type\":\"parcoords\"}],\"pie\":[{\"automargin\":true,\"type\":\"pie\"}],\"scatter\":[{\"marker\":{\"colorbar\":{\"outlinewidth\":0,\"ticks\":\"\"}},\"type\":\"scatter\"}],\"scatter3d\":[{\"line\":{\"colorbar\":{\"outlinewidth\":0,\"ticks\":\"\"}},\"marker\":{\"colorbar\":{\"outlinewidth\":0,\"ticks\":\"\"}},\"type\":\"scatter3d\"}],\"scattercarpet\":[{\"marker\":{\"colorbar\":{\"outlinewidth\":0,\"ticks\":\"\"}},\"type\":\"scattercarpet\"}],\"scattergeo\":[{\"marker\":{\"colorbar\":{\"outlinewidth\":0,\"ticks\":\"\"}},\"type\":\"scattergeo\"}],\"scattergl\":[{\"marker\":{\"colorbar\":{\"outlinewidth\":0,\"ticks\":\"\"}},\"type\":\"scattergl\"}],\"scattermapbox\":[{\"marker\":{\"colorbar\":{\"outlinewidth\":0,\"ticks\":\"\"}},\"type\":\"scattermapbox\"}],\"scatterpolar\":[{\"marker\":{\"colorbar\":{\"outlinewidth\":0,\"ticks\":\"\"}},\"type\":\"scatterpolar\"}],\"scatterpolargl\":[{\"marker\":{\"colorbar\":{\"outlinewidth\":0,\"ticks\":\"\"}},\"type\":\"scatterpolargl\"}],\"scatterternary\":[{\"marker\":{\"colorbar\":{\"outlinewidth\":0,\"ticks\":\"\"}},\"type\":\"scatterternary\"}],\"surface\":[{\"colorbar\":{\"outlinewidth\":0,\"ticks\":\"\"},\"colorscale\":[[0.0,\"#0d0887\"],[0.1111111111111111,\"#46039f\"],[0.2222222222222222,\"#7201a8\"],[0.3333333333333333,\"#9c179e\"],[0.4444444444444444,\"#bd3786\"],[0.5555555555555556,\"#d8576b\"],[0.6666666666666666,\"#ed7953\"],[0.7777777777777778,\"#fb9f3a\"],[0.8888888888888888,\"#fdca26\"],[1.0,\"#f0f921\"]],\"type\":\"surface\"}],\"table\":[{\"cells\":{\"fill\":{\"color\":\"#EBF0F8\"},\"line\":{\"color\":\"white\"}},\"header\":{\"fill\":{\"color\":\"#C8D4E3\"},\"line\":{\"color\":\"white\"}},\"type\":\"table\"}]},\"layout\":{\"annotationdefaults\":{\"arrowcolor\":\"#2a3f5f\",\"arrowhead\":0,\"arrowwidth\":1},\"autotypenumbers\":\"strict\",\"coloraxis\":{\"colorbar\":{\"outlinewidth\":0,\"ticks\":\"\"}},\"colorscale\":{\"diverging\":[[0,\"#8e0152\"],[0.1,\"#c51b7d\"],[0.2,\"#de77ae\"],[0.3,\"#f1b6da\"],[0.4,\"#fde0ef\"],[0.5,\"#f7f7f7\"],[0.6,\"#e6f5d0\"],[0.7,\"#b8e186\"],[0.8,\"#7fbc41\"],[0.9,\"#4d9221\"],[1,\"#276419\"]],\"sequential\":[[0.0,\"#0d0887\"],[0.1111111111111111,\"#46039f\"],[0.2222222222222222,\"#7201a8\"],[0.3333333333333333,\"#9c179e\"],[0.4444444444444444,\"#bd3786\"],[0.5555555555555556,\"#d8576b\"],[0.6666666666666666,\"#ed7953\"],[0.7777777777777778,\"#fb9f3a\"],[0.8888888888888888,\"#fdca26\"],[1.0,\"#f0f921\"]],\"sequentialminus\":[[0.0,\"#0d0887\"],[0.1111111111111111,\"#46039f\"],[0.2222222222222222,\"#7201a8\"],[0.3333333333333333,\"#9c179e\"],[0.4444444444444444,\"#bd3786\"],[0.5555555555555556,\"#d8576b\"],[0.6666666666666666,\"#ed7953\"],[0.7777777777777778,\"#fb9f3a\"],[0.8888888888888888,\"#fdca26\"],[1.0,\"#f0f921\"]]},\"colorway\":[\"#636efa\",\"#EF553B\",\"#00cc96\",\"#ab63fa\",\"#FFA15A\",\"#19d3f3\",\"#FF6692\",\"#B6E880\",\"#FF97FF\",\"#FECB52\"],\"font\":{\"color\":\"#2a3f5f\"},\"geo\":{\"bgcolor\":\"white\",\"lakecolor\":\"white\",\"landcolor\":\"#E5ECF6\",\"showlakes\":true,\"showland\":true,\"subunitcolor\":\"white\"},\"hoverlabel\":{\"align\":\"left\"},\"hovermode\":\"closest\",\"mapbox\":{\"style\":\"light\"},\"paper_bgcolor\":\"white\",\"plot_bgcolor\":\"#E5ECF6\",\"polar\":{\"angularaxis\":{\"gridcolor\":\"white\",\"linecolor\":\"white\",\"ticks\":\"\"},\"bgcolor\":\"#E5ECF6\",\"radialaxis\":{\"gridcolor\":\"white\",\"linecolor\":\"white\",\"ticks\":\"\"}},\"scene\":{\"xaxis\":{\"backgroundcolor\":\"#E5ECF6\",\"gridcolor\":\"white\",\"gridwidth\":2,\"linecolor\":\"white\",\"showbackground\":true,\"ticks\":\"\",\"zerolinecolor\":\"white\"},\"yaxis\":{\"backgroundcolor\":\"#E5ECF6\",\"gridcolor\":\"white\",\"gridwidth\":2,\"linecolor\":\"white\",\"showbackground\":true,\"ticks\":\"\",\"zerolinecolor\":\"white\"},\"zaxis\":{\"backgroundcolor\":\"#E5ECF6\",\"gridcolor\":\"white\",\"gridwidth\":2,\"linecolor\":\"white\",\"showbackground\":true,\"ticks\":\"\",\"zerolinecolor\":\"white\"}},\"shapedefaults\":{\"line\":{\"color\":\"#2a3f5f\"}},\"ternary\":{\"aaxis\":{\"gridcolor\":\"white\",\"linecolor\":\"white\",\"ticks\":\"\"},\"baxis\":{\"gridcolor\":\"white\",\"linecolor\":\"white\",\"ticks\":\"\"},\"bgcolor\":\"#E5ECF6\",\"caxis\":{\"gridcolor\":\"white\",\"linecolor\":\"white\",\"ticks\":\"\"}},\"title\":{\"x\":0.05},\"xaxis\":{\"automargin\":true,\"gridcolor\":\"white\",\"linecolor\":\"white\",\"ticks\":\"\",\"title\":{\"standoff\":15},\"zerolinecolor\":\"white\",\"zerolinewidth\":2},\"yaxis\":{\"automargin\":true,\"gridcolor\":\"white\",\"linecolor\":\"white\",\"ticks\":\"\",\"title\":{\"standoff\":15},\"zerolinecolor\":\"white\",\"zerolinewidth\":2}}},\"xaxis\":{\"anchor\":\"y\",\"domain\":[0.0,1.0],\"title\":{\"text\":\"Book Count\"}},\"yaxis\":{\"anchor\":\"x\",\"domain\":[0.0,1.0],\"title\":{\"text\":\"Authors\"}},\"legend\":{\"tracegroupgap\":0},\"title\":{\"text\":\"Top Authors in the Rory Gilmore Booklist\"},\"barmode\":\"relative\",\"showlegend\":false},                        {\"responsive\": true}                    ).then(function(){\n",
              "                            \n",
              "var gd = document.getElementById('89dc168d-9ab6-4b1e-85db-814b45f0a269');\n",
              "var x = new MutationObserver(function (mutations, observer) {{\n",
              "        var display = window.getComputedStyle(gd).display;\n",
              "        if (!display || display === 'none') {{\n",
              "            console.log([gd, 'removed!']);\n",
              "            Plotly.purge(gd);\n",
              "            observer.disconnect();\n",
              "        }}\n",
              "}});\n",
              "\n",
              "// Listen for the removal of the full notebook cells\n",
              "var notebookContainer = gd.closest('#notebook-container');\n",
              "if (notebookContainer) {{\n",
              "    x.observe(notebookContainer, {childList: true});\n",
              "}}\n",
              "\n",
              "// Listen for the clearing of the current output cell\n",
              "var outputEl = gd.closest('.output');\n",
              "if (outputEl) {{\n",
              "    x.observe(outputEl, {childList: true});\n",
              "}}\n",
              "\n",
              "                        })                };                            </script>        </div>\n",
              "</body>\n",
              "</html>"
            ]
          },
          "metadata": {}
        }
      ]
    },
    {
      "cell_type": "markdown",
      "source": [
        "## Analysis of book series"
      ],
      "metadata": {
        "id": "eTksQuwLE_RX"
      }
    },
    {
      "cell_type": "markdown",
      "source": [
        "Determine of breakdown of book that are in a series and books that are standalones"
      ],
      "metadata": {
        "id": "IubP-v7SFCDp"
      }
    },
    {
      "cell_type": "code",
      "source": [
        "# Create a pie chart showing the breakdown of standalones vs series\n",
        "\n",
        "# Collect data \n",
        "books_in_series = len(series_title)\n",
        "standalones = num_books - books_in_series\n",
        "sorted_series_df = sort_counter(series_title)\n",
        "length_matches = find_keys_match_all(sorted_series_df['Keys'], series_title, series_length) # Get series lengths\n",
        "series_lengths = []\n",
        "for length in length_matches:\n",
        "  series_lengths.append(length[0])\n",
        "sorted_series_df['Length'] = series_lengths\n",
        "title_matches = find_keys_match_all(sorted_series_df['Keys'], series_title, titles) # Get book titles from series\n",
        "title_matches = format_hover_text(title_matches)\n",
        "standalone_row = {'Keys': 'Standalones', 'Count': standalones, 'Length': None}\n",
        "series_standalones_df = sorted_series_df.append(standalone_row, ignore_index = True)\n",
        "\n",
        "# Display a pie chart of the data\n",
        "fig = px.pie(series_standalones_df, \n",
        "             values='Count', \n",
        "             names='Keys',\n",
        "             custom_data=['Length'],\n",
        "             title='Breakdown of Standalones vs Series in the Rory Gilmore Booklist')\n",
        "fig.update_traces(textposition='inside', \n",
        "                  textinfo='percent+label',\n",
        "                  text=title_matches,\n",
        "                  hovertemplate='<br>'.join(['Series Title = %{label}',\n",
        "                                             '# Books in Booklist = %{value}',\n",
        "                                             'Series Length = %{customdata[0]}',\n",
        "                                             'Titles = %{text}']))\n",
        "fig.show()"
      ],
      "metadata": {
        "colab": {
          "base_uri": "https://localhost:8080/",
          "height": 542
        },
        "id": "5nRkptNLFmJE",
        "outputId": "302f2c9f-437c-425d-b57e-b85914d06617"
      },
      "execution_count": null,
      "outputs": [
        {
          "output_type": "display_data",
          "data": {
            "text/html": [
              "<html>\n",
              "<head><meta charset=\"utf-8\" /></head>\n",
              "<body>\n",
              "    <div>            <script src=\"https://cdnjs.cloudflare.com/ajax/libs/mathjax/2.7.5/MathJax.js?config=TeX-AMS-MML_SVG\"></script><script type=\"text/javascript\">if (window.MathJax) {MathJax.Hub.Config({SVG: {font: \"STIX-Web\"}});}</script>                <script type=\"text/javascript\">window.PlotlyConfig = {MathJaxConfig: 'local'};</script>\n",
              "        <script src=\"https://cdn.plot.ly/plotly-2.8.3.min.js\"></script>                <div id=\"44cdeb87-faa4-4fdd-9836-2a069878d807\" class=\"plotly-graph-div\" style=\"height:525px; width:100%;\"></div>            <script type=\"text/javascript\">                                    window.PLOTLYENV=window.PLOTLYENV || {};                                    if (document.getElementById(\"44cdeb87-faa4-4fdd-9836-2a069878d807\")) {                    Plotly.newPlot(                        \"44cdeb87-faa4-4fdd-9836-2a069878d807\",                        [{\"customdata\":[[29],[8],[3],[2],[2],[12],[3],[3],[4],[3],[2],[2],[2],[6],[3],[3],[2],[3],[6],[175],[2],[3],[3],[3],[9],[2],[4],[19],[2],[2],[6],[6],[2],[7],[2],[3],[3],[2],[3],[2],[3],[4],[7],[2],[2],[15],[2],[4],[90],[3],[2],[6],[8],[5],[11],[2],[5],[28],[4],[3],[3],[2],[5],[2],[7],[25],[14],[4],[3],[4],[3],[4],[3],[3],[5],[7],[8],[5],[7],[10],[9],[null]],\"domain\":{\"x\":[0.0,1.0],\"y\":[0.0,1.0]},\"hovertemplate\":\"Series Title = %{label}<br># Books in Booklist = %{value}<br>Series Length = %{customdata[0]}<br>Titles = %{text}\",\"labels\":[\"Butch Karp\",\"The Albany Cycle\",\"The Jungle Book\",\"Jurassic Park\",\"Story of O\",\"Doctor Dolittle\",\"Magic Cleaning\",\"Como agua para chocolate\",\"Green Town\",\"Little Women\",\"Love Story\",\"The Shining\",\"Babe Levy\",\"Mary Poppins\",\"Matisse\",\"The Trilogy\",\"Mommie Dearest\",\"The Bounty Trilogy\",\"Min kamp\",\"Nancy Drew Mystery Stories\",\"Nanny\",\"The Night Trilogy\",\"The Theban Plays\",\"MaddAddam\",\"Outlander\",\"Peyton Place\",\"Stuff I've Been Reading\",\"Quiller\",\"Rosemary's Baby\",\"Le deuxi\\u00e8me sexe\",\"The Rosy Crucifixion\",\"Houston Series\",\"The Decline and Fall of the Roman Empire\",\"Harold\",\"Alice's Adventures in Wonderland\",\"The Border Trilogy\",\"Frank McCourt\",\"Eastwick\",\"Wyoming Stories\",\"Bambi\",\"Beloved Trilogy\",\"Bridget Jones\",\"\\u0633\\u0644\\u0633\\u0644\\u0629 \\u0623\\u0641\\u0627\\u0642 \\u0639\\u0627\\u0644\\u0645\\u064a\\u0629\",\"Catch-22\",\"Charlie Bucket\",\"Jeeves\",\"Time\",\"The Wicked Years\",\"La Com\\u00e9die Humaine\",\"Andrews Family\",\"The Graduate\",\"The Godfather\",\"Gidget series\",\"The Diary of Virginia Woolf\",\"Fletch\",\"The Five People You Meet in Heaven\",\"El cementerio de los libros olvidados\",\"Encyclopedia Brown\",\"Emily the Strange\",\"Eleanor Roosevelt\",\"Ya Yas\",\"Who Moved My Cheese?\",\"Mark Renton\",\"Angels in America\",\"\\u00c0 la recherche du temps perdu\",\"Kinsey Millhone\",\"Oz\",\"Adventures of Tom and Huck\",\"Involuntary trilogy\",\"Oresteia\",\"The Last Lion\",\"The Lord of the Rings\",\"La Divina Commedia\",\"The Deptford Trilogy\",\"The Peloponnesian War\",\"A Song of Ice and Fire\",\"Wars of the Roses\",\"Robert Langdon\",\"Harry Potter\",\"Little House\",\"Sherlock Holmes\",\"Standalones\"],\"legendgroup\":\"\",\"name\":\"\",\"showlegend\":true,\"values\":[1,1,1,1,1,1,1,1,1,1,1,1,1,1,1,1,1,1,1,1,1,1,1,1,1,1,1,1,1,1,1,1,1,1,1,1,1,1,1,1,1,1,1,1,1,1,1,1,1,1,1,1,1,1,1,1,1,1,1,1,1,1,1,2,2,2,2,2,2,3,3,3,3,3,4,5,5,5,7,9,9,412],\"type\":\"pie\",\"text\":[\"Absolute Rage\",\"Ironweed\",\"The Jungle Book\",\"Jurassic Park\",\"Story of O\",\"The Story of Doctor Dolittle\",\"The Life-Changing Magic of Tidying Up: The Japanese Art of Decluttering and Organizing\",\"Like Water for Chocolate\",\"Something Wicked This Way Comes\",\"Little Women\",\"Love Story\",\"The Shining\",\"Marathon Man\",\"Mary Poppins\",\"Matisse: The Life\",\"Molloy\",\"Mommie Dearest\",\"Mutiny on the Bounty\",\"My Struggle\",\"The Witch Tree Symbol\",\"The Nanny Diaries\",\"Night\",\"Oedipus Rex\",\"Oryx and Crake\",\"Outlander\",\"Peyton Place\",\"The Polysyllabic Spree\",\"Quiller Bamboo\",\"Rosemary's Baby\",\"The Second Sex\",\"Sexus\",\"Terms of Endearment\",\"The History of the Decline and Fall of the Roman Empire (All 6 Volumes): From the Height of the Roman Empire<br>the Age of Trajan and the Antonines - to ... the State of Rome during the Middle Ages\",\"Harold and the Purple Crayon\",\"Alice's Adventures in Wonderland\",\"All the Pretty Horses\",\"Angela's Ashes\",\"The Witches of Eastwick\",\"Bad Dirt\",\"Bambi: A Life in the Woods\",\"Beloved\",\"Bridget Jones's Diary\",\"The Canterbury Tales\",\"Catch-22\",\"Charlie and the Chocolate Factory\",\"The Code of the Woosters\",\"Time and Again\",\"Wicked: The Life and Times of the Wicked Witch of the West\",\"Cousin Bette\",\"Freaky Friday\",\"The Graduate\",\"The Godfather\",\"Gidget\",\"The Diary of Virginia Woolf<br>Volume One: 1915-1919\",\"Fletch\",\"The Five People You Meet in Heaven\",\"The Shadow of the Wind\",\"Encyclopedia Brown<br>Boy Detective\",\"The Lost Days\",\"Eleanor Roosevelt<br>Volume 1: The Early Years<br>1884-1933\",\"Divine Secrets of the Ya-Ya Sisterhood\",\"Who Moved My Cheese?\",\"Trainspotting\",\"Millennium Approaches<br>Perestroika\",\"In the Shadow of Young Girls in Flower<br>Swann's Way\",\"R is for Ricochet<br>S is for Silence\",\"The Scarecrow of Oz<br>The Wonderful Wizard of Oz\",\"The Adventures of Huckleberry Finn<br>The Adventures of Tom Sawyer\",\"Daughter of Fortune<br>The House of the Spirits\",\"The Libation Bearers<br>Agamemnon<br>Eumenides\",\"The Last Lion: Winston Spencer Churchill: Visions of Glory<br>1874-1932<br>The Last Lion: Winston Spencer Churchill: Alone<br>1932-40<br>The Last Lion: Winston Spencer Churchill: Defender of the Realm<br>1940-1965\",\"The Fellowship of the Ring<br>The Return of the King<br>The Two Towers\",\"Inferno<br>Purgatorio<br>Paradiso\",\"The Manticore<br>Fifth Business<br>World of Wonders\",\"The Archidamian War<br>The Fall of the Athenian Empire<br>The Outbreak of the Peloponnesian War<br>The Peace of Nicias and the Sicilian Expedition\",\"A Game of Thrones<br>A Clash of Kings<br>A Storm of Swords<br>A Feast for Crows<br>A Dance with Dragons\",\"Henry IV<br>Part I<br>Henry IV<br>Part 2<br>Henry V<br>Richard III<br>The Tragedy of King Richard III\",\"The Da Vinci Code<br>Angels & Demons<br>The Lost Symbol<br>Inferno<br>Origin\",\"Harry Potter and the Goblet of Fire<br>Harry Potter and the Sorcerer's Stone<br>Harry Potter and the Chamber of Secrets<br>Harry Potter and the Prisoner of Azkaban<br>Harry Potter and the Order of the Phoenix<br>Harry Potter and the Half-Blood Prince<br>Harry Potter and the Deathly Hallows\",\"Little House in the Big Woods<br>Little House on the Prairie<br>Farmer Boy<br>On the Banks of Plum Creek<br>By the Shores of Silver Lake<br>The Long Winter<br>Little Town on the Prairie<br>These Happy Golden Years<br>The First Four Years\",\"A Study in Scarlet<br>The Sign of Four<br>The Adventures of Sherlock Holmes<br>The Memoirs of Sherlock Holmes<br>The Hound of the Baskervilles<br>The Return of Sherlock Holmes<br>The Valley of Fear<br>His Last Bow<br>The Case-Book of Sherlock Holmes\"],\"textinfo\":\"percent+label\",\"textposition\":\"inside\"}],                        {\"template\":{\"data\":{\"bar\":[{\"error_x\":{\"color\":\"#2a3f5f\"},\"error_y\":{\"color\":\"#2a3f5f\"},\"marker\":{\"line\":{\"color\":\"#E5ECF6\",\"width\":0.5},\"pattern\":{\"fillmode\":\"overlay\",\"size\":10,\"solidity\":0.2}},\"type\":\"bar\"}],\"barpolar\":[{\"marker\":{\"line\":{\"color\":\"#E5ECF6\",\"width\":0.5},\"pattern\":{\"fillmode\":\"overlay\",\"size\":10,\"solidity\":0.2}},\"type\":\"barpolar\"}],\"carpet\":[{\"aaxis\":{\"endlinecolor\":\"#2a3f5f\",\"gridcolor\":\"white\",\"linecolor\":\"white\",\"minorgridcolor\":\"white\",\"startlinecolor\":\"#2a3f5f\"},\"baxis\":{\"endlinecolor\":\"#2a3f5f\",\"gridcolor\":\"white\",\"linecolor\":\"white\",\"minorgridcolor\":\"white\",\"startlinecolor\":\"#2a3f5f\"},\"type\":\"carpet\"}],\"choropleth\":[{\"colorbar\":{\"outlinewidth\":0,\"ticks\":\"\"},\"type\":\"choropleth\"}],\"contour\":[{\"colorbar\":{\"outlinewidth\":0,\"ticks\":\"\"},\"colorscale\":[[0.0,\"#0d0887\"],[0.1111111111111111,\"#46039f\"],[0.2222222222222222,\"#7201a8\"],[0.3333333333333333,\"#9c179e\"],[0.4444444444444444,\"#bd3786\"],[0.5555555555555556,\"#d8576b\"],[0.6666666666666666,\"#ed7953\"],[0.7777777777777778,\"#fb9f3a\"],[0.8888888888888888,\"#fdca26\"],[1.0,\"#f0f921\"]],\"type\":\"contour\"}],\"contourcarpet\":[{\"colorbar\":{\"outlinewidth\":0,\"ticks\":\"\"},\"type\":\"contourcarpet\"}],\"heatmap\":[{\"colorbar\":{\"outlinewidth\":0,\"ticks\":\"\"},\"colorscale\":[[0.0,\"#0d0887\"],[0.1111111111111111,\"#46039f\"],[0.2222222222222222,\"#7201a8\"],[0.3333333333333333,\"#9c179e\"],[0.4444444444444444,\"#bd3786\"],[0.5555555555555556,\"#d8576b\"],[0.6666666666666666,\"#ed7953\"],[0.7777777777777778,\"#fb9f3a\"],[0.8888888888888888,\"#fdca26\"],[1.0,\"#f0f921\"]],\"type\":\"heatmap\"}],\"heatmapgl\":[{\"colorbar\":{\"outlinewidth\":0,\"ticks\":\"\"},\"colorscale\":[[0.0,\"#0d0887\"],[0.1111111111111111,\"#46039f\"],[0.2222222222222222,\"#7201a8\"],[0.3333333333333333,\"#9c179e\"],[0.4444444444444444,\"#bd3786\"],[0.5555555555555556,\"#d8576b\"],[0.6666666666666666,\"#ed7953\"],[0.7777777777777778,\"#fb9f3a\"],[0.8888888888888888,\"#fdca26\"],[1.0,\"#f0f921\"]],\"type\":\"heatmapgl\"}],\"histogram\":[{\"marker\":{\"pattern\":{\"fillmode\":\"overlay\",\"size\":10,\"solidity\":0.2}},\"type\":\"histogram\"}],\"histogram2d\":[{\"colorbar\":{\"outlinewidth\":0,\"ticks\":\"\"},\"colorscale\":[[0.0,\"#0d0887\"],[0.1111111111111111,\"#46039f\"],[0.2222222222222222,\"#7201a8\"],[0.3333333333333333,\"#9c179e\"],[0.4444444444444444,\"#bd3786\"],[0.5555555555555556,\"#d8576b\"],[0.6666666666666666,\"#ed7953\"],[0.7777777777777778,\"#fb9f3a\"],[0.8888888888888888,\"#fdca26\"],[1.0,\"#f0f921\"]],\"type\":\"histogram2d\"}],\"histogram2dcontour\":[{\"colorbar\":{\"outlinewidth\":0,\"ticks\":\"\"},\"colorscale\":[[0.0,\"#0d0887\"],[0.1111111111111111,\"#46039f\"],[0.2222222222222222,\"#7201a8\"],[0.3333333333333333,\"#9c179e\"],[0.4444444444444444,\"#bd3786\"],[0.5555555555555556,\"#d8576b\"],[0.6666666666666666,\"#ed7953\"],[0.7777777777777778,\"#fb9f3a\"],[0.8888888888888888,\"#fdca26\"],[1.0,\"#f0f921\"]],\"type\":\"histogram2dcontour\"}],\"mesh3d\":[{\"colorbar\":{\"outlinewidth\":0,\"ticks\":\"\"},\"type\":\"mesh3d\"}],\"parcoords\":[{\"line\":{\"colorbar\":{\"outlinewidth\":0,\"ticks\":\"\"}},\"type\":\"parcoords\"}],\"pie\":[{\"automargin\":true,\"type\":\"pie\"}],\"scatter\":[{\"marker\":{\"colorbar\":{\"outlinewidth\":0,\"ticks\":\"\"}},\"type\":\"scatter\"}],\"scatter3d\":[{\"line\":{\"colorbar\":{\"outlinewidth\":0,\"ticks\":\"\"}},\"marker\":{\"colorbar\":{\"outlinewidth\":0,\"ticks\":\"\"}},\"type\":\"scatter3d\"}],\"scattercarpet\":[{\"marker\":{\"colorbar\":{\"outlinewidth\":0,\"ticks\":\"\"}},\"type\":\"scattercarpet\"}],\"scattergeo\":[{\"marker\":{\"colorbar\":{\"outlinewidth\":0,\"ticks\":\"\"}},\"type\":\"scattergeo\"}],\"scattergl\":[{\"marker\":{\"colorbar\":{\"outlinewidth\":0,\"ticks\":\"\"}},\"type\":\"scattergl\"}],\"scattermapbox\":[{\"marker\":{\"colorbar\":{\"outlinewidth\":0,\"ticks\":\"\"}},\"type\":\"scattermapbox\"}],\"scatterpolar\":[{\"marker\":{\"colorbar\":{\"outlinewidth\":0,\"ticks\":\"\"}},\"type\":\"scatterpolar\"}],\"scatterpolargl\":[{\"marker\":{\"colorbar\":{\"outlinewidth\":0,\"ticks\":\"\"}},\"type\":\"scatterpolargl\"}],\"scatterternary\":[{\"marker\":{\"colorbar\":{\"outlinewidth\":0,\"ticks\":\"\"}},\"type\":\"scatterternary\"}],\"surface\":[{\"colorbar\":{\"outlinewidth\":0,\"ticks\":\"\"},\"colorscale\":[[0.0,\"#0d0887\"],[0.1111111111111111,\"#46039f\"],[0.2222222222222222,\"#7201a8\"],[0.3333333333333333,\"#9c179e\"],[0.4444444444444444,\"#bd3786\"],[0.5555555555555556,\"#d8576b\"],[0.6666666666666666,\"#ed7953\"],[0.7777777777777778,\"#fb9f3a\"],[0.8888888888888888,\"#fdca26\"],[1.0,\"#f0f921\"]],\"type\":\"surface\"}],\"table\":[{\"cells\":{\"fill\":{\"color\":\"#EBF0F8\"},\"line\":{\"color\":\"white\"}},\"header\":{\"fill\":{\"color\":\"#C8D4E3\"},\"line\":{\"color\":\"white\"}},\"type\":\"table\"}]},\"layout\":{\"annotationdefaults\":{\"arrowcolor\":\"#2a3f5f\",\"arrowhead\":0,\"arrowwidth\":1},\"autotypenumbers\":\"strict\",\"coloraxis\":{\"colorbar\":{\"outlinewidth\":0,\"ticks\":\"\"}},\"colorscale\":{\"diverging\":[[0,\"#8e0152\"],[0.1,\"#c51b7d\"],[0.2,\"#de77ae\"],[0.3,\"#f1b6da\"],[0.4,\"#fde0ef\"],[0.5,\"#f7f7f7\"],[0.6,\"#e6f5d0\"],[0.7,\"#b8e186\"],[0.8,\"#7fbc41\"],[0.9,\"#4d9221\"],[1,\"#276419\"]],\"sequential\":[[0.0,\"#0d0887\"],[0.1111111111111111,\"#46039f\"],[0.2222222222222222,\"#7201a8\"],[0.3333333333333333,\"#9c179e\"],[0.4444444444444444,\"#bd3786\"],[0.5555555555555556,\"#d8576b\"],[0.6666666666666666,\"#ed7953\"],[0.7777777777777778,\"#fb9f3a\"],[0.8888888888888888,\"#fdca26\"],[1.0,\"#f0f921\"]],\"sequentialminus\":[[0.0,\"#0d0887\"],[0.1111111111111111,\"#46039f\"],[0.2222222222222222,\"#7201a8\"],[0.3333333333333333,\"#9c179e\"],[0.4444444444444444,\"#bd3786\"],[0.5555555555555556,\"#d8576b\"],[0.6666666666666666,\"#ed7953\"],[0.7777777777777778,\"#fb9f3a\"],[0.8888888888888888,\"#fdca26\"],[1.0,\"#f0f921\"]]},\"colorway\":[\"#636efa\",\"#EF553B\",\"#00cc96\",\"#ab63fa\",\"#FFA15A\",\"#19d3f3\",\"#FF6692\",\"#B6E880\",\"#FF97FF\",\"#FECB52\"],\"font\":{\"color\":\"#2a3f5f\"},\"geo\":{\"bgcolor\":\"white\",\"lakecolor\":\"white\",\"landcolor\":\"#E5ECF6\",\"showlakes\":true,\"showland\":true,\"subunitcolor\":\"white\"},\"hoverlabel\":{\"align\":\"left\"},\"hovermode\":\"closest\",\"mapbox\":{\"style\":\"light\"},\"paper_bgcolor\":\"white\",\"plot_bgcolor\":\"#E5ECF6\",\"polar\":{\"angularaxis\":{\"gridcolor\":\"white\",\"linecolor\":\"white\",\"ticks\":\"\"},\"bgcolor\":\"#E5ECF6\",\"radialaxis\":{\"gridcolor\":\"white\",\"linecolor\":\"white\",\"ticks\":\"\"}},\"scene\":{\"xaxis\":{\"backgroundcolor\":\"#E5ECF6\",\"gridcolor\":\"white\",\"gridwidth\":2,\"linecolor\":\"white\",\"showbackground\":true,\"ticks\":\"\",\"zerolinecolor\":\"white\"},\"yaxis\":{\"backgroundcolor\":\"#E5ECF6\",\"gridcolor\":\"white\",\"gridwidth\":2,\"linecolor\":\"white\",\"showbackground\":true,\"ticks\":\"\",\"zerolinecolor\":\"white\"},\"zaxis\":{\"backgroundcolor\":\"#E5ECF6\",\"gridcolor\":\"white\",\"gridwidth\":2,\"linecolor\":\"white\",\"showbackground\":true,\"ticks\":\"\",\"zerolinecolor\":\"white\"}},\"shapedefaults\":{\"line\":{\"color\":\"#2a3f5f\"}},\"ternary\":{\"aaxis\":{\"gridcolor\":\"white\",\"linecolor\":\"white\",\"ticks\":\"\"},\"baxis\":{\"gridcolor\":\"white\",\"linecolor\":\"white\",\"ticks\":\"\"},\"bgcolor\":\"#E5ECF6\",\"caxis\":{\"gridcolor\":\"white\",\"linecolor\":\"white\",\"ticks\":\"\"}},\"title\":{\"x\":0.05},\"xaxis\":{\"automargin\":true,\"gridcolor\":\"white\",\"linecolor\":\"white\",\"ticks\":\"\",\"title\":{\"standoff\":15},\"zerolinecolor\":\"white\",\"zerolinewidth\":2},\"yaxis\":{\"automargin\":true,\"gridcolor\":\"white\",\"linecolor\":\"white\",\"ticks\":\"\",\"title\":{\"standoff\":15},\"zerolinecolor\":\"white\",\"zerolinewidth\":2}}},\"legend\":{\"tracegroupgap\":0},\"title\":{\"text\":\"Breakdown of Standalones vs Series in the Rory Gilmore Booklist\"}},                        {\"responsive\": true}                    ).then(function(){\n",
              "                            \n",
              "var gd = document.getElementById('44cdeb87-faa4-4fdd-9836-2a069878d807');\n",
              "var x = new MutationObserver(function (mutations, observer) {{\n",
              "        var display = window.getComputedStyle(gd).display;\n",
              "        if (!display || display === 'none') {{\n",
              "            console.log([gd, 'removed!']);\n",
              "            Plotly.purge(gd);\n",
              "            observer.disconnect();\n",
              "        }}\n",
              "}});\n",
              "\n",
              "// Listen for the removal of the full notebook cells\n",
              "var notebookContainer = gd.closest('#notebook-container');\n",
              "if (notebookContainer) {{\n",
              "    x.observe(notebookContainer, {childList: true});\n",
              "}}\n",
              "\n",
              "// Listen for the clearing of the current output cell\n",
              "var outputEl = gd.closest('.output');\n",
              "if (outputEl) {{\n",
              "    x.observe(outputEl, {childList: true});\n",
              "}}\n",
              "\n",
              "                        })                };                            </script>        </div>\n",
              "</body>\n",
              "</html>"
            ]
          },
          "metadata": {}
        }
      ]
    },
    {
      "cell_type": "markdown",
      "source": [
        "Chart Summary\n",
        "\n",
        "* 412 standalones\n",
        "* 134 books in 81 different series \n",
        "* 7 complete series: Angels in America, Robert Langdon, La Divina Commedia, Harry Potter, The Last Lion, The Deptford Trilogy and Sherlock Holmes "
      ],
      "metadata": {
        "id": "ldaXhkP8A-Vs"
      }
    },
    {
      "cell_type": "markdown",
      "source": [
        "## Analysis of publication dates"
      ],
      "metadata": {
        "id": "xAWh5128zTWH"
      }
    },
    {
      "cell_type": "markdown",
      "source": [
        "Look at trends for when the books in the Rory Gilmore booklist were published"
      ],
      "metadata": {
        "id": "dZ2C0Mc4Eixz"
      }
    },
    {
      "cell_type": "markdown",
      "source": [
        "### Month of publication"
      ],
      "metadata": {
        "id": "oav2HlF-1D7u"
      }
    },
    {
      "cell_type": "code",
      "source": [
        "# Plot a bar chart showing how many books from the Rory Gilmore book list were published in each month\n",
        "\n",
        "# Create dataframe to plot\n",
        "months_df = sort_counter(publication_month)\n",
        "months = ['January', 'February', 'March', 'April', 'May', 'June', 'July', 'August', 'September', 'October', 'November', 'December']\n",
        "months_df['Keys'] = pd.Categorical(months_df['Keys'], categories=months, ordered=True)\n",
        "months_df.sort_values(by='Keys', inplace=True)\n",
        "mean_publications = mean(months_df['Count'])\n",
        "unknown = num_books - len(publication_month)\n",
        "unknown_row = {'Keys': 'Unknown', 'Count': unknown}\n",
        "months_df = months_df.append(unknown_row, ignore_index = True)\n",
        "labels = ['Month', 'Month', 'Month', 'Month', 'Month', 'Month', 'Month', 'Month', 'Month', 'Month', 'Month', 'Month', 'Unknown']\n",
        "months_df['Labels'] = labels\n",
        "\n",
        "# Plot figure\n",
        "fig = px.bar(months_df,\n",
        "             y='Count', \n",
        "             x='Keys',\n",
        "             title='Book Publications by Month',\n",
        "             color='Labels',\n",
        "             color_discrete_map = {'Month': 'steelblue', \n",
        "                                   'Unknown' : 'grey'})\n",
        "fig.update_traces(hovertemplate='Month = %{x}<br># of Publications = %{y}<extra></extra>')\n",
        "fig.update_layout(xaxis={'title': 'Months'},\n",
        "                  yaxis={'title': 'Number of Publications'},\n",
        "                  showlegend=False)\n",
        "fig.add_hline(y=mean_publications, \n",
        "              line_width=3, \n",
        "              line_dash=\"dash\", \n",
        "              line_color=\"green\", \n",
        "              annotation_text=f\"Mean: {mean_publications} publications\", \n",
        "              annotation_position=\"top right\")\n",
        "fig.show()"
      ],
      "metadata": {
        "id": "ObSUXF8cUwzg",
        "colab": {
          "base_uri": "https://localhost:8080/",
          "height": 542
        },
        "outputId": "fb87a2e1-a92a-47a4-f282-aa8586554c94"
      },
      "execution_count": null,
      "outputs": [
        {
          "output_type": "display_data",
          "data": {
            "text/html": [
              "<html>\n",
              "<head><meta charset=\"utf-8\" /></head>\n",
              "<body>\n",
              "    <div>            <script src=\"https://cdnjs.cloudflare.com/ajax/libs/mathjax/2.7.5/MathJax.js?config=TeX-AMS-MML_SVG\"></script><script type=\"text/javascript\">if (window.MathJax) {MathJax.Hub.Config({SVG: {font: \"STIX-Web\"}});}</script>                <script type=\"text/javascript\">window.PlotlyConfig = {MathJaxConfig: 'local'};</script>\n",
              "        <script src=\"https://cdn.plot.ly/plotly-2.8.3.min.js\"></script>                <div id=\"1e7acc0f-07b3-4c1c-9efc-c90dc5a2a35b\" class=\"plotly-graph-div\" style=\"height:525px; width:100%;\"></div>            <script type=\"text/javascript\">                                    window.PLOTLYENV=window.PLOTLYENV || {};                                    if (document.getElementById(\"1e7acc0f-07b3-4c1c-9efc-c90dc5a2a35b\")) {                    Plotly.newPlot(                        \"1e7acc0f-07b3-4c1c-9efc-c90dc5a2a35b\",                        [{\"alignmentgroup\":\"True\",\"hovertemplate\":\"Month = %{x}<br># of Publications = %{y}<extra></extra>\",\"legendgroup\":\"Month\",\"marker\":{\"color\":\"steelblue\",\"pattern\":{\"shape\":\"\"}},\"name\":\"Month\",\"offsetgroup\":\"Month\",\"orientation\":\"v\",\"showlegend\":true,\"textposition\":\"auto\",\"x\":[\"January\",\"February\",\"March\",\"April\",\"May\",\"June\",\"July\",\"August\",\"September\",\"October\",\"November\",\"December\"],\"xaxis\":\"x\",\"y\":[40,18,16,23,26,20,18,14,33,35,24,12],\"yaxis\":\"y\",\"type\":\"bar\"},{\"alignmentgroup\":\"True\",\"hovertemplate\":\"Month = %{x}<br># of Publications = %{y}<extra></extra>\",\"legendgroup\":\"Unknown\",\"marker\":{\"color\":\"grey\",\"pattern\":{\"shape\":\"\"}},\"name\":\"Unknown\",\"offsetgroup\":\"Unknown\",\"orientation\":\"v\",\"showlegend\":true,\"textposition\":\"auto\",\"x\":[\"Unknown\"],\"xaxis\":\"x\",\"y\":[267],\"yaxis\":\"y\",\"type\":\"bar\"}],                        {\"template\":{\"data\":{\"bar\":[{\"error_x\":{\"color\":\"#2a3f5f\"},\"error_y\":{\"color\":\"#2a3f5f\"},\"marker\":{\"line\":{\"color\":\"#E5ECF6\",\"width\":0.5},\"pattern\":{\"fillmode\":\"overlay\",\"size\":10,\"solidity\":0.2}},\"type\":\"bar\"}],\"barpolar\":[{\"marker\":{\"line\":{\"color\":\"#E5ECF6\",\"width\":0.5},\"pattern\":{\"fillmode\":\"overlay\",\"size\":10,\"solidity\":0.2}},\"type\":\"barpolar\"}],\"carpet\":[{\"aaxis\":{\"endlinecolor\":\"#2a3f5f\",\"gridcolor\":\"white\",\"linecolor\":\"white\",\"minorgridcolor\":\"white\",\"startlinecolor\":\"#2a3f5f\"},\"baxis\":{\"endlinecolor\":\"#2a3f5f\",\"gridcolor\":\"white\",\"linecolor\":\"white\",\"minorgridcolor\":\"white\",\"startlinecolor\":\"#2a3f5f\"},\"type\":\"carpet\"}],\"choropleth\":[{\"colorbar\":{\"outlinewidth\":0,\"ticks\":\"\"},\"type\":\"choropleth\"}],\"contour\":[{\"colorbar\":{\"outlinewidth\":0,\"ticks\":\"\"},\"colorscale\":[[0.0,\"#0d0887\"],[0.1111111111111111,\"#46039f\"],[0.2222222222222222,\"#7201a8\"],[0.3333333333333333,\"#9c179e\"],[0.4444444444444444,\"#bd3786\"],[0.5555555555555556,\"#d8576b\"],[0.6666666666666666,\"#ed7953\"],[0.7777777777777778,\"#fb9f3a\"],[0.8888888888888888,\"#fdca26\"],[1.0,\"#f0f921\"]],\"type\":\"contour\"}],\"contourcarpet\":[{\"colorbar\":{\"outlinewidth\":0,\"ticks\":\"\"},\"type\":\"contourcarpet\"}],\"heatmap\":[{\"colorbar\":{\"outlinewidth\":0,\"ticks\":\"\"},\"colorscale\":[[0.0,\"#0d0887\"],[0.1111111111111111,\"#46039f\"],[0.2222222222222222,\"#7201a8\"],[0.3333333333333333,\"#9c179e\"],[0.4444444444444444,\"#bd3786\"],[0.5555555555555556,\"#d8576b\"],[0.6666666666666666,\"#ed7953\"],[0.7777777777777778,\"#fb9f3a\"],[0.8888888888888888,\"#fdca26\"],[1.0,\"#f0f921\"]],\"type\":\"heatmap\"}],\"heatmapgl\":[{\"colorbar\":{\"outlinewidth\":0,\"ticks\":\"\"},\"colorscale\":[[0.0,\"#0d0887\"],[0.1111111111111111,\"#46039f\"],[0.2222222222222222,\"#7201a8\"],[0.3333333333333333,\"#9c179e\"],[0.4444444444444444,\"#bd3786\"],[0.5555555555555556,\"#d8576b\"],[0.6666666666666666,\"#ed7953\"],[0.7777777777777778,\"#fb9f3a\"],[0.8888888888888888,\"#fdca26\"],[1.0,\"#f0f921\"]],\"type\":\"heatmapgl\"}],\"histogram\":[{\"marker\":{\"pattern\":{\"fillmode\":\"overlay\",\"size\":10,\"solidity\":0.2}},\"type\":\"histogram\"}],\"histogram2d\":[{\"colorbar\":{\"outlinewidth\":0,\"ticks\":\"\"},\"colorscale\":[[0.0,\"#0d0887\"],[0.1111111111111111,\"#46039f\"],[0.2222222222222222,\"#7201a8\"],[0.3333333333333333,\"#9c179e\"],[0.4444444444444444,\"#bd3786\"],[0.5555555555555556,\"#d8576b\"],[0.6666666666666666,\"#ed7953\"],[0.7777777777777778,\"#fb9f3a\"],[0.8888888888888888,\"#fdca26\"],[1.0,\"#f0f921\"]],\"type\":\"histogram2d\"}],\"histogram2dcontour\":[{\"colorbar\":{\"outlinewidth\":0,\"ticks\":\"\"},\"colorscale\":[[0.0,\"#0d0887\"],[0.1111111111111111,\"#46039f\"],[0.2222222222222222,\"#7201a8\"],[0.3333333333333333,\"#9c179e\"],[0.4444444444444444,\"#bd3786\"],[0.5555555555555556,\"#d8576b\"],[0.6666666666666666,\"#ed7953\"],[0.7777777777777778,\"#fb9f3a\"],[0.8888888888888888,\"#fdca26\"],[1.0,\"#f0f921\"]],\"type\":\"histogram2dcontour\"}],\"mesh3d\":[{\"colorbar\":{\"outlinewidth\":0,\"ticks\":\"\"},\"type\":\"mesh3d\"}],\"parcoords\":[{\"line\":{\"colorbar\":{\"outlinewidth\":0,\"ticks\":\"\"}},\"type\":\"parcoords\"}],\"pie\":[{\"automargin\":true,\"type\":\"pie\"}],\"scatter\":[{\"marker\":{\"colorbar\":{\"outlinewidth\":0,\"ticks\":\"\"}},\"type\":\"scatter\"}],\"scatter3d\":[{\"line\":{\"colorbar\":{\"outlinewidth\":0,\"ticks\":\"\"}},\"marker\":{\"colorbar\":{\"outlinewidth\":0,\"ticks\":\"\"}},\"type\":\"scatter3d\"}],\"scattercarpet\":[{\"marker\":{\"colorbar\":{\"outlinewidth\":0,\"ticks\":\"\"}},\"type\":\"scattercarpet\"}],\"scattergeo\":[{\"marker\":{\"colorbar\":{\"outlinewidth\":0,\"ticks\":\"\"}},\"type\":\"scattergeo\"}],\"scattergl\":[{\"marker\":{\"colorbar\":{\"outlinewidth\":0,\"ticks\":\"\"}},\"type\":\"scattergl\"}],\"scattermapbox\":[{\"marker\":{\"colorbar\":{\"outlinewidth\":0,\"ticks\":\"\"}},\"type\":\"scattermapbox\"}],\"scatterpolar\":[{\"marker\":{\"colorbar\":{\"outlinewidth\":0,\"ticks\":\"\"}},\"type\":\"scatterpolar\"}],\"scatterpolargl\":[{\"marker\":{\"colorbar\":{\"outlinewidth\":0,\"ticks\":\"\"}},\"type\":\"scatterpolargl\"}],\"scatterternary\":[{\"marker\":{\"colorbar\":{\"outlinewidth\":0,\"ticks\":\"\"}},\"type\":\"scatterternary\"}],\"surface\":[{\"colorbar\":{\"outlinewidth\":0,\"ticks\":\"\"},\"colorscale\":[[0.0,\"#0d0887\"],[0.1111111111111111,\"#46039f\"],[0.2222222222222222,\"#7201a8\"],[0.3333333333333333,\"#9c179e\"],[0.4444444444444444,\"#bd3786\"],[0.5555555555555556,\"#d8576b\"],[0.6666666666666666,\"#ed7953\"],[0.7777777777777778,\"#fb9f3a\"],[0.8888888888888888,\"#fdca26\"],[1.0,\"#f0f921\"]],\"type\":\"surface\"}],\"table\":[{\"cells\":{\"fill\":{\"color\":\"#EBF0F8\"},\"line\":{\"color\":\"white\"}},\"header\":{\"fill\":{\"color\":\"#C8D4E3\"},\"line\":{\"color\":\"white\"}},\"type\":\"table\"}]},\"layout\":{\"annotationdefaults\":{\"arrowcolor\":\"#2a3f5f\",\"arrowhead\":0,\"arrowwidth\":1},\"autotypenumbers\":\"strict\",\"coloraxis\":{\"colorbar\":{\"outlinewidth\":0,\"ticks\":\"\"}},\"colorscale\":{\"diverging\":[[0,\"#8e0152\"],[0.1,\"#c51b7d\"],[0.2,\"#de77ae\"],[0.3,\"#f1b6da\"],[0.4,\"#fde0ef\"],[0.5,\"#f7f7f7\"],[0.6,\"#e6f5d0\"],[0.7,\"#b8e186\"],[0.8,\"#7fbc41\"],[0.9,\"#4d9221\"],[1,\"#276419\"]],\"sequential\":[[0.0,\"#0d0887\"],[0.1111111111111111,\"#46039f\"],[0.2222222222222222,\"#7201a8\"],[0.3333333333333333,\"#9c179e\"],[0.4444444444444444,\"#bd3786\"],[0.5555555555555556,\"#d8576b\"],[0.6666666666666666,\"#ed7953\"],[0.7777777777777778,\"#fb9f3a\"],[0.8888888888888888,\"#fdca26\"],[1.0,\"#f0f921\"]],\"sequentialminus\":[[0.0,\"#0d0887\"],[0.1111111111111111,\"#46039f\"],[0.2222222222222222,\"#7201a8\"],[0.3333333333333333,\"#9c179e\"],[0.4444444444444444,\"#bd3786\"],[0.5555555555555556,\"#d8576b\"],[0.6666666666666666,\"#ed7953\"],[0.7777777777777778,\"#fb9f3a\"],[0.8888888888888888,\"#fdca26\"],[1.0,\"#f0f921\"]]},\"colorway\":[\"#636efa\",\"#EF553B\",\"#00cc96\",\"#ab63fa\",\"#FFA15A\",\"#19d3f3\",\"#FF6692\",\"#B6E880\",\"#FF97FF\",\"#FECB52\"],\"font\":{\"color\":\"#2a3f5f\"},\"geo\":{\"bgcolor\":\"white\",\"lakecolor\":\"white\",\"landcolor\":\"#E5ECF6\",\"showlakes\":true,\"showland\":true,\"subunitcolor\":\"white\"},\"hoverlabel\":{\"align\":\"left\"},\"hovermode\":\"closest\",\"mapbox\":{\"style\":\"light\"},\"paper_bgcolor\":\"white\",\"plot_bgcolor\":\"#E5ECF6\",\"polar\":{\"angularaxis\":{\"gridcolor\":\"white\",\"linecolor\":\"white\",\"ticks\":\"\"},\"bgcolor\":\"#E5ECF6\",\"radialaxis\":{\"gridcolor\":\"white\",\"linecolor\":\"white\",\"ticks\":\"\"}},\"scene\":{\"xaxis\":{\"backgroundcolor\":\"#E5ECF6\",\"gridcolor\":\"white\",\"gridwidth\":2,\"linecolor\":\"white\",\"showbackground\":true,\"ticks\":\"\",\"zerolinecolor\":\"white\"},\"yaxis\":{\"backgroundcolor\":\"#E5ECF6\",\"gridcolor\":\"white\",\"gridwidth\":2,\"linecolor\":\"white\",\"showbackground\":true,\"ticks\":\"\",\"zerolinecolor\":\"white\"},\"zaxis\":{\"backgroundcolor\":\"#E5ECF6\",\"gridcolor\":\"white\",\"gridwidth\":2,\"linecolor\":\"white\",\"showbackground\":true,\"ticks\":\"\",\"zerolinecolor\":\"white\"}},\"shapedefaults\":{\"line\":{\"color\":\"#2a3f5f\"}},\"ternary\":{\"aaxis\":{\"gridcolor\":\"white\",\"linecolor\":\"white\",\"ticks\":\"\"},\"baxis\":{\"gridcolor\":\"white\",\"linecolor\":\"white\",\"ticks\":\"\"},\"bgcolor\":\"#E5ECF6\",\"caxis\":{\"gridcolor\":\"white\",\"linecolor\":\"white\",\"ticks\":\"\"}},\"title\":{\"x\":0.05},\"xaxis\":{\"automargin\":true,\"gridcolor\":\"white\",\"linecolor\":\"white\",\"ticks\":\"\",\"title\":{\"standoff\":15},\"zerolinecolor\":\"white\",\"zerolinewidth\":2},\"yaxis\":{\"automargin\":true,\"gridcolor\":\"white\",\"linecolor\":\"white\",\"ticks\":\"\",\"title\":{\"standoff\":15},\"zerolinecolor\":\"white\",\"zerolinewidth\":2}}},\"xaxis\":{\"anchor\":\"y\",\"domain\":[0.0,1.0],\"title\":{\"text\":\"Months\"}},\"yaxis\":{\"anchor\":\"x\",\"domain\":[0.0,1.0],\"title\":{\"text\":\"Number of Publications\"}},\"legend\":{\"title\":{\"text\":\"Labels\"},\"tracegroupgap\":0},\"title\":{\"text\":\"Book Publications by Month\"},\"barmode\":\"relative\",\"showlegend\":false,\"shapes\":[{\"line\":{\"color\":\"green\",\"dash\":\"dash\",\"width\":3},\"type\":\"line\",\"x0\":0,\"x1\":1,\"xref\":\"x domain\",\"y0\":23.25,\"y1\":23.25,\"yref\":\"y\"}],\"annotations\":[{\"showarrow\":false,\"text\":\"Mean: 23.25 publications\",\"x\":1,\"xanchor\":\"right\",\"xref\":\"x domain\",\"y\":23.25,\"yanchor\":\"bottom\",\"yref\":\"y\"}]},                        {\"responsive\": true}                    ).then(function(){\n",
              "                            \n",
              "var gd = document.getElementById('1e7acc0f-07b3-4c1c-9efc-c90dc5a2a35b');\n",
              "var x = new MutationObserver(function (mutations, observer) {{\n",
              "        var display = window.getComputedStyle(gd).display;\n",
              "        if (!display || display === 'none') {{\n",
              "            console.log([gd, 'removed!']);\n",
              "            Plotly.purge(gd);\n",
              "            observer.disconnect();\n",
              "        }}\n",
              "}});\n",
              "\n",
              "// Listen for the removal of the full notebook cells\n",
              "var notebookContainer = gd.closest('#notebook-container');\n",
              "if (notebookContainer) {{\n",
              "    x.observe(notebookContainer, {childList: true});\n",
              "}}\n",
              "\n",
              "// Listen for the clearing of the current output cell\n",
              "var outputEl = gd.closest('.output');\n",
              "if (outputEl) {{\n",
              "    x.observe(outputEl, {childList: true});\n",
              "}}\n",
              "\n",
              "                        })                };                            </script>        </div>\n",
              "</body>\n",
              "</html>"
            ]
          },
          "metadata": {}
        }
      ]
    },
    {
      "cell_type": "markdown",
      "source": [
        "Table Summary\n",
        "\n",
        "* Of the 546 books, 279 provided a publication month\n",
        "* The average number of publications across all of the months was 23.25 publications\n",
        "* January had the highest number of publications, with 40\n",
        "* December had the lowest number of publications, with 12"
      ],
      "metadata": {
        "id": "G0XtJDBXzej8"
      }
    },
    {
      "cell_type": "markdown",
      "source": [
        "### Year of publication"
      ],
      "metadata": {
        "id": "q6TWl8fl1Vf7"
      }
    },
    {
      "cell_type": "code",
      "source": [
        "# Plot a histogram showing how many books from the Rory Gilmore book list were published in each month\n",
        "\n",
        "# Gather the data on publication year\n",
        "years_df = sort_counter(publication_year)\n",
        "yearly_mean = round(mean(years_df['Count']), 2)\n",
        "\n",
        "# Plot the data as a histogram\n",
        "fig = px.histogram(years_df,\n",
        "                   y='Count',\n",
        "                   x='Keys',\n",
        "                   title='Book Publications per Year',\n",
        "                   range_x=[1300, 2022],\n",
        "                   nbins=722)\n",
        "fig.update_traces(hovertemplate='Year = %{x}<br># of Publications = %{y}<extra></extra>')\n",
        "fig.update_layout(xaxis={'title': 'Year'},\n",
        "                  yaxis={'title': 'Number of Publications'})\n",
        "fig.add_hline(y=yearly_mean, \n",
        "              line_width=3, \n",
        "              line_dash=\"dash\", \n",
        "              line_color=\"green\", \n",
        "              annotation_text=f\"Mean: {yearly_mean} publications\", \n",
        "              annotation_position=\"top left\")\n",
        "fig.show()"
      ],
      "metadata": {
        "id": "ShFuvvXWgl57",
        "colab": {
          "base_uri": "https://localhost:8080/",
          "height": 542
        },
        "outputId": "a3ea343b-546e-4ebe-8e52-0d40d1e82a46"
      },
      "execution_count": null,
      "outputs": [
        {
          "output_type": "display_data",
          "data": {
            "text/html": [
              "<html>\n",
              "<head><meta charset=\"utf-8\" /></head>\n",
              "<body>\n",
              "    <div>            <script src=\"https://cdnjs.cloudflare.com/ajax/libs/mathjax/2.7.5/MathJax.js?config=TeX-AMS-MML_SVG\"></script><script type=\"text/javascript\">if (window.MathJax) {MathJax.Hub.Config({SVG: {font: \"STIX-Web\"}});}</script>                <script type=\"text/javascript\">window.PlotlyConfig = {MathJaxConfig: 'local'};</script>\n",
              "        <script src=\"https://cdn.plot.ly/plotly-2.8.3.min.js\"></script>                <div id=\"4be3b79f-f095-48c4-88aa-883079362cb4\" class=\"plotly-graph-div\" style=\"height:525px; width:100%;\"></div>            <script type=\"text/javascript\">                                    window.PLOTLYENV=window.PLOTLYENV || {};                                    if (document.getElementById(\"4be3b79f-f095-48c4-88aa-883079362cb4\")) {                    Plotly.newPlot(                        \"4be3b79f-f095-48c4-88aa-883079362cb4\",                        [{\"alignmentgroup\":\"True\",\"bingroup\":\"x\",\"histfunc\":\"sum\",\"hovertemplate\":\"Year = %{x}<br># of Publications = %{y}<extra></extra>\",\"legendgroup\":\"\",\"marker\":{\"color\":\"#636efa\",\"pattern\":{\"shape\":\"\"}},\"name\":\"\",\"nbinsx\":722,\"offsetgroup\":\"\",\"orientation\":\"v\",\"showlegend\":false,\"x\":[1917,1904,1817,1818,1838,1623,1603,2019,1677,1815,1849,1605,1871,1883,1842,2017,2013,1866,1846,1844,1624,1839,1860,1726,1856,1606,1868,1941,1933,1790,1862,1905,1599,1889,1832,1831,1851,1906,1776,1600,1598,2008,1948,1601,1965,1594,2014,2016,1908,1893,1923,1857,1895,1827,1609,1902,1887,1926,1931,1878,1759,1400,1912,1811,1876,1901,1946,1852,1854,1869,1843,1900,1813,1942,1945,1922,1984,1960,1929,1913,1930,1855,2018,1590,1936,1928,1944,1894,1920,1892,1886,1884,1845,1951,1953,1897,2009,1961,1903,1859,1975,1687,2006,1812,1927,1890,1911,1593,1935,1950,1971,2011,1990,1940,2010,1865,2012,1978,1938,1980,2007,1952,1964,1850,1977,1847,1947,1979,1924,1972,1899,1994,1597,1968,1958,1320,1969,1982,1932,1988,1985,1973,2015,1943,1967,1925,1966,1956,1957,1959,1939,1915,1955,1981,1989,1934,1992,1970,1937,1983,1949,1962,1995,1963,1974,1996,1987,1954,1998,1993,2005,1991,1999,2000,1997,2002,2001,2004,2003],\"xaxis\":\"x\",\"y\":[1,1,1,1,1,1,1,1,1,1,1,1,1,1,1,1,1,1,1,1,1,1,1,1,1,1,1,1,1,1,1,1,1,1,1,1,1,1,1,1,1,1,1,1,1,1,1,1,1,1,1,1,1,1,1,1,1,1,1,1,1,1,1,1,1,1,1,1,1,1,1,1,1,2,2,2,2,2,2,2,2,2,2,2,2,2,2,2,2,2,2,2,2,2,2,2,2,2,2,2,2,2,2,2,2,2,2,2,2,2,2,2,2,3,3,3,3,3,3,3,3,3,3,3,3,3,3,3,3,3,3,3,3,3,3,3,4,4,4,4,4,4,4,4,4,4,4,4,4,5,5,5,5,5,5,5,5,5,5,6,6,6,6,6,7,7,7,7,7,8,8,8,8,9,10,17,20,20,28],\"yaxis\":\"y\",\"type\":\"histogram\"}],                        {\"template\":{\"data\":{\"bar\":[{\"error_x\":{\"color\":\"#2a3f5f\"},\"error_y\":{\"color\":\"#2a3f5f\"},\"marker\":{\"line\":{\"color\":\"#E5ECF6\",\"width\":0.5},\"pattern\":{\"fillmode\":\"overlay\",\"size\":10,\"solidity\":0.2}},\"type\":\"bar\"}],\"barpolar\":[{\"marker\":{\"line\":{\"color\":\"#E5ECF6\",\"width\":0.5},\"pattern\":{\"fillmode\":\"overlay\",\"size\":10,\"solidity\":0.2}},\"type\":\"barpolar\"}],\"carpet\":[{\"aaxis\":{\"endlinecolor\":\"#2a3f5f\",\"gridcolor\":\"white\",\"linecolor\":\"white\",\"minorgridcolor\":\"white\",\"startlinecolor\":\"#2a3f5f\"},\"baxis\":{\"endlinecolor\":\"#2a3f5f\",\"gridcolor\":\"white\",\"linecolor\":\"white\",\"minorgridcolor\":\"white\",\"startlinecolor\":\"#2a3f5f\"},\"type\":\"carpet\"}],\"choropleth\":[{\"colorbar\":{\"outlinewidth\":0,\"ticks\":\"\"},\"type\":\"choropleth\"}],\"contour\":[{\"colorbar\":{\"outlinewidth\":0,\"ticks\":\"\"},\"colorscale\":[[0.0,\"#0d0887\"],[0.1111111111111111,\"#46039f\"],[0.2222222222222222,\"#7201a8\"],[0.3333333333333333,\"#9c179e\"],[0.4444444444444444,\"#bd3786\"],[0.5555555555555556,\"#d8576b\"],[0.6666666666666666,\"#ed7953\"],[0.7777777777777778,\"#fb9f3a\"],[0.8888888888888888,\"#fdca26\"],[1.0,\"#f0f921\"]],\"type\":\"contour\"}],\"contourcarpet\":[{\"colorbar\":{\"outlinewidth\":0,\"ticks\":\"\"},\"type\":\"contourcarpet\"}],\"heatmap\":[{\"colorbar\":{\"outlinewidth\":0,\"ticks\":\"\"},\"colorscale\":[[0.0,\"#0d0887\"],[0.1111111111111111,\"#46039f\"],[0.2222222222222222,\"#7201a8\"],[0.3333333333333333,\"#9c179e\"],[0.4444444444444444,\"#bd3786\"],[0.5555555555555556,\"#d8576b\"],[0.6666666666666666,\"#ed7953\"],[0.7777777777777778,\"#fb9f3a\"],[0.8888888888888888,\"#fdca26\"],[1.0,\"#f0f921\"]],\"type\":\"heatmap\"}],\"heatmapgl\":[{\"colorbar\":{\"outlinewidth\":0,\"ticks\":\"\"},\"colorscale\":[[0.0,\"#0d0887\"],[0.1111111111111111,\"#46039f\"],[0.2222222222222222,\"#7201a8\"],[0.3333333333333333,\"#9c179e\"],[0.4444444444444444,\"#bd3786\"],[0.5555555555555556,\"#d8576b\"],[0.6666666666666666,\"#ed7953\"],[0.7777777777777778,\"#fb9f3a\"],[0.8888888888888888,\"#fdca26\"],[1.0,\"#f0f921\"]],\"type\":\"heatmapgl\"}],\"histogram\":[{\"marker\":{\"pattern\":{\"fillmode\":\"overlay\",\"size\":10,\"solidity\":0.2}},\"type\":\"histogram\"}],\"histogram2d\":[{\"colorbar\":{\"outlinewidth\":0,\"ticks\":\"\"},\"colorscale\":[[0.0,\"#0d0887\"],[0.1111111111111111,\"#46039f\"],[0.2222222222222222,\"#7201a8\"],[0.3333333333333333,\"#9c179e\"],[0.4444444444444444,\"#bd3786\"],[0.5555555555555556,\"#d8576b\"],[0.6666666666666666,\"#ed7953\"],[0.7777777777777778,\"#fb9f3a\"],[0.8888888888888888,\"#fdca26\"],[1.0,\"#f0f921\"]],\"type\":\"histogram2d\"}],\"histogram2dcontour\":[{\"colorbar\":{\"outlinewidth\":0,\"ticks\":\"\"},\"colorscale\":[[0.0,\"#0d0887\"],[0.1111111111111111,\"#46039f\"],[0.2222222222222222,\"#7201a8\"],[0.3333333333333333,\"#9c179e\"],[0.4444444444444444,\"#bd3786\"],[0.5555555555555556,\"#d8576b\"],[0.6666666666666666,\"#ed7953\"],[0.7777777777777778,\"#fb9f3a\"],[0.8888888888888888,\"#fdca26\"],[1.0,\"#f0f921\"]],\"type\":\"histogram2dcontour\"}],\"mesh3d\":[{\"colorbar\":{\"outlinewidth\":0,\"ticks\":\"\"},\"type\":\"mesh3d\"}],\"parcoords\":[{\"line\":{\"colorbar\":{\"outlinewidth\":0,\"ticks\":\"\"}},\"type\":\"parcoords\"}],\"pie\":[{\"automargin\":true,\"type\":\"pie\"}],\"scatter\":[{\"marker\":{\"colorbar\":{\"outlinewidth\":0,\"ticks\":\"\"}},\"type\":\"scatter\"}],\"scatter3d\":[{\"line\":{\"colorbar\":{\"outlinewidth\":0,\"ticks\":\"\"}},\"marker\":{\"colorbar\":{\"outlinewidth\":0,\"ticks\":\"\"}},\"type\":\"scatter3d\"}],\"scattercarpet\":[{\"marker\":{\"colorbar\":{\"outlinewidth\":0,\"ticks\":\"\"}},\"type\":\"scattercarpet\"}],\"scattergeo\":[{\"marker\":{\"colorbar\":{\"outlinewidth\":0,\"ticks\":\"\"}},\"type\":\"scattergeo\"}],\"scattergl\":[{\"marker\":{\"colorbar\":{\"outlinewidth\":0,\"ticks\":\"\"}},\"type\":\"scattergl\"}],\"scattermapbox\":[{\"marker\":{\"colorbar\":{\"outlinewidth\":0,\"ticks\":\"\"}},\"type\":\"scattermapbox\"}],\"scatterpolar\":[{\"marker\":{\"colorbar\":{\"outlinewidth\":0,\"ticks\":\"\"}},\"type\":\"scatterpolar\"}],\"scatterpolargl\":[{\"marker\":{\"colorbar\":{\"outlinewidth\":0,\"ticks\":\"\"}},\"type\":\"scatterpolargl\"}],\"scatterternary\":[{\"marker\":{\"colorbar\":{\"outlinewidth\":0,\"ticks\":\"\"}},\"type\":\"scatterternary\"}],\"surface\":[{\"colorbar\":{\"outlinewidth\":0,\"ticks\":\"\"},\"colorscale\":[[0.0,\"#0d0887\"],[0.1111111111111111,\"#46039f\"],[0.2222222222222222,\"#7201a8\"],[0.3333333333333333,\"#9c179e\"],[0.4444444444444444,\"#bd3786\"],[0.5555555555555556,\"#d8576b\"],[0.6666666666666666,\"#ed7953\"],[0.7777777777777778,\"#fb9f3a\"],[0.8888888888888888,\"#fdca26\"],[1.0,\"#f0f921\"]],\"type\":\"surface\"}],\"table\":[{\"cells\":{\"fill\":{\"color\":\"#EBF0F8\"},\"line\":{\"color\":\"white\"}},\"header\":{\"fill\":{\"color\":\"#C8D4E3\"},\"line\":{\"color\":\"white\"}},\"type\":\"table\"}]},\"layout\":{\"annotationdefaults\":{\"arrowcolor\":\"#2a3f5f\",\"arrowhead\":0,\"arrowwidth\":1},\"autotypenumbers\":\"strict\",\"coloraxis\":{\"colorbar\":{\"outlinewidth\":0,\"ticks\":\"\"}},\"colorscale\":{\"diverging\":[[0,\"#8e0152\"],[0.1,\"#c51b7d\"],[0.2,\"#de77ae\"],[0.3,\"#f1b6da\"],[0.4,\"#fde0ef\"],[0.5,\"#f7f7f7\"],[0.6,\"#e6f5d0\"],[0.7,\"#b8e186\"],[0.8,\"#7fbc41\"],[0.9,\"#4d9221\"],[1,\"#276419\"]],\"sequential\":[[0.0,\"#0d0887\"],[0.1111111111111111,\"#46039f\"],[0.2222222222222222,\"#7201a8\"],[0.3333333333333333,\"#9c179e\"],[0.4444444444444444,\"#bd3786\"],[0.5555555555555556,\"#d8576b\"],[0.6666666666666666,\"#ed7953\"],[0.7777777777777778,\"#fb9f3a\"],[0.8888888888888888,\"#fdca26\"],[1.0,\"#f0f921\"]],\"sequentialminus\":[[0.0,\"#0d0887\"],[0.1111111111111111,\"#46039f\"],[0.2222222222222222,\"#7201a8\"],[0.3333333333333333,\"#9c179e\"],[0.4444444444444444,\"#bd3786\"],[0.5555555555555556,\"#d8576b\"],[0.6666666666666666,\"#ed7953\"],[0.7777777777777778,\"#fb9f3a\"],[0.8888888888888888,\"#fdca26\"],[1.0,\"#f0f921\"]]},\"colorway\":[\"#636efa\",\"#EF553B\",\"#00cc96\",\"#ab63fa\",\"#FFA15A\",\"#19d3f3\",\"#FF6692\",\"#B6E880\",\"#FF97FF\",\"#FECB52\"],\"font\":{\"color\":\"#2a3f5f\"},\"geo\":{\"bgcolor\":\"white\",\"lakecolor\":\"white\",\"landcolor\":\"#E5ECF6\",\"showlakes\":true,\"showland\":true,\"subunitcolor\":\"white\"},\"hoverlabel\":{\"align\":\"left\"},\"hovermode\":\"closest\",\"mapbox\":{\"style\":\"light\"},\"paper_bgcolor\":\"white\",\"plot_bgcolor\":\"#E5ECF6\",\"polar\":{\"angularaxis\":{\"gridcolor\":\"white\",\"linecolor\":\"white\",\"ticks\":\"\"},\"bgcolor\":\"#E5ECF6\",\"radialaxis\":{\"gridcolor\":\"white\",\"linecolor\":\"white\",\"ticks\":\"\"}},\"scene\":{\"xaxis\":{\"backgroundcolor\":\"#E5ECF6\",\"gridcolor\":\"white\",\"gridwidth\":2,\"linecolor\":\"white\",\"showbackground\":true,\"ticks\":\"\",\"zerolinecolor\":\"white\"},\"yaxis\":{\"backgroundcolor\":\"#E5ECF6\",\"gridcolor\":\"white\",\"gridwidth\":2,\"linecolor\":\"white\",\"showbackground\":true,\"ticks\":\"\",\"zerolinecolor\":\"white\"},\"zaxis\":{\"backgroundcolor\":\"#E5ECF6\",\"gridcolor\":\"white\",\"gridwidth\":2,\"linecolor\":\"white\",\"showbackground\":true,\"ticks\":\"\",\"zerolinecolor\":\"white\"}},\"shapedefaults\":{\"line\":{\"color\":\"#2a3f5f\"}},\"ternary\":{\"aaxis\":{\"gridcolor\":\"white\",\"linecolor\":\"white\",\"ticks\":\"\"},\"baxis\":{\"gridcolor\":\"white\",\"linecolor\":\"white\",\"ticks\":\"\"},\"bgcolor\":\"#E5ECF6\",\"caxis\":{\"gridcolor\":\"white\",\"linecolor\":\"white\",\"ticks\":\"\"}},\"title\":{\"x\":0.05},\"xaxis\":{\"automargin\":true,\"gridcolor\":\"white\",\"linecolor\":\"white\",\"ticks\":\"\",\"title\":{\"standoff\":15},\"zerolinecolor\":\"white\",\"zerolinewidth\":2},\"yaxis\":{\"automargin\":true,\"gridcolor\":\"white\",\"linecolor\":\"white\",\"ticks\":\"\",\"title\":{\"standoff\":15},\"zerolinecolor\":\"white\",\"zerolinewidth\":2}}},\"xaxis\":{\"anchor\":\"y\",\"domain\":[0.0,1.0],\"title\":{\"text\":\"Year\"},\"range\":[1300,2022]},\"yaxis\":{\"anchor\":\"x\",\"domain\":[0.0,1.0],\"title\":{\"text\":\"Number of Publications\"}},\"legend\":{\"tracegroupgap\":0},\"title\":{\"text\":\"Book Publications per Year\"},\"barmode\":\"relative\",\"shapes\":[{\"line\":{\"color\":\"green\",\"dash\":\"dash\",\"width\":3},\"type\":\"line\",\"x0\":0,\"x1\":1,\"xref\":\"x domain\",\"y0\":2.93,\"y1\":2.93,\"yref\":\"y\"}],\"annotations\":[{\"showarrow\":false,\"text\":\"Mean: 2.93 publications\",\"x\":0,\"xanchor\":\"left\",\"xref\":\"x domain\",\"y\":2.93,\"yanchor\":\"bottom\",\"yref\":\"y\"}]},                        {\"responsive\": true}                    ).then(function(){\n",
              "                            \n",
              "var gd = document.getElementById('4be3b79f-f095-48c4-88aa-883079362cb4');\n",
              "var x = new MutationObserver(function (mutations, observer) {{\n",
              "        var display = window.getComputedStyle(gd).display;\n",
              "        if (!display || display === 'none') {{\n",
              "            console.log([gd, 'removed!']);\n",
              "            Plotly.purge(gd);\n",
              "            observer.disconnect();\n",
              "        }}\n",
              "}});\n",
              "\n",
              "// Listen for the removal of the full notebook cells\n",
              "var notebookContainer = gd.closest('#notebook-container');\n",
              "if (notebookContainer) {{\n",
              "    x.observe(notebookContainer, {childList: true});\n",
              "}}\n",
              "\n",
              "// Listen for the clearing of the current output cell\n",
              "var outputEl = gd.closest('.output');\n",
              "if (outputEl) {{\n",
              "    x.observe(outputEl, {childList: true});\n",
              "}}\n",
              "\n",
              "                        })                };                            </script>        </div>\n",
              "</body>\n",
              "</html>"
            ]
          },
          "metadata": {}
        }
      ]
    },
    {
      "cell_type": "markdown",
      "source": [
        "## Analysis of Book Pages"
      ],
      "metadata": {
        "id": "F02HrVe5JxBl"
      }
    },
    {
      "cell_type": "code",
      "source": [
        "# Plot a histogram showing the number of pages in the books\n",
        "\n",
        "# Collect the data on the number of pages\n",
        "num_pages_df = sort_counter(num_pages)\n",
        "mean_num_of_pages = round(mean(num_pages_df['Keys']), 2)\n",
        "shortest = min(num_pages_df['Keys'])\n",
        "shortest_books = find_keys_match_all([shortest], num_pages, titles)\n",
        "longest = max(num_pages_df['Keys'])\n",
        "longest_books = find_keys_match_all([longest], num_pages, titles)\n",
        "\n",
        "# Plot the data as a histogram\n",
        "fig = px.histogram(num_pages_df,\n",
        "                   y='Count',\n",
        "                   x='Keys',\n",
        "                   title='Number of Book Pages')\n",
        "fig.update_traces(hovertemplate='# Pages = %{x}<br># of Publications = %{y}<extra></extra>')\n",
        "fig.update_layout(xaxis={'title': 'Number of Pages'},\n",
        "                  yaxis={'title': 'Number of Publications'})\n",
        "fig.add_vline(x=mean_num_of_pages, \n",
        "              line_width=3, \n",
        "              line_dash=\"dash\", \n",
        "              line_color=\"green\", \n",
        "              annotation_text=f\"Mean: {mean_num_of_pages} pages\", \n",
        "              annotation_position=\"top right\")\n",
        "fig.show()"
      ],
      "metadata": {
        "id": "PI8K33od3xFX",
        "colab": {
          "base_uri": "https://localhost:8080/",
          "height": 542
        },
        "outputId": "13458dd1-5d2d-4d45-cfb2-42b29096c876"
      },
      "execution_count": null,
      "outputs": [
        {
          "output_type": "display_data",
          "data": {
            "text/html": [
              "<html>\n",
              "<head><meta charset=\"utf-8\" /></head>\n",
              "<body>\n",
              "    <div>            <script src=\"https://cdnjs.cloudflare.com/ajax/libs/mathjax/2.7.5/MathJax.js?config=TeX-AMS-MML_SVG\"></script><script type=\"text/javascript\">if (window.MathJax) {MathJax.Hub.Config({SVG: {font: \"STIX-Web\"}});}</script>                <script type=\"text/javascript\">window.PlotlyConfig = {MathJaxConfig: 'local'};</script>\n",
              "        <script src=\"https://cdn.plot.ly/plotly-2.8.3.min.js\"></script>                <div id=\"2cad8159-d387-4dc8-8a33-0f65134f7151\" class=\"plotly-graph-div\" style=\"height:525px; width:100%;\"></div>            <script type=\"text/javascript\">                                    window.PLOTLYENV=window.PLOTLYENV || {};                                    if (document.getElementById(\"2cad8159-d387-4dc8-8a33-0f65134f7151\")) {                    Plotly.newPlot(                        \"2cad8159-d387-4dc8-8a33-0f65134f7151\",                        [{\"alignmentgroup\":\"True\",\"bingroup\":\"x\",\"histfunc\":\"sum\",\"hovertemplate\":\"# Pages = %{x}<br># of Publications = %{y}<extra></extra>\",\"legendgroup\":\"\",\"marker\":{\"color\":\"#636efa\",\"pattern\":{\"shape\":\"\"}},\"name\":\"\",\"offsetgroup\":\"\",\"orientation\":\"v\",\"showlegend\":false,\"x\":[298,241,492,370,120,529,156,888,627,97,577,991,209,252,44,359,88,423,721,398,616,417,325,354,684,541,1068,2662,115,817,504,179,291,536,329,249,331,567,466,175,532,533,683,137,510,123,127,350,12,648,340,625,689,229,801,371,1232,126,374,422,358,198,1021,206,222,1344,460,421,43,681,1376,624,992,850,401,192,732,783,257,326,500,399,380,122,481,444,189,131,107,199,715,438,366,867,109,1125,1061,1177,835,759,652,870,435,390,227,513,910,406,346,1392,250,188,562,1,281,181,363,414,385,149,82,784,692,626,162,1184,262,642,576,308,87,317,429,524,311,207,9,25,441,275,611,152,659,487,506,409,746,457,561,437,56,734,580,1276,671,922,470,79,882,736,463,461,117,159,271,733,283,490,1023,1020,632,499,26,394,622,202,453,327,244,639,278,859,1189,452,158,964,749,266,351,130,594,862,436,268,55,1003,521,100,253,195,474,242,99,197,880,483,896,628,168,527,276,48,415,704,792,180,479,186,1037,128,306,376,277,382,411,293,104,509,260,969,279,75,312,496,172,236,196,656,228,303,294,218,315,136,321,341,273,129,169,800,356,455,80,488,383,456,512,431,1056,194,357,204,544,309,226,143,343,389,654,468,528,314,154,184,201,448,372,216,119,264,608,416,302,289,449,318,210,324,420,489,464,182,176,224,335,447,592,255,384,160,245,213,336,112,307,288,64,432,96,304,32,208,144,480,352,240,368,256,272,320,400],\"xaxis\":\"x\",\"y\":[1,1,1,1,1,1,1,1,1,1,1,1,1,1,1,1,1,1,1,1,1,1,1,1,1,1,1,1,1,1,1,1,1,1,1,1,1,1,1,1,1,1,1,1,1,1,1,1,1,1,1,1,1,1,1,1,1,1,1,1,1,1,1,1,1,1,1,1,1,1,1,1,1,1,1,1,1,1,1,1,1,1,1,1,1,1,1,1,1,1,1,1,1,1,1,1,1,1,1,1,1,1,1,1,1,1,1,1,1,1,1,1,1,1,1,1,1,1,1,1,1,1,1,1,1,1,1,1,1,1,1,1,1,1,1,1,1,1,1,1,1,1,1,1,1,1,1,1,1,1,1,1,1,1,1,1,1,1,1,1,1,1,1,1,1,1,1,1,1,1,1,1,1,1,1,1,1,1,1,1,1,1,1,1,1,1,1,1,1,1,1,1,1,1,1,1,1,1,1,1,1,1,1,1,1,1,1,1,1,1,1,1,1,1,1,1,1,1,1,2,2,2,2,2,2,2,2,2,2,2,2,2,2,2,2,2,2,2,2,2,2,2,2,2,2,2,2,2,2,2,2,2,2,2,2,2,2,2,2,2,2,2,2,2,2,2,2,2,2,2,2,2,3,3,3,3,3,3,3,3,3,3,3,3,3,3,3,3,3,3,3,3,3,3,3,3,3,3,3,3,3,4,4,4,4,4,4,5,6,6,6,6,6,7,7,7,7,7,8,9,9],\"yaxis\":\"y\",\"type\":\"histogram\"}],                        {\"template\":{\"data\":{\"bar\":[{\"error_x\":{\"color\":\"#2a3f5f\"},\"error_y\":{\"color\":\"#2a3f5f\"},\"marker\":{\"line\":{\"color\":\"#E5ECF6\",\"width\":0.5},\"pattern\":{\"fillmode\":\"overlay\",\"size\":10,\"solidity\":0.2}},\"type\":\"bar\"}],\"barpolar\":[{\"marker\":{\"line\":{\"color\":\"#E5ECF6\",\"width\":0.5},\"pattern\":{\"fillmode\":\"overlay\",\"size\":10,\"solidity\":0.2}},\"type\":\"barpolar\"}],\"carpet\":[{\"aaxis\":{\"endlinecolor\":\"#2a3f5f\",\"gridcolor\":\"white\",\"linecolor\":\"white\",\"minorgridcolor\":\"white\",\"startlinecolor\":\"#2a3f5f\"},\"baxis\":{\"endlinecolor\":\"#2a3f5f\",\"gridcolor\":\"white\",\"linecolor\":\"white\",\"minorgridcolor\":\"white\",\"startlinecolor\":\"#2a3f5f\"},\"type\":\"carpet\"}],\"choropleth\":[{\"colorbar\":{\"outlinewidth\":0,\"ticks\":\"\"},\"type\":\"choropleth\"}],\"contour\":[{\"colorbar\":{\"outlinewidth\":0,\"ticks\":\"\"},\"colorscale\":[[0.0,\"#0d0887\"],[0.1111111111111111,\"#46039f\"],[0.2222222222222222,\"#7201a8\"],[0.3333333333333333,\"#9c179e\"],[0.4444444444444444,\"#bd3786\"],[0.5555555555555556,\"#d8576b\"],[0.6666666666666666,\"#ed7953\"],[0.7777777777777778,\"#fb9f3a\"],[0.8888888888888888,\"#fdca26\"],[1.0,\"#f0f921\"]],\"type\":\"contour\"}],\"contourcarpet\":[{\"colorbar\":{\"outlinewidth\":0,\"ticks\":\"\"},\"type\":\"contourcarpet\"}],\"heatmap\":[{\"colorbar\":{\"outlinewidth\":0,\"ticks\":\"\"},\"colorscale\":[[0.0,\"#0d0887\"],[0.1111111111111111,\"#46039f\"],[0.2222222222222222,\"#7201a8\"],[0.3333333333333333,\"#9c179e\"],[0.4444444444444444,\"#bd3786\"],[0.5555555555555556,\"#d8576b\"],[0.6666666666666666,\"#ed7953\"],[0.7777777777777778,\"#fb9f3a\"],[0.8888888888888888,\"#fdca26\"],[1.0,\"#f0f921\"]],\"type\":\"heatmap\"}],\"heatmapgl\":[{\"colorbar\":{\"outlinewidth\":0,\"ticks\":\"\"},\"colorscale\":[[0.0,\"#0d0887\"],[0.1111111111111111,\"#46039f\"],[0.2222222222222222,\"#7201a8\"],[0.3333333333333333,\"#9c179e\"],[0.4444444444444444,\"#bd3786\"],[0.5555555555555556,\"#d8576b\"],[0.6666666666666666,\"#ed7953\"],[0.7777777777777778,\"#fb9f3a\"],[0.8888888888888888,\"#fdca26\"],[1.0,\"#f0f921\"]],\"type\":\"heatmapgl\"}],\"histogram\":[{\"marker\":{\"pattern\":{\"fillmode\":\"overlay\",\"size\":10,\"solidity\":0.2}},\"type\":\"histogram\"}],\"histogram2d\":[{\"colorbar\":{\"outlinewidth\":0,\"ticks\":\"\"},\"colorscale\":[[0.0,\"#0d0887\"],[0.1111111111111111,\"#46039f\"],[0.2222222222222222,\"#7201a8\"],[0.3333333333333333,\"#9c179e\"],[0.4444444444444444,\"#bd3786\"],[0.5555555555555556,\"#d8576b\"],[0.6666666666666666,\"#ed7953\"],[0.7777777777777778,\"#fb9f3a\"],[0.8888888888888888,\"#fdca26\"],[1.0,\"#f0f921\"]],\"type\":\"histogram2d\"}],\"histogram2dcontour\":[{\"colorbar\":{\"outlinewidth\":0,\"ticks\":\"\"},\"colorscale\":[[0.0,\"#0d0887\"],[0.1111111111111111,\"#46039f\"],[0.2222222222222222,\"#7201a8\"],[0.3333333333333333,\"#9c179e\"],[0.4444444444444444,\"#bd3786\"],[0.5555555555555556,\"#d8576b\"],[0.6666666666666666,\"#ed7953\"],[0.7777777777777778,\"#fb9f3a\"],[0.8888888888888888,\"#fdca26\"],[1.0,\"#f0f921\"]],\"type\":\"histogram2dcontour\"}],\"mesh3d\":[{\"colorbar\":{\"outlinewidth\":0,\"ticks\":\"\"},\"type\":\"mesh3d\"}],\"parcoords\":[{\"line\":{\"colorbar\":{\"outlinewidth\":0,\"ticks\":\"\"}},\"type\":\"parcoords\"}],\"pie\":[{\"automargin\":true,\"type\":\"pie\"}],\"scatter\":[{\"marker\":{\"colorbar\":{\"outlinewidth\":0,\"ticks\":\"\"}},\"type\":\"scatter\"}],\"scatter3d\":[{\"line\":{\"colorbar\":{\"outlinewidth\":0,\"ticks\":\"\"}},\"marker\":{\"colorbar\":{\"outlinewidth\":0,\"ticks\":\"\"}},\"type\":\"scatter3d\"}],\"scattercarpet\":[{\"marker\":{\"colorbar\":{\"outlinewidth\":0,\"ticks\":\"\"}},\"type\":\"scattercarpet\"}],\"scattergeo\":[{\"marker\":{\"colorbar\":{\"outlinewidth\":0,\"ticks\":\"\"}},\"type\":\"scattergeo\"}],\"scattergl\":[{\"marker\":{\"colorbar\":{\"outlinewidth\":0,\"ticks\":\"\"}},\"type\":\"scattergl\"}],\"scattermapbox\":[{\"marker\":{\"colorbar\":{\"outlinewidth\":0,\"ticks\":\"\"}},\"type\":\"scattermapbox\"}],\"scatterpolar\":[{\"marker\":{\"colorbar\":{\"outlinewidth\":0,\"ticks\":\"\"}},\"type\":\"scatterpolar\"}],\"scatterpolargl\":[{\"marker\":{\"colorbar\":{\"outlinewidth\":0,\"ticks\":\"\"}},\"type\":\"scatterpolargl\"}],\"scatterternary\":[{\"marker\":{\"colorbar\":{\"outlinewidth\":0,\"ticks\":\"\"}},\"type\":\"scatterternary\"}],\"surface\":[{\"colorbar\":{\"outlinewidth\":0,\"ticks\":\"\"},\"colorscale\":[[0.0,\"#0d0887\"],[0.1111111111111111,\"#46039f\"],[0.2222222222222222,\"#7201a8\"],[0.3333333333333333,\"#9c179e\"],[0.4444444444444444,\"#bd3786\"],[0.5555555555555556,\"#d8576b\"],[0.6666666666666666,\"#ed7953\"],[0.7777777777777778,\"#fb9f3a\"],[0.8888888888888888,\"#fdca26\"],[1.0,\"#f0f921\"]],\"type\":\"surface\"}],\"table\":[{\"cells\":{\"fill\":{\"color\":\"#EBF0F8\"},\"line\":{\"color\":\"white\"}},\"header\":{\"fill\":{\"color\":\"#C8D4E3\"},\"line\":{\"color\":\"white\"}},\"type\":\"table\"}]},\"layout\":{\"annotationdefaults\":{\"arrowcolor\":\"#2a3f5f\",\"arrowhead\":0,\"arrowwidth\":1},\"autotypenumbers\":\"strict\",\"coloraxis\":{\"colorbar\":{\"outlinewidth\":0,\"ticks\":\"\"}},\"colorscale\":{\"diverging\":[[0,\"#8e0152\"],[0.1,\"#c51b7d\"],[0.2,\"#de77ae\"],[0.3,\"#f1b6da\"],[0.4,\"#fde0ef\"],[0.5,\"#f7f7f7\"],[0.6,\"#e6f5d0\"],[0.7,\"#b8e186\"],[0.8,\"#7fbc41\"],[0.9,\"#4d9221\"],[1,\"#276419\"]],\"sequential\":[[0.0,\"#0d0887\"],[0.1111111111111111,\"#46039f\"],[0.2222222222222222,\"#7201a8\"],[0.3333333333333333,\"#9c179e\"],[0.4444444444444444,\"#bd3786\"],[0.5555555555555556,\"#d8576b\"],[0.6666666666666666,\"#ed7953\"],[0.7777777777777778,\"#fb9f3a\"],[0.8888888888888888,\"#fdca26\"],[1.0,\"#f0f921\"]],\"sequentialminus\":[[0.0,\"#0d0887\"],[0.1111111111111111,\"#46039f\"],[0.2222222222222222,\"#7201a8\"],[0.3333333333333333,\"#9c179e\"],[0.4444444444444444,\"#bd3786\"],[0.5555555555555556,\"#d8576b\"],[0.6666666666666666,\"#ed7953\"],[0.7777777777777778,\"#fb9f3a\"],[0.8888888888888888,\"#fdca26\"],[1.0,\"#f0f921\"]]},\"colorway\":[\"#636efa\",\"#EF553B\",\"#00cc96\",\"#ab63fa\",\"#FFA15A\",\"#19d3f3\",\"#FF6692\",\"#B6E880\",\"#FF97FF\",\"#FECB52\"],\"font\":{\"color\":\"#2a3f5f\"},\"geo\":{\"bgcolor\":\"white\",\"lakecolor\":\"white\",\"landcolor\":\"#E5ECF6\",\"showlakes\":true,\"showland\":true,\"subunitcolor\":\"white\"},\"hoverlabel\":{\"align\":\"left\"},\"hovermode\":\"closest\",\"mapbox\":{\"style\":\"light\"},\"paper_bgcolor\":\"white\",\"plot_bgcolor\":\"#E5ECF6\",\"polar\":{\"angularaxis\":{\"gridcolor\":\"white\",\"linecolor\":\"white\",\"ticks\":\"\"},\"bgcolor\":\"#E5ECF6\",\"radialaxis\":{\"gridcolor\":\"white\",\"linecolor\":\"white\",\"ticks\":\"\"}},\"scene\":{\"xaxis\":{\"backgroundcolor\":\"#E5ECF6\",\"gridcolor\":\"white\",\"gridwidth\":2,\"linecolor\":\"white\",\"showbackground\":true,\"ticks\":\"\",\"zerolinecolor\":\"white\"},\"yaxis\":{\"backgroundcolor\":\"#E5ECF6\",\"gridcolor\":\"white\",\"gridwidth\":2,\"linecolor\":\"white\",\"showbackground\":true,\"ticks\":\"\",\"zerolinecolor\":\"white\"},\"zaxis\":{\"backgroundcolor\":\"#E5ECF6\",\"gridcolor\":\"white\",\"gridwidth\":2,\"linecolor\":\"white\",\"showbackground\":true,\"ticks\":\"\",\"zerolinecolor\":\"white\"}},\"shapedefaults\":{\"line\":{\"color\":\"#2a3f5f\"}},\"ternary\":{\"aaxis\":{\"gridcolor\":\"white\",\"linecolor\":\"white\",\"ticks\":\"\"},\"baxis\":{\"gridcolor\":\"white\",\"linecolor\":\"white\",\"ticks\":\"\"},\"bgcolor\":\"#E5ECF6\",\"caxis\":{\"gridcolor\":\"white\",\"linecolor\":\"white\",\"ticks\":\"\"}},\"title\":{\"x\":0.05},\"xaxis\":{\"automargin\":true,\"gridcolor\":\"white\",\"linecolor\":\"white\",\"ticks\":\"\",\"title\":{\"standoff\":15},\"zerolinecolor\":\"white\",\"zerolinewidth\":2},\"yaxis\":{\"automargin\":true,\"gridcolor\":\"white\",\"linecolor\":\"white\",\"ticks\":\"\",\"title\":{\"standoff\":15},\"zerolinecolor\":\"white\",\"zerolinewidth\":2}}},\"xaxis\":{\"anchor\":\"y\",\"domain\":[0.0,1.0],\"title\":{\"text\":\"Number of Pages\"}},\"yaxis\":{\"anchor\":\"x\",\"domain\":[0.0,1.0],\"title\":{\"text\":\"Number of Publications\"}},\"legend\":{\"tracegroupgap\":0},\"title\":{\"text\":\"Number of Book Pages\"},\"barmode\":\"relative\",\"shapes\":[{\"line\":{\"color\":\"green\",\"dash\":\"dash\",\"width\":3},\"type\":\"line\",\"x0\":432.79,\"x1\":432.79,\"xref\":\"x\",\"y0\":0,\"y1\":1,\"yref\":\"y domain\"}],\"annotations\":[{\"showarrow\":false,\"text\":\"Mean: 432.79 pages\",\"x\":432.79,\"xanchor\":\"left\",\"xref\":\"x\",\"y\":1,\"yanchor\":\"top\",\"yref\":\"y domain\"}]},                        {\"responsive\": true}                    ).then(function(){\n",
              "                            \n",
              "var gd = document.getElementById('2cad8159-d387-4dc8-8a33-0f65134f7151');\n",
              "var x = new MutationObserver(function (mutations, observer) {{\n",
              "        var display = window.getComputedStyle(gd).display;\n",
              "        if (!display || display === 'none') {{\n",
              "            console.log([gd, 'removed!']);\n",
              "            Plotly.purge(gd);\n",
              "            observer.disconnect();\n",
              "        }}\n",
              "}});\n",
              "\n",
              "// Listen for the removal of the full notebook cells\n",
              "var notebookContainer = gd.closest('#notebook-container');\n",
              "if (notebookContainer) {{\n",
              "    x.observe(notebookContainer, {childList: true});\n",
              "}}\n",
              "\n",
              "// Listen for the clearing of the current output cell\n",
              "var outputEl = gd.closest('.output');\n",
              "if (outputEl) {{\n",
              "    x.observe(outputEl, {childList: true});\n",
              "}}\n",
              "\n",
              "                        })                };                            </script>        </div>\n",
              "</body>\n",
              "</html>"
            ]
          },
          "metadata": {}
        }
      ]
    },
    {
      "cell_type": "markdown",
      "source": [
        "Graph Summary\n",
        "\n",
        "* 432.79 is the mean number of pages for all the books\n",
        "* Sonnet 43 (How Do I Love Thee?) is the shortest book, with 1 page\n",
        "* The Norton Anthology of Theory and Criticism is the longest book, with 2,662 pages"
      ],
      "metadata": {
        "id": "zapj_rKlUpPq"
      }
    },
    {
      "cell_type": "markdown",
      "source": [
        "## Analysis of Genres"
      ],
      "metadata": {
        "id": "L2oQTUAxVP98"
      }
    },
    {
      "cell_type": "markdown",
      "source": [
        "Each book is classified under multiple genres, with the genres listed first being the most relevent"
      ],
      "metadata": {
        "id": "eJLV0VPddpB4"
      }
    },
    {
      "cell_type": "code",
      "source": [
        "# Create a pie chart showing the breakdown of genres in the booklist\n",
        "\n",
        "# Gather data on the genres\n",
        "all_genres = ', '.join(list(genres)).split(', ')\n",
        "genres_df = sort_counter(all_genres)\n",
        "\n",
        "# Plot a pie chart showing the breakdown of genres\n",
        "fig = px.pie(genres_df, \n",
        "             values='Count', \n",
        "             names='Keys',\n",
        "             title='Breakdown of Genres in the Rory Gilmore Book List')\n",
        "fig.update_traces(textposition='inside', textinfo='percent+label')\n",
        "fig.show()"
      ],
      "metadata": {
        "id": "YGipWAr25HZ-",
        "colab": {
          "base_uri": "https://localhost:8080/",
          "height": 542
        },
        "outputId": "778418cf-7c3c-4d2f-dd23-169fa1a7ad48"
      },
      "execution_count": null,
      "outputs": [
        {
          "output_type": "display_data",
          "data": {
            "text/html": [
              "<html>\n",
              "<head><meta charset=\"utf-8\" /></head>\n",
              "<body>\n",
              "    <div>            <script src=\"https://cdnjs.cloudflare.com/ajax/libs/mathjax/2.7.5/MathJax.js?config=TeX-AMS-MML_SVG\"></script><script type=\"text/javascript\">if (window.MathJax) {MathJax.Hub.Config({SVG: {font: \"STIX-Web\"}});}</script>                <script type=\"text/javascript\">window.PlotlyConfig = {MathJaxConfig: 'local'};</script>\n",
              "        <script src=\"https://cdn.plot.ly/plotly-2.8.3.min.js\"></script>                <div id=\"ea92bfd0-76b6-4715-a055-c1b9e15b57b1\" class=\"plotly-graph-div\" style=\"height:525px; width:100%;\"></div>            <script type=\"text/javascript\">                                    window.PLOTLYENV=window.PLOTLYENV || {};                                    if (document.getElementById(\"ea92bfd0-76b6-4715-a055-c1b9e15b57b1\")) {                    Plotly.newPlot(                        \"ea92bfd0-76b6-4715-a055-c1b9e15b57b1\",                        [{\"domain\":{\"x\":[0.0,1.0],\"y\":[0.0,1.0]},\"hovertemplate\":\"Keys=%{label}<br>Count=%{value}<extra></extra>\",\"labels\":[\"Space\",\"Portuguese Literature\",\"Hockey\",\"Australia\",\"New Age\",\"Parenting\",\"Dinosaurs\",\"Romanovs\",\"Productivity\",\"Food Writing\",\"Christian Fiction\",\"Portugal\",\"Danish\",\"Love Story\",\"History Of Science\",\"American Civil War\",\"Marriage\",\"Gothic Romance\",\"Film\",\"Abuse\",\"Finance\",\"Money\",\"Faith\",\"Love\",\"Gnosticism\",\"Theology\",\"Christianity\",\"Bangladesh\",\"Contemporary Romance\",\"M M Romance\",\"Cinderella\",\"Female Authors\",\"Aliens\",\"Modern\",\"Animal Fiction\",\"Autistic Spectrum Disorder\",\"Music Biography\",\"Counter Culture\",\"Geometry\",\"Language\",\"Americana\",\"Graphic Novels\",\"Metaphysics\",\"Germany\",\"Guidebook\",\"Conspiracy Theories\",\"Nutrition\",\"Cultural Studies\",\"Musicals\",\"Architecture\",\"Maritime\",\"Outdoors\",\"Romantic Suspense\",\"Scandinavian Literature\",\"True Story\",\"Law\",\"Buddhism\",\"Cult Classics\",\"American Classics\",\"Social Science\",\"Halloween\",\"Latin American Literature\",\"Russian History\",\"Soviet History\",\"BDSM\",\"Childrens Classics\",\"Judaism\",\"Ukraine\",\"Scotland\",\"Czech Literature\",\"Society\",\"American Fiction\",\"Retellings\",\"Wine\",\"Food and Wine\",\"Drinking\",\"Legal Thriller\",\"Fitness\",\"Judaica\",\"Spy Thriller\",\"Murder Mystery\",\"Hinduism\",\"Poverty\",\"Urban Studies\",\"Social Issues\",\"Photography\",\"M F Romance\",\"Evolution\",\"Anthropology\",\"Natural History\",\"Technology\",\"Speculative Fiction\",\"Engineering\",\"Urban Planning\",\"Cities\",\"Kenya\",\"International Relations\",\"Terrorism\",\"Oral History\",\"Indian Literature\",\"Urban\",\"Dogs\",\"Race\",\"Witches\",\"Astronomy\",\"Islam\",\"Dragons\",\"Cults\",\"Textbooks\",\"Noir\",\"17th Century\",\"Biology\",\"Health\",\"Japan\",\"European History\",\"Folklore\",\"Post Apocalyptic\",\"College\",\"Espionage\",\"Novella\",\"Physics\",\"Epic\",\"Medical\",\"Social Justice\",\"Foodie\",\"Culinary\",\"Medicine\",\"Asian Literature\",\"Gay\",\"Food and Drink\",\"Art History\",\"Short Story Collection\",\"Comics\",\"Christian\",\"Mathematics\",\"Civil War\",\"Southern Gothic\",\"China\",\"Spain\",\"Cookbooks\",\"Rock N Roll\",\"Nobel Prize\",\"Supernatural\",\"Ireland\",\"Sports\",\"Death\",\"Relationships\",\"Management\",\"Disability\",\"Presidents\",\"Latin American\",\"Punk\",\"Academic\",\"Africa\",\"World History\",\"Diary\",\"United States\",\"Education\",\"Historical Romance\",\"Cultural\",\"Inspirational\",\"Womens Studies\",\"Italian Literature\",\"Gender Studies\",\"Sexuality\",\"Mythology\",\"Cooking\",\"India\",\"Irish Literature\",\"Paranormal\",\"Modern Classics\",\"Southern\",\"Medieval\",\"Leadership\",\"African American\",\"18th Century\",\"Christmas\",\"Holiday\",\"Iran\",\"Westerns\",\"Criticism\",\"Canadian Literature\",\"Environment\",\"Jewish\",\"Teen\",\"Chapter Books\",\"Epic Fantasy\",\"High Fantasy\",\"Time Travel\",\"How To\",\"Erotica\",\"Literary Criticism\",\"Food\",\"Canada\",\"Military History\",\"Tragedy\",\"Realistic Fiction\",\"Italy\",\"English Literature\",\"Political Science\",\"Kids\",\"Asia\",\"German Literature\",\"Nature\",\"Collections\",\"Gender\",\"Holocaust\",\"Military Fiction\",\"21st Century\",\"Books About Books\",\"Greece\",\"Theory\",\"Russian Literature\",\"Ancient\",\"Business\",\"Personal Development\",\"Unfinished\",\"Media Tie In\",\"Travel\",\"Roman\",\"Dystopia\",\"Anthologies\",\"Banned Books\",\"Magic\",\"Pop Culture\",\"Science\",\"Economics\",\"Spanish Literature\",\"Ancient History\",\"Russia\",\"True Crime\",\"Queer\",\"Fairy Tales\",\"LGBT\",\"Magical Realism\",\"Art\",\"Victorian\",\"Mental Health\",\"Mental Illness\",\"Gothic\",\"Animals\",\"American History\",\"French Literature\",\"Spirituality\",\"Self Help\",\"Detective\",\"World War II\",\"Journalism\",\"High School\",\"Book Club\",\"Writing\",\"Picture Books\",\"Family\",\"New York\",\"Sociology\",\"Suspense\",\"Music\",\"Comedy\",\"The United States Of America\",\"Science Fiction\",\"Horror\",\"Coming Of Age\",\"Religion\",\"Reference\",\"Chick Lit\",\"Science Fiction Fantasy\",\"Read For School\",\"Juvenile\",\"France\",\"Mystery Thriller\",\"Essays\",\"Feminism\",\"Psychology\",\"War\",\"Middle Grade\",\"Womens\",\"Theatre\",\"Thriller\",\"Autobiography\",\"Adult Fiction\",\"19th Century\",\"Crime\",\"Plays\",\"Classic Literature\",\"Politics\",\"Adventure\",\"Short Stories\",\"Philosophy\",\"Drama\",\"Childrens\",\"Poetry\",\"British Literature\",\"Mystery\",\"Biography Memoir\",\"Humor\",\"Young Adult\",\"Memoir\",\"Adult\",\"Contemporary\",\"20th Century\",\"Literary Fiction\",\"School\",\"Romance\",\"Fantasy\",\"Biography\",\"American\",\"Audiobook\",\"History\",\"Historical\",\"Historical Fiction\",\"Nonfiction\",\"Novels\",\"Literature\",\"Fiction\",\"Classics\"],\"legendgroup\":\"\",\"name\":\"\",\"showlegend\":true,\"values\":[1,1,1,1,1,1,1,1,1,1,1,1,1,1,1,1,1,1,1,1,1,1,1,1,1,1,1,1,1,1,1,1,1,1,1,1,1,1,1,1,1,1,1,1,1,1,1,1,1,1,1,1,1,1,1,1,1,1,1,1,1,1,1,1,1,1,1,1,1,1,1,1,1,1,1,1,1,1,1,1,1,1,1,1,1,1,1,1,1,1,1,1,1,1,1,1,1,1,1,1,1,2,2,2,2,2,2,2,2,2,2,2,2,2,2,2,2,2,2,2,2,2,2,2,2,2,2,2,2,2,2,2,2,3,3,3,3,3,3,3,3,3,3,3,3,3,3,3,3,3,3,3,3,3,3,3,3,4,4,4,4,4,4,4,4,4,4,4,4,4,4,4,4,4,4,4,4,4,4,4,4,4,4,5,5,5,5,5,5,5,5,5,5,5,5,5,6,6,6,6,6,6,6,6,6,6,6,6,6,7,7,7,7,7,7,7,7,7,7,7,7,7,8,8,8,8,8,8,9,9,9,9,9,9,9,9,9,10,10,11,11,12,12,12,13,13,13,14,14,14,14,14,14,14,14,15,15,16,16,17,17,17,17,18,18,18,21,22,23,24,26,27,27,28,29,30,32,34,34,36,37,37,38,38,40,41,41,45,45,46,47,48,48,49,50,53,59,61,62,63,64,66,68,72,75,81,85,85,93,145,150,166,237,312,313],\"type\":\"pie\",\"textinfo\":\"percent+label\",\"textposition\":\"inside\"}],                        {\"template\":{\"data\":{\"bar\":[{\"error_x\":{\"color\":\"#2a3f5f\"},\"error_y\":{\"color\":\"#2a3f5f\"},\"marker\":{\"line\":{\"color\":\"#E5ECF6\",\"width\":0.5},\"pattern\":{\"fillmode\":\"overlay\",\"size\":10,\"solidity\":0.2}},\"type\":\"bar\"}],\"barpolar\":[{\"marker\":{\"line\":{\"color\":\"#E5ECF6\",\"width\":0.5},\"pattern\":{\"fillmode\":\"overlay\",\"size\":10,\"solidity\":0.2}},\"type\":\"barpolar\"}],\"carpet\":[{\"aaxis\":{\"endlinecolor\":\"#2a3f5f\",\"gridcolor\":\"white\",\"linecolor\":\"white\",\"minorgridcolor\":\"white\",\"startlinecolor\":\"#2a3f5f\"},\"baxis\":{\"endlinecolor\":\"#2a3f5f\",\"gridcolor\":\"white\",\"linecolor\":\"white\",\"minorgridcolor\":\"white\",\"startlinecolor\":\"#2a3f5f\"},\"type\":\"carpet\"}],\"choropleth\":[{\"colorbar\":{\"outlinewidth\":0,\"ticks\":\"\"},\"type\":\"choropleth\"}],\"contour\":[{\"colorbar\":{\"outlinewidth\":0,\"ticks\":\"\"},\"colorscale\":[[0.0,\"#0d0887\"],[0.1111111111111111,\"#46039f\"],[0.2222222222222222,\"#7201a8\"],[0.3333333333333333,\"#9c179e\"],[0.4444444444444444,\"#bd3786\"],[0.5555555555555556,\"#d8576b\"],[0.6666666666666666,\"#ed7953\"],[0.7777777777777778,\"#fb9f3a\"],[0.8888888888888888,\"#fdca26\"],[1.0,\"#f0f921\"]],\"type\":\"contour\"}],\"contourcarpet\":[{\"colorbar\":{\"outlinewidth\":0,\"ticks\":\"\"},\"type\":\"contourcarpet\"}],\"heatmap\":[{\"colorbar\":{\"outlinewidth\":0,\"ticks\":\"\"},\"colorscale\":[[0.0,\"#0d0887\"],[0.1111111111111111,\"#46039f\"],[0.2222222222222222,\"#7201a8\"],[0.3333333333333333,\"#9c179e\"],[0.4444444444444444,\"#bd3786\"],[0.5555555555555556,\"#d8576b\"],[0.6666666666666666,\"#ed7953\"],[0.7777777777777778,\"#fb9f3a\"],[0.8888888888888888,\"#fdca26\"],[1.0,\"#f0f921\"]],\"type\":\"heatmap\"}],\"heatmapgl\":[{\"colorbar\":{\"outlinewidth\":0,\"ticks\":\"\"},\"colorscale\":[[0.0,\"#0d0887\"],[0.1111111111111111,\"#46039f\"],[0.2222222222222222,\"#7201a8\"],[0.3333333333333333,\"#9c179e\"],[0.4444444444444444,\"#bd3786\"],[0.5555555555555556,\"#d8576b\"],[0.6666666666666666,\"#ed7953\"],[0.7777777777777778,\"#fb9f3a\"],[0.8888888888888888,\"#fdca26\"],[1.0,\"#f0f921\"]],\"type\":\"heatmapgl\"}],\"histogram\":[{\"marker\":{\"pattern\":{\"fillmode\":\"overlay\",\"size\":10,\"solidity\":0.2}},\"type\":\"histogram\"}],\"histogram2d\":[{\"colorbar\":{\"outlinewidth\":0,\"ticks\":\"\"},\"colorscale\":[[0.0,\"#0d0887\"],[0.1111111111111111,\"#46039f\"],[0.2222222222222222,\"#7201a8\"],[0.3333333333333333,\"#9c179e\"],[0.4444444444444444,\"#bd3786\"],[0.5555555555555556,\"#d8576b\"],[0.6666666666666666,\"#ed7953\"],[0.7777777777777778,\"#fb9f3a\"],[0.8888888888888888,\"#fdca26\"],[1.0,\"#f0f921\"]],\"type\":\"histogram2d\"}],\"histogram2dcontour\":[{\"colorbar\":{\"outlinewidth\":0,\"ticks\":\"\"},\"colorscale\":[[0.0,\"#0d0887\"],[0.1111111111111111,\"#46039f\"],[0.2222222222222222,\"#7201a8\"],[0.3333333333333333,\"#9c179e\"],[0.4444444444444444,\"#bd3786\"],[0.5555555555555556,\"#d8576b\"],[0.6666666666666666,\"#ed7953\"],[0.7777777777777778,\"#fb9f3a\"],[0.8888888888888888,\"#fdca26\"],[1.0,\"#f0f921\"]],\"type\":\"histogram2dcontour\"}],\"mesh3d\":[{\"colorbar\":{\"outlinewidth\":0,\"ticks\":\"\"},\"type\":\"mesh3d\"}],\"parcoords\":[{\"line\":{\"colorbar\":{\"outlinewidth\":0,\"ticks\":\"\"}},\"type\":\"parcoords\"}],\"pie\":[{\"automargin\":true,\"type\":\"pie\"}],\"scatter\":[{\"marker\":{\"colorbar\":{\"outlinewidth\":0,\"ticks\":\"\"}},\"type\":\"scatter\"}],\"scatter3d\":[{\"line\":{\"colorbar\":{\"outlinewidth\":0,\"ticks\":\"\"}},\"marker\":{\"colorbar\":{\"outlinewidth\":0,\"ticks\":\"\"}},\"type\":\"scatter3d\"}],\"scattercarpet\":[{\"marker\":{\"colorbar\":{\"outlinewidth\":0,\"ticks\":\"\"}},\"type\":\"scattercarpet\"}],\"scattergeo\":[{\"marker\":{\"colorbar\":{\"outlinewidth\":0,\"ticks\":\"\"}},\"type\":\"scattergeo\"}],\"scattergl\":[{\"marker\":{\"colorbar\":{\"outlinewidth\":0,\"ticks\":\"\"}},\"type\":\"scattergl\"}],\"scattermapbox\":[{\"marker\":{\"colorbar\":{\"outlinewidth\":0,\"ticks\":\"\"}},\"type\":\"scattermapbox\"}],\"scatterpolar\":[{\"marker\":{\"colorbar\":{\"outlinewidth\":0,\"ticks\":\"\"}},\"type\":\"scatterpolar\"}],\"scatterpolargl\":[{\"marker\":{\"colorbar\":{\"outlinewidth\":0,\"ticks\":\"\"}},\"type\":\"scatterpolargl\"}],\"scatterternary\":[{\"marker\":{\"colorbar\":{\"outlinewidth\":0,\"ticks\":\"\"}},\"type\":\"scatterternary\"}],\"surface\":[{\"colorbar\":{\"outlinewidth\":0,\"ticks\":\"\"},\"colorscale\":[[0.0,\"#0d0887\"],[0.1111111111111111,\"#46039f\"],[0.2222222222222222,\"#7201a8\"],[0.3333333333333333,\"#9c179e\"],[0.4444444444444444,\"#bd3786\"],[0.5555555555555556,\"#d8576b\"],[0.6666666666666666,\"#ed7953\"],[0.7777777777777778,\"#fb9f3a\"],[0.8888888888888888,\"#fdca26\"],[1.0,\"#f0f921\"]],\"type\":\"surface\"}],\"table\":[{\"cells\":{\"fill\":{\"color\":\"#EBF0F8\"},\"line\":{\"color\":\"white\"}},\"header\":{\"fill\":{\"color\":\"#C8D4E3\"},\"line\":{\"color\":\"white\"}},\"type\":\"table\"}]},\"layout\":{\"annotationdefaults\":{\"arrowcolor\":\"#2a3f5f\",\"arrowhead\":0,\"arrowwidth\":1},\"autotypenumbers\":\"strict\",\"coloraxis\":{\"colorbar\":{\"outlinewidth\":0,\"ticks\":\"\"}},\"colorscale\":{\"diverging\":[[0,\"#8e0152\"],[0.1,\"#c51b7d\"],[0.2,\"#de77ae\"],[0.3,\"#f1b6da\"],[0.4,\"#fde0ef\"],[0.5,\"#f7f7f7\"],[0.6,\"#e6f5d0\"],[0.7,\"#b8e186\"],[0.8,\"#7fbc41\"],[0.9,\"#4d9221\"],[1,\"#276419\"]],\"sequential\":[[0.0,\"#0d0887\"],[0.1111111111111111,\"#46039f\"],[0.2222222222222222,\"#7201a8\"],[0.3333333333333333,\"#9c179e\"],[0.4444444444444444,\"#bd3786\"],[0.5555555555555556,\"#d8576b\"],[0.6666666666666666,\"#ed7953\"],[0.7777777777777778,\"#fb9f3a\"],[0.8888888888888888,\"#fdca26\"],[1.0,\"#f0f921\"]],\"sequentialminus\":[[0.0,\"#0d0887\"],[0.1111111111111111,\"#46039f\"],[0.2222222222222222,\"#7201a8\"],[0.3333333333333333,\"#9c179e\"],[0.4444444444444444,\"#bd3786\"],[0.5555555555555556,\"#d8576b\"],[0.6666666666666666,\"#ed7953\"],[0.7777777777777778,\"#fb9f3a\"],[0.8888888888888888,\"#fdca26\"],[1.0,\"#f0f921\"]]},\"colorway\":[\"#636efa\",\"#EF553B\",\"#00cc96\",\"#ab63fa\",\"#FFA15A\",\"#19d3f3\",\"#FF6692\",\"#B6E880\",\"#FF97FF\",\"#FECB52\"],\"font\":{\"color\":\"#2a3f5f\"},\"geo\":{\"bgcolor\":\"white\",\"lakecolor\":\"white\",\"landcolor\":\"#E5ECF6\",\"showlakes\":true,\"showland\":true,\"subunitcolor\":\"white\"},\"hoverlabel\":{\"align\":\"left\"},\"hovermode\":\"closest\",\"mapbox\":{\"style\":\"light\"},\"paper_bgcolor\":\"white\",\"plot_bgcolor\":\"#E5ECF6\",\"polar\":{\"angularaxis\":{\"gridcolor\":\"white\",\"linecolor\":\"white\",\"ticks\":\"\"},\"bgcolor\":\"#E5ECF6\",\"radialaxis\":{\"gridcolor\":\"white\",\"linecolor\":\"white\",\"ticks\":\"\"}},\"scene\":{\"xaxis\":{\"backgroundcolor\":\"#E5ECF6\",\"gridcolor\":\"white\",\"gridwidth\":2,\"linecolor\":\"white\",\"showbackground\":true,\"ticks\":\"\",\"zerolinecolor\":\"white\"},\"yaxis\":{\"backgroundcolor\":\"#E5ECF6\",\"gridcolor\":\"white\",\"gridwidth\":2,\"linecolor\":\"white\",\"showbackground\":true,\"ticks\":\"\",\"zerolinecolor\":\"white\"},\"zaxis\":{\"backgroundcolor\":\"#E5ECF6\",\"gridcolor\":\"white\",\"gridwidth\":2,\"linecolor\":\"white\",\"showbackground\":true,\"ticks\":\"\",\"zerolinecolor\":\"white\"}},\"shapedefaults\":{\"line\":{\"color\":\"#2a3f5f\"}},\"ternary\":{\"aaxis\":{\"gridcolor\":\"white\",\"linecolor\":\"white\",\"ticks\":\"\"},\"baxis\":{\"gridcolor\":\"white\",\"linecolor\":\"white\",\"ticks\":\"\"},\"bgcolor\":\"#E5ECF6\",\"caxis\":{\"gridcolor\":\"white\",\"linecolor\":\"white\",\"ticks\":\"\"}},\"title\":{\"x\":0.05},\"xaxis\":{\"automargin\":true,\"gridcolor\":\"white\",\"linecolor\":\"white\",\"ticks\":\"\",\"title\":{\"standoff\":15},\"zerolinecolor\":\"white\",\"zerolinewidth\":2},\"yaxis\":{\"automargin\":true,\"gridcolor\":\"white\",\"linecolor\":\"white\",\"ticks\":\"\",\"title\":{\"standoff\":15},\"zerolinecolor\":\"white\",\"zerolinewidth\":2}}},\"legend\":{\"tracegroupgap\":0},\"title\":{\"text\":\"Breakdown of Genres in the Rory Gilmore Book List\"}},                        {\"responsive\": true}                    ).then(function(){\n",
              "                            \n",
              "var gd = document.getElementById('ea92bfd0-76b6-4715-a055-c1b9e15b57b1');\n",
              "var x = new MutationObserver(function (mutations, observer) {{\n",
              "        var display = window.getComputedStyle(gd).display;\n",
              "        if (!display || display === 'none') {{\n",
              "            console.log([gd, 'removed!']);\n",
              "            Plotly.purge(gd);\n",
              "            observer.disconnect();\n",
              "        }}\n",
              "}});\n",
              "\n",
              "// Listen for the removal of the full notebook cells\n",
              "var notebookContainer = gd.closest('#notebook-container');\n",
              "if (notebookContainer) {{\n",
              "    x.observe(notebookContainer, {childList: true});\n",
              "}}\n",
              "\n",
              "// Listen for the clearing of the current output cell\n",
              "var outputEl = gd.closest('.output');\n",
              "if (outputEl) {{\n",
              "    x.observe(outputEl, {childList: true});\n",
              "}}\n",
              "\n",
              "                        })                };                            </script>        </div>\n",
              "</body>\n",
              "</html>"
            ]
          },
          "metadata": {}
        }
      ]
    },
    {
      "cell_type": "markdown",
      "source": [
        "## Analysis of Ratings"
      ],
      "metadata": {
        "id": "pMdspLNEd30V"
      }
    },
    {
      "cell_type": "code",
      "source": [
        "# Create a histogram showing the ratings of the books\n",
        "\n",
        "# Collect rating data\n",
        "mean_rating = round(mean(ratings), 2)\n",
        "lowest_rating = min(ratings)\n",
        "lowest_rated_books = find_keys_match_all([lowest_rating], ratings, titles)\n",
        "lowest_rated_authors = find_keys_match_all([lowest_rating], ratings, authors)\n",
        "highest_rating = max(ratings)\n",
        "highest_rated_books = find_keys_match_all([highest_rating], ratings, titles)\n",
        "highest_rated_authors = find_keys_match_all([highest_rating], ratings, authors)\n",
        "\n",
        "# Plot a histogram of the ratings\n",
        "fig = px.histogram(x=ratings,\n",
        "                   title='Ratings across all books',\n",
        "                   range_x=[0, 5])\n",
        "fig.update_traces(hovertemplate='Rating = %{x} stars<br># of Publications = %{y}<extra></extra>')\n",
        "fig.update_layout(xaxis={'title': 'Rating'},\n",
        "                  yaxis={'title': 'Number of Publications'})\n",
        "fig.add_vline(mean_rating, \n",
        "              line_width=3, \n",
        "              line_dash=\"dash\", \n",
        "              line_color=\"green\", \n",
        "              annotation_text=f\"Mean: {mean_rating} stars\", \n",
        "              annotation_position=\"top right\")\n",
        "fig.show()"
      ],
      "metadata": {
        "colab": {
          "base_uri": "https://localhost:8080/",
          "height": 542
        },
        "id": "yiANF2BHggKx",
        "outputId": "571aeec7-5c40-45c1-de2d-e1427dfb6ffd"
      },
      "execution_count": null,
      "outputs": [
        {
          "output_type": "display_data",
          "data": {
            "text/html": [
              "<html>\n",
              "<head><meta charset=\"utf-8\" /></head>\n",
              "<body>\n",
              "    <div>            <script src=\"https://cdnjs.cloudflare.com/ajax/libs/mathjax/2.7.5/MathJax.js?config=TeX-AMS-MML_SVG\"></script><script type=\"text/javascript\">if (window.MathJax) {MathJax.Hub.Config({SVG: {font: \"STIX-Web\"}});}</script>                <script type=\"text/javascript\">window.PlotlyConfig = {MathJaxConfig: 'local'};</script>\n",
              "        <script src=\"https://cdn.plot.ly/plotly-2.8.3.min.js\"></script>                <div id=\"c1ede738-4d8e-4a3b-b551-2074675c51c2\" class=\"plotly-graph-div\" style=\"height:525px; width:100%;\"></div>            <script type=\"text/javascript\">                                    window.PLOTLYENV=window.PLOTLYENV || {};                                    if (document.getElementById(\"c1ede738-4d8e-4a3b-b551-2074675c51c2\")) {                    Plotly.newPlot(                        \"c1ede738-4d8e-4a3b-b551-2074675c51c2\",                        [{\"alignmentgroup\":\"True\",\"bingroup\":\"x\",\"hovertemplate\":\"Rating = %{x} stars<br># of Publications = %{y}<extra></extra>\",\"legendgroup\":\"\",\"marker\":{\"color\":\"#636efa\",\"pattern\":{\"shape\":\"\"}},\"name\":\"\",\"offsetgroup\":\"\",\"orientation\":\"v\",\"showlegend\":false,\"x\":[4.19,4.04,3.96,3.82,3.92,3.99,4.16,4.01,4.18,4.12,3.95,4.27,3.91,4.13,4.24,4.2,4.07,4.4,3.74,3.64,4.32,3.68,4.24,3.97,3.72,3.92,3.96,3.67,4.09,4.02,3.97,3.64,4.12,4.12,3.93,4.03,3.91,3.46,3.72,4.15,3.07,4.01,3.39,3.37,3.76,3.99,3.73,3.44,3.65,3.79,4.2,3.85,3.96,3.91,3.89,3.77,3.52,4.26,3.98,3.98,3.81,3.71,4.15,4.19,3.94,3.81,4.07,4.32,3.81,4.15,4.0,4.0,4.31,4.22,3.71,4.11,4.28,4.14,3.88,3.77,4.17,4.13,4.27,3.85,4.24,3.87,4.09,3.6,3.75,3.89,4.06,3.92,3.66,4.01,3.89,3.92,3.73,3.87,3.88,3.98,3.55,3.78,3.63,4.29,3.99,4.29,4.17,4.11,4.01,4.04,3.96,3.84,3.89,5.0,4.01,4.26,3.6,4.38,3.96,3.92,4.32,3.9,4.0,4.03,3.9,4.03,3.92,4.04,3.43,3.42,4.08,4.26,3.99,3.89,4.06,3.47,3.98,3.71,4.08,3.49,4.07,4.38,4.22,3.67,3.69,4.79,3.96,3.79,3.91,4.17,3.2,3.83,3.88,3.84,3.97,3.7,3.98,3.87,4.07,3.49,3.64,3.65,4.01,3.91,3.72,3.88,3.92,4.37,3.95,3.97,4.11,4.3,2.67,3.7,4.3,3.39,3.99,3.79,3.93,3.67,3.58,4.11,4.65,4.03,4.27,4.57,4.48,3.68,3.43,3.99,4.05,3.8,3.77,3.86,3.82,3.66,3.92,4.01,3.88,2.39,3.56,3.9,3.66,4.19,3.85,4.26,4.13,3.96,4.36,3.42,3.75,3.91,4.0,3.72,3.89,3.68,4.08,3.53,4.4,3.93,4.08,3.86,3.6,4.14,3.95,3.69,3.76,3.91,4.07,3.64,3.91,4.11,4.32,3.51,3.67,3.92,4.28,4.32,4.42,3.42,4.11,3.88,4.19,3.59,3.97,3.98,4.3,3.81,3.82,3.87,3.81,3.86,3.93,3.73,3.95,4.23,3.99,4.19,4.2,4.07,4.21,4.16,4.15,4.18,4.19,3.87,3.68,4.08,4.12,3.74,3.88,3.69,3.62,4.05,3.83,3.63,3.9,3.69,4.24,4.01,4.06,4.1,4.12,4.02,4.3,4.24,3.91,3.61,4.24,4.1,4.16,3.58,3.95,3.54,4.0,3.84,4.02,3.95,4.2,4.19,3.91,3.52,4.04,3.74,4.05,3.64,4.04,3.92,3.63,3.86,3.63,4.02,3.79,4.0,4.08,3.81,3.73,3.51,2.89,4.09,4.24,3.94,3.45,4.13,4.0,3.88,3.45,4.01,4.23,3.62,4.08,4.26,3.93,3.64,4.35,4.07,3.84,4.14,3.94,3.72,4.06,3.79,3.72,4.12,3.88,3.79,3.83,3.87,3.75,3.97,4.2,4.1,3.99,3.62,3.93,3.79,0.0,4.01,3.9,4.09,3.9,4.24,3.91,4.11,4.62,3.68,4.24,4.22,3.87,4.05,3.78,4.1,3.62,3.85,4.18,4.51,4.24,3.71,3.73,4.13,4.34,4.21,3.82,4.28,3.61,4.26,3.69,3.58,3.96,4.1,3.8,3.89,3.29,3.7,4.16,3.75,4.19,3.63,4.24,3.87,3.28,4.19,3.59,4.55,4.13,3.91,3.97,4.52,3.91,4.06,3.75,4.19,3.91,4.02,3.83,3.54,4.23,3.63,3.7,3.88,0.0,3.81,3.43,4.33,4.2,4.15,4.07,3.88,3.82,4.08,3.59,3.41,4.01,4.28,3.9,4.25,4.05,3.94,3.87,3.84,4.09,3.76,3.99,3.55,3.76,4.01,3.92,3.56,3.62,3.45,3.96,4.13,4.25,4.12,4.18,3.86,4.03,3.94,3.8,4.05,3.97,4.07,3.31,3.83,3.98,3.9,3.71,3.81,4.13,3.87,3.98,3.86,3.8,4.15,4.18,4.15,3.86,3.93,3.24,3.95,3.86,3.99,3.54,4.27,3.9,3.91,4.08,4.28,3.96,4.0,3.34,3.95,4.46,4.14,3.74,4.19,4.11,3.89,4.42,3.62,3.42,3.79,3.63,3.79,3.72,3.83,3.56,3.83,3.78,4.14,3.97,3.69,3.95,3.77,4.06,4.06,3.85,3.54,4.03,4.36,3.25,3.99,3.88,4.01,3.91,3.73,4.06,4.43,4.58,4.5,4.57,4.62,4.44,4.41,4.54,4.14,4.32,4.14,3.92,4.3,4.31,4.13,4.29,3.97,4.26,4.15],\"xaxis\":\"x\",\"yaxis\":\"y\",\"type\":\"histogram\"}],                        {\"template\":{\"data\":{\"bar\":[{\"error_x\":{\"color\":\"#2a3f5f\"},\"error_y\":{\"color\":\"#2a3f5f\"},\"marker\":{\"line\":{\"color\":\"#E5ECF6\",\"width\":0.5},\"pattern\":{\"fillmode\":\"overlay\",\"size\":10,\"solidity\":0.2}},\"type\":\"bar\"}],\"barpolar\":[{\"marker\":{\"line\":{\"color\":\"#E5ECF6\",\"width\":0.5},\"pattern\":{\"fillmode\":\"overlay\",\"size\":10,\"solidity\":0.2}},\"type\":\"barpolar\"}],\"carpet\":[{\"aaxis\":{\"endlinecolor\":\"#2a3f5f\",\"gridcolor\":\"white\",\"linecolor\":\"white\",\"minorgridcolor\":\"white\",\"startlinecolor\":\"#2a3f5f\"},\"baxis\":{\"endlinecolor\":\"#2a3f5f\",\"gridcolor\":\"white\",\"linecolor\":\"white\",\"minorgridcolor\":\"white\",\"startlinecolor\":\"#2a3f5f\"},\"type\":\"carpet\"}],\"choropleth\":[{\"colorbar\":{\"outlinewidth\":0,\"ticks\":\"\"},\"type\":\"choropleth\"}],\"contour\":[{\"colorbar\":{\"outlinewidth\":0,\"ticks\":\"\"},\"colorscale\":[[0.0,\"#0d0887\"],[0.1111111111111111,\"#46039f\"],[0.2222222222222222,\"#7201a8\"],[0.3333333333333333,\"#9c179e\"],[0.4444444444444444,\"#bd3786\"],[0.5555555555555556,\"#d8576b\"],[0.6666666666666666,\"#ed7953\"],[0.7777777777777778,\"#fb9f3a\"],[0.8888888888888888,\"#fdca26\"],[1.0,\"#f0f921\"]],\"type\":\"contour\"}],\"contourcarpet\":[{\"colorbar\":{\"outlinewidth\":0,\"ticks\":\"\"},\"type\":\"contourcarpet\"}],\"heatmap\":[{\"colorbar\":{\"outlinewidth\":0,\"ticks\":\"\"},\"colorscale\":[[0.0,\"#0d0887\"],[0.1111111111111111,\"#46039f\"],[0.2222222222222222,\"#7201a8\"],[0.3333333333333333,\"#9c179e\"],[0.4444444444444444,\"#bd3786\"],[0.5555555555555556,\"#d8576b\"],[0.6666666666666666,\"#ed7953\"],[0.7777777777777778,\"#fb9f3a\"],[0.8888888888888888,\"#fdca26\"],[1.0,\"#f0f921\"]],\"type\":\"heatmap\"}],\"heatmapgl\":[{\"colorbar\":{\"outlinewidth\":0,\"ticks\":\"\"},\"colorscale\":[[0.0,\"#0d0887\"],[0.1111111111111111,\"#46039f\"],[0.2222222222222222,\"#7201a8\"],[0.3333333333333333,\"#9c179e\"],[0.4444444444444444,\"#bd3786\"],[0.5555555555555556,\"#d8576b\"],[0.6666666666666666,\"#ed7953\"],[0.7777777777777778,\"#fb9f3a\"],[0.8888888888888888,\"#fdca26\"],[1.0,\"#f0f921\"]],\"type\":\"heatmapgl\"}],\"histogram\":[{\"marker\":{\"pattern\":{\"fillmode\":\"overlay\",\"size\":10,\"solidity\":0.2}},\"type\":\"histogram\"}],\"histogram2d\":[{\"colorbar\":{\"outlinewidth\":0,\"ticks\":\"\"},\"colorscale\":[[0.0,\"#0d0887\"],[0.1111111111111111,\"#46039f\"],[0.2222222222222222,\"#7201a8\"],[0.3333333333333333,\"#9c179e\"],[0.4444444444444444,\"#bd3786\"],[0.5555555555555556,\"#d8576b\"],[0.6666666666666666,\"#ed7953\"],[0.7777777777777778,\"#fb9f3a\"],[0.8888888888888888,\"#fdca26\"],[1.0,\"#f0f921\"]],\"type\":\"histogram2d\"}],\"histogram2dcontour\":[{\"colorbar\":{\"outlinewidth\":0,\"ticks\":\"\"},\"colorscale\":[[0.0,\"#0d0887\"],[0.1111111111111111,\"#46039f\"],[0.2222222222222222,\"#7201a8\"],[0.3333333333333333,\"#9c179e\"],[0.4444444444444444,\"#bd3786\"],[0.5555555555555556,\"#d8576b\"],[0.6666666666666666,\"#ed7953\"],[0.7777777777777778,\"#fb9f3a\"],[0.8888888888888888,\"#fdca26\"],[1.0,\"#f0f921\"]],\"type\":\"histogram2dcontour\"}],\"mesh3d\":[{\"colorbar\":{\"outlinewidth\":0,\"ticks\":\"\"},\"type\":\"mesh3d\"}],\"parcoords\":[{\"line\":{\"colorbar\":{\"outlinewidth\":0,\"ticks\":\"\"}},\"type\":\"parcoords\"}],\"pie\":[{\"automargin\":true,\"type\":\"pie\"}],\"scatter\":[{\"marker\":{\"colorbar\":{\"outlinewidth\":0,\"ticks\":\"\"}},\"type\":\"scatter\"}],\"scatter3d\":[{\"line\":{\"colorbar\":{\"outlinewidth\":0,\"ticks\":\"\"}},\"marker\":{\"colorbar\":{\"outlinewidth\":0,\"ticks\":\"\"}},\"type\":\"scatter3d\"}],\"scattercarpet\":[{\"marker\":{\"colorbar\":{\"outlinewidth\":0,\"ticks\":\"\"}},\"type\":\"scattercarpet\"}],\"scattergeo\":[{\"marker\":{\"colorbar\":{\"outlinewidth\":0,\"ticks\":\"\"}},\"type\":\"scattergeo\"}],\"scattergl\":[{\"marker\":{\"colorbar\":{\"outlinewidth\":0,\"ticks\":\"\"}},\"type\":\"scattergl\"}],\"scattermapbox\":[{\"marker\":{\"colorbar\":{\"outlinewidth\":0,\"ticks\":\"\"}},\"type\":\"scattermapbox\"}],\"scatterpolar\":[{\"marker\":{\"colorbar\":{\"outlinewidth\":0,\"ticks\":\"\"}},\"type\":\"scatterpolar\"}],\"scatterpolargl\":[{\"marker\":{\"colorbar\":{\"outlinewidth\":0,\"ticks\":\"\"}},\"type\":\"scatterpolargl\"}],\"scatterternary\":[{\"marker\":{\"colorbar\":{\"outlinewidth\":0,\"ticks\":\"\"}},\"type\":\"scatterternary\"}],\"surface\":[{\"colorbar\":{\"outlinewidth\":0,\"ticks\":\"\"},\"colorscale\":[[0.0,\"#0d0887\"],[0.1111111111111111,\"#46039f\"],[0.2222222222222222,\"#7201a8\"],[0.3333333333333333,\"#9c179e\"],[0.4444444444444444,\"#bd3786\"],[0.5555555555555556,\"#d8576b\"],[0.6666666666666666,\"#ed7953\"],[0.7777777777777778,\"#fb9f3a\"],[0.8888888888888888,\"#fdca26\"],[1.0,\"#f0f921\"]],\"type\":\"surface\"}],\"table\":[{\"cells\":{\"fill\":{\"color\":\"#EBF0F8\"},\"line\":{\"color\":\"white\"}},\"header\":{\"fill\":{\"color\":\"#C8D4E3\"},\"line\":{\"color\":\"white\"}},\"type\":\"table\"}]},\"layout\":{\"annotationdefaults\":{\"arrowcolor\":\"#2a3f5f\",\"arrowhead\":0,\"arrowwidth\":1},\"autotypenumbers\":\"strict\",\"coloraxis\":{\"colorbar\":{\"outlinewidth\":0,\"ticks\":\"\"}},\"colorscale\":{\"diverging\":[[0,\"#8e0152\"],[0.1,\"#c51b7d\"],[0.2,\"#de77ae\"],[0.3,\"#f1b6da\"],[0.4,\"#fde0ef\"],[0.5,\"#f7f7f7\"],[0.6,\"#e6f5d0\"],[0.7,\"#b8e186\"],[0.8,\"#7fbc41\"],[0.9,\"#4d9221\"],[1,\"#276419\"]],\"sequential\":[[0.0,\"#0d0887\"],[0.1111111111111111,\"#46039f\"],[0.2222222222222222,\"#7201a8\"],[0.3333333333333333,\"#9c179e\"],[0.4444444444444444,\"#bd3786\"],[0.5555555555555556,\"#d8576b\"],[0.6666666666666666,\"#ed7953\"],[0.7777777777777778,\"#fb9f3a\"],[0.8888888888888888,\"#fdca26\"],[1.0,\"#f0f921\"]],\"sequentialminus\":[[0.0,\"#0d0887\"],[0.1111111111111111,\"#46039f\"],[0.2222222222222222,\"#7201a8\"],[0.3333333333333333,\"#9c179e\"],[0.4444444444444444,\"#bd3786\"],[0.5555555555555556,\"#d8576b\"],[0.6666666666666666,\"#ed7953\"],[0.7777777777777778,\"#fb9f3a\"],[0.8888888888888888,\"#fdca26\"],[1.0,\"#f0f921\"]]},\"colorway\":[\"#636efa\",\"#EF553B\",\"#00cc96\",\"#ab63fa\",\"#FFA15A\",\"#19d3f3\",\"#FF6692\",\"#B6E880\",\"#FF97FF\",\"#FECB52\"],\"font\":{\"color\":\"#2a3f5f\"},\"geo\":{\"bgcolor\":\"white\",\"lakecolor\":\"white\",\"landcolor\":\"#E5ECF6\",\"showlakes\":true,\"showland\":true,\"subunitcolor\":\"white\"},\"hoverlabel\":{\"align\":\"left\"},\"hovermode\":\"closest\",\"mapbox\":{\"style\":\"light\"},\"paper_bgcolor\":\"white\",\"plot_bgcolor\":\"#E5ECF6\",\"polar\":{\"angularaxis\":{\"gridcolor\":\"white\",\"linecolor\":\"white\",\"ticks\":\"\"},\"bgcolor\":\"#E5ECF6\",\"radialaxis\":{\"gridcolor\":\"white\",\"linecolor\":\"white\",\"ticks\":\"\"}},\"scene\":{\"xaxis\":{\"backgroundcolor\":\"#E5ECF6\",\"gridcolor\":\"white\",\"gridwidth\":2,\"linecolor\":\"white\",\"showbackground\":true,\"ticks\":\"\",\"zerolinecolor\":\"white\"},\"yaxis\":{\"backgroundcolor\":\"#E5ECF6\",\"gridcolor\":\"white\",\"gridwidth\":2,\"linecolor\":\"white\",\"showbackground\":true,\"ticks\":\"\",\"zerolinecolor\":\"white\"},\"zaxis\":{\"backgroundcolor\":\"#E5ECF6\",\"gridcolor\":\"white\",\"gridwidth\":2,\"linecolor\":\"white\",\"showbackground\":true,\"ticks\":\"\",\"zerolinecolor\":\"white\"}},\"shapedefaults\":{\"line\":{\"color\":\"#2a3f5f\"}},\"ternary\":{\"aaxis\":{\"gridcolor\":\"white\",\"linecolor\":\"white\",\"ticks\":\"\"},\"baxis\":{\"gridcolor\":\"white\",\"linecolor\":\"white\",\"ticks\":\"\"},\"bgcolor\":\"#E5ECF6\",\"caxis\":{\"gridcolor\":\"white\",\"linecolor\":\"white\",\"ticks\":\"\"}},\"title\":{\"x\":0.05},\"xaxis\":{\"automargin\":true,\"gridcolor\":\"white\",\"linecolor\":\"white\",\"ticks\":\"\",\"title\":{\"standoff\":15},\"zerolinecolor\":\"white\",\"zerolinewidth\":2},\"yaxis\":{\"automargin\":true,\"gridcolor\":\"white\",\"linecolor\":\"white\",\"ticks\":\"\",\"title\":{\"standoff\":15},\"zerolinecolor\":\"white\",\"zerolinewidth\":2}}},\"xaxis\":{\"anchor\":\"y\",\"domain\":[0.0,1.0],\"title\":{\"text\":\"Rating\"},\"range\":[0,5]},\"yaxis\":{\"anchor\":\"x\",\"domain\":[0.0,1.0],\"title\":{\"text\":\"Number of Publications\"}},\"legend\":{\"tracegroupgap\":0},\"title\":{\"text\":\"Ratings across all books\"},\"barmode\":\"relative\",\"shapes\":[{\"line\":{\"color\":\"green\",\"dash\":\"dash\",\"width\":3},\"type\":\"line\",\"x0\":3.93,\"x1\":3.93,\"xref\":\"x\",\"y0\":0,\"y1\":1,\"yref\":\"y domain\"}],\"annotations\":[{\"showarrow\":false,\"text\":\"Mean: 3.93 stars\",\"x\":3.93,\"xanchor\":\"left\",\"xref\":\"x\",\"y\":1,\"yanchor\":\"top\",\"yref\":\"y domain\"}]},                        {\"responsive\": true}                    ).then(function(){\n",
              "                            \n",
              "var gd = document.getElementById('c1ede738-4d8e-4a3b-b551-2074675c51c2');\n",
              "var x = new MutationObserver(function (mutations, observer) {{\n",
              "        var display = window.getComputedStyle(gd).display;\n",
              "        if (!display || display === 'none') {{\n",
              "            console.log([gd, 'removed!']);\n",
              "            Plotly.purge(gd);\n",
              "            observer.disconnect();\n",
              "        }}\n",
              "}});\n",
              "\n",
              "// Listen for the removal of the full notebook cells\n",
              "var notebookContainer = gd.closest('#notebook-container');\n",
              "if (notebookContainer) {{\n",
              "    x.observe(notebookContainer, {childList: true});\n",
              "}}\n",
              "\n",
              "// Listen for the clearing of the current output cell\n",
              "var outputEl = gd.closest('.output');\n",
              "if (outputEl) {{\n",
              "    x.observe(outputEl, {childList: true});\n",
              "}}\n",
              "\n",
              "                        })                };                            </script>        </div>\n",
              "</body>\n",
              "</html>"
            ]
          },
          "metadata": {}
        }
      ]
    },
    {
      "cell_type": "markdown",
      "source": [
        "Summary Ratings Graph\n",
        "\n",
        "* 3.93/5.00 stars is the mean rating\n",
        "* The lowest rated books are Orations of American Orators: Including Biographical and Critical Sketches by Julian Hawthorne and Say Goodbye to Daisy Miller by Henry James, with 0.00/5.00 stars\n",
        "* The highest rated book is Downpour by Nick Holmes, with 5.00/5.00 stars"
      ],
      "metadata": {
        "id": "HgtH9TjmjIP0"
      }
    },
    {
      "cell_type": "code",
      "source": [
        "# Create a bar chart showing the number of ratings for all of the books\n",
        "\n",
        "# Collect the number of ratings data\n",
        "most_ratings = max(num_ratings)\n",
        "most_ratings_books = find_keys_match_all([most_ratings], num_ratings, titles)\n",
        "most_ratings_author = find_keys_match_all([most_ratings], num_ratings, authors)\n",
        "most_5_ratings = max(num_5_star)\n",
        "most_5_ratings_books = find_keys_match_all([most_5_ratings], num_5_star, titles)\n",
        "most_5_ratings_author = find_keys_match_all([most_5_ratings], num_5_star, authors)\n",
        "most_1_ratings = max(num_1_star)\n",
        "most_1_ratings_books = find_keys_match_all([most_1_ratings], num_1_star, titles)\n",
        "most_1_ratings_author = find_keys_match_all([most_1_ratings], num_1_star, authors)\n",
        "\n",
        "# Plot the bar chart\n",
        "star_count = [sum(num_5_star), sum(num_4_star), sum(num_3_star), sum(num_2_star), sum(num_1_star)]\n",
        "star_label = ['5 Star', '4 Star', '3 Star', '2 Star', '1 Star']\n",
        "fig = px.bar(x=star_count, \n",
        "             y=star_label, \n",
        "             orientation='h',\n",
        "             title='Number of ratings across all books')\n",
        "fig.update_layout(xaxis={'title': 'Number of Ratings'},\n",
        "                  yaxis={'title': 'Ratings'})\n",
        "fig.show()"
      ],
      "metadata": {
        "id": "7KG8qHWvEElG",
        "colab": {
          "base_uri": "https://localhost:8080/",
          "height": 542
        },
        "outputId": "0470aecf-2625-4890-de9d-8d8f7cca2534"
      },
      "execution_count": null,
      "outputs": [
        {
          "output_type": "display_data",
          "data": {
            "text/html": [
              "<html>\n",
              "<head><meta charset=\"utf-8\" /></head>\n",
              "<body>\n",
              "    <div>            <script src=\"https://cdnjs.cloudflare.com/ajax/libs/mathjax/2.7.5/MathJax.js?config=TeX-AMS-MML_SVG\"></script><script type=\"text/javascript\">if (window.MathJax) {MathJax.Hub.Config({SVG: {font: \"STIX-Web\"}});}</script>                <script type=\"text/javascript\">window.PlotlyConfig = {MathJaxConfig: 'local'};</script>\n",
              "        <script src=\"https://cdn.plot.ly/plotly-2.8.3.min.js\"></script>                <div id=\"a2666ad5-ad94-49e4-b830-617cd13541fc\" class=\"plotly-graph-div\" style=\"height:525px; width:100%;\"></div>            <script type=\"text/javascript\">                                    window.PLOTLYENV=window.PLOTLYENV || {};                                    if (document.getElementById(\"a2666ad5-ad94-49e4-b830-617cd13541fc\")) {                    Plotly.newPlot(                        \"a2666ad5-ad94-49e4-b830-617cd13541fc\",                        [{\"alignmentgroup\":\"True\",\"hovertemplate\":\"x=%{x}<br>y=%{y}<extra></extra>\",\"legendgroup\":\"\",\"marker\":{\"color\":\"#636efa\",\"pattern\":{\"shape\":\"\"}},\"name\":\"\",\"offsetgroup\":\"\",\"orientation\":\"h\",\"showlegend\":false,\"textposition\":\"auto\",\"x\":[81838235,57743467,31228921,9047727,4426434],\"xaxis\":\"x\",\"y\":[\"5 Star\",\"4 Star\",\"3 Star\",\"2 Star\",\"1 Star\"],\"yaxis\":\"y\",\"type\":\"bar\"}],                        {\"template\":{\"data\":{\"bar\":[{\"error_x\":{\"color\":\"#2a3f5f\"},\"error_y\":{\"color\":\"#2a3f5f\"},\"marker\":{\"line\":{\"color\":\"#E5ECF6\",\"width\":0.5},\"pattern\":{\"fillmode\":\"overlay\",\"size\":10,\"solidity\":0.2}},\"type\":\"bar\"}],\"barpolar\":[{\"marker\":{\"line\":{\"color\":\"#E5ECF6\",\"width\":0.5},\"pattern\":{\"fillmode\":\"overlay\",\"size\":10,\"solidity\":0.2}},\"type\":\"barpolar\"}],\"carpet\":[{\"aaxis\":{\"endlinecolor\":\"#2a3f5f\",\"gridcolor\":\"white\",\"linecolor\":\"white\",\"minorgridcolor\":\"white\",\"startlinecolor\":\"#2a3f5f\"},\"baxis\":{\"endlinecolor\":\"#2a3f5f\",\"gridcolor\":\"white\",\"linecolor\":\"white\",\"minorgridcolor\":\"white\",\"startlinecolor\":\"#2a3f5f\"},\"type\":\"carpet\"}],\"choropleth\":[{\"colorbar\":{\"outlinewidth\":0,\"ticks\":\"\"},\"type\":\"choropleth\"}],\"contour\":[{\"colorbar\":{\"outlinewidth\":0,\"ticks\":\"\"},\"colorscale\":[[0.0,\"#0d0887\"],[0.1111111111111111,\"#46039f\"],[0.2222222222222222,\"#7201a8\"],[0.3333333333333333,\"#9c179e\"],[0.4444444444444444,\"#bd3786\"],[0.5555555555555556,\"#d8576b\"],[0.6666666666666666,\"#ed7953\"],[0.7777777777777778,\"#fb9f3a\"],[0.8888888888888888,\"#fdca26\"],[1.0,\"#f0f921\"]],\"type\":\"contour\"}],\"contourcarpet\":[{\"colorbar\":{\"outlinewidth\":0,\"ticks\":\"\"},\"type\":\"contourcarpet\"}],\"heatmap\":[{\"colorbar\":{\"outlinewidth\":0,\"ticks\":\"\"},\"colorscale\":[[0.0,\"#0d0887\"],[0.1111111111111111,\"#46039f\"],[0.2222222222222222,\"#7201a8\"],[0.3333333333333333,\"#9c179e\"],[0.4444444444444444,\"#bd3786\"],[0.5555555555555556,\"#d8576b\"],[0.6666666666666666,\"#ed7953\"],[0.7777777777777778,\"#fb9f3a\"],[0.8888888888888888,\"#fdca26\"],[1.0,\"#f0f921\"]],\"type\":\"heatmap\"}],\"heatmapgl\":[{\"colorbar\":{\"outlinewidth\":0,\"ticks\":\"\"},\"colorscale\":[[0.0,\"#0d0887\"],[0.1111111111111111,\"#46039f\"],[0.2222222222222222,\"#7201a8\"],[0.3333333333333333,\"#9c179e\"],[0.4444444444444444,\"#bd3786\"],[0.5555555555555556,\"#d8576b\"],[0.6666666666666666,\"#ed7953\"],[0.7777777777777778,\"#fb9f3a\"],[0.8888888888888888,\"#fdca26\"],[1.0,\"#f0f921\"]],\"type\":\"heatmapgl\"}],\"histogram\":[{\"marker\":{\"pattern\":{\"fillmode\":\"overlay\",\"size\":10,\"solidity\":0.2}},\"type\":\"histogram\"}],\"histogram2d\":[{\"colorbar\":{\"outlinewidth\":0,\"ticks\":\"\"},\"colorscale\":[[0.0,\"#0d0887\"],[0.1111111111111111,\"#46039f\"],[0.2222222222222222,\"#7201a8\"],[0.3333333333333333,\"#9c179e\"],[0.4444444444444444,\"#bd3786\"],[0.5555555555555556,\"#d8576b\"],[0.6666666666666666,\"#ed7953\"],[0.7777777777777778,\"#fb9f3a\"],[0.8888888888888888,\"#fdca26\"],[1.0,\"#f0f921\"]],\"type\":\"histogram2d\"}],\"histogram2dcontour\":[{\"colorbar\":{\"outlinewidth\":0,\"ticks\":\"\"},\"colorscale\":[[0.0,\"#0d0887\"],[0.1111111111111111,\"#46039f\"],[0.2222222222222222,\"#7201a8\"],[0.3333333333333333,\"#9c179e\"],[0.4444444444444444,\"#bd3786\"],[0.5555555555555556,\"#d8576b\"],[0.6666666666666666,\"#ed7953\"],[0.7777777777777778,\"#fb9f3a\"],[0.8888888888888888,\"#fdca26\"],[1.0,\"#f0f921\"]],\"type\":\"histogram2dcontour\"}],\"mesh3d\":[{\"colorbar\":{\"outlinewidth\":0,\"ticks\":\"\"},\"type\":\"mesh3d\"}],\"parcoords\":[{\"line\":{\"colorbar\":{\"outlinewidth\":0,\"ticks\":\"\"}},\"type\":\"parcoords\"}],\"pie\":[{\"automargin\":true,\"type\":\"pie\"}],\"scatter\":[{\"marker\":{\"colorbar\":{\"outlinewidth\":0,\"ticks\":\"\"}},\"type\":\"scatter\"}],\"scatter3d\":[{\"line\":{\"colorbar\":{\"outlinewidth\":0,\"ticks\":\"\"}},\"marker\":{\"colorbar\":{\"outlinewidth\":0,\"ticks\":\"\"}},\"type\":\"scatter3d\"}],\"scattercarpet\":[{\"marker\":{\"colorbar\":{\"outlinewidth\":0,\"ticks\":\"\"}},\"type\":\"scattercarpet\"}],\"scattergeo\":[{\"marker\":{\"colorbar\":{\"outlinewidth\":0,\"ticks\":\"\"}},\"type\":\"scattergeo\"}],\"scattergl\":[{\"marker\":{\"colorbar\":{\"outlinewidth\":0,\"ticks\":\"\"}},\"type\":\"scattergl\"}],\"scattermapbox\":[{\"marker\":{\"colorbar\":{\"outlinewidth\":0,\"ticks\":\"\"}},\"type\":\"scattermapbox\"}],\"scatterpolar\":[{\"marker\":{\"colorbar\":{\"outlinewidth\":0,\"ticks\":\"\"}},\"type\":\"scatterpolar\"}],\"scatterpolargl\":[{\"marker\":{\"colorbar\":{\"outlinewidth\":0,\"ticks\":\"\"}},\"type\":\"scatterpolargl\"}],\"scatterternary\":[{\"marker\":{\"colorbar\":{\"outlinewidth\":0,\"ticks\":\"\"}},\"type\":\"scatterternary\"}],\"surface\":[{\"colorbar\":{\"outlinewidth\":0,\"ticks\":\"\"},\"colorscale\":[[0.0,\"#0d0887\"],[0.1111111111111111,\"#46039f\"],[0.2222222222222222,\"#7201a8\"],[0.3333333333333333,\"#9c179e\"],[0.4444444444444444,\"#bd3786\"],[0.5555555555555556,\"#d8576b\"],[0.6666666666666666,\"#ed7953\"],[0.7777777777777778,\"#fb9f3a\"],[0.8888888888888888,\"#fdca26\"],[1.0,\"#f0f921\"]],\"type\":\"surface\"}],\"table\":[{\"cells\":{\"fill\":{\"color\":\"#EBF0F8\"},\"line\":{\"color\":\"white\"}},\"header\":{\"fill\":{\"color\":\"#C8D4E3\"},\"line\":{\"color\":\"white\"}},\"type\":\"table\"}]},\"layout\":{\"annotationdefaults\":{\"arrowcolor\":\"#2a3f5f\",\"arrowhead\":0,\"arrowwidth\":1},\"autotypenumbers\":\"strict\",\"coloraxis\":{\"colorbar\":{\"outlinewidth\":0,\"ticks\":\"\"}},\"colorscale\":{\"diverging\":[[0,\"#8e0152\"],[0.1,\"#c51b7d\"],[0.2,\"#de77ae\"],[0.3,\"#f1b6da\"],[0.4,\"#fde0ef\"],[0.5,\"#f7f7f7\"],[0.6,\"#e6f5d0\"],[0.7,\"#b8e186\"],[0.8,\"#7fbc41\"],[0.9,\"#4d9221\"],[1,\"#276419\"]],\"sequential\":[[0.0,\"#0d0887\"],[0.1111111111111111,\"#46039f\"],[0.2222222222222222,\"#7201a8\"],[0.3333333333333333,\"#9c179e\"],[0.4444444444444444,\"#bd3786\"],[0.5555555555555556,\"#d8576b\"],[0.6666666666666666,\"#ed7953\"],[0.7777777777777778,\"#fb9f3a\"],[0.8888888888888888,\"#fdca26\"],[1.0,\"#f0f921\"]],\"sequentialminus\":[[0.0,\"#0d0887\"],[0.1111111111111111,\"#46039f\"],[0.2222222222222222,\"#7201a8\"],[0.3333333333333333,\"#9c179e\"],[0.4444444444444444,\"#bd3786\"],[0.5555555555555556,\"#d8576b\"],[0.6666666666666666,\"#ed7953\"],[0.7777777777777778,\"#fb9f3a\"],[0.8888888888888888,\"#fdca26\"],[1.0,\"#f0f921\"]]},\"colorway\":[\"#636efa\",\"#EF553B\",\"#00cc96\",\"#ab63fa\",\"#FFA15A\",\"#19d3f3\",\"#FF6692\",\"#B6E880\",\"#FF97FF\",\"#FECB52\"],\"font\":{\"color\":\"#2a3f5f\"},\"geo\":{\"bgcolor\":\"white\",\"lakecolor\":\"white\",\"landcolor\":\"#E5ECF6\",\"showlakes\":true,\"showland\":true,\"subunitcolor\":\"white\"},\"hoverlabel\":{\"align\":\"left\"},\"hovermode\":\"closest\",\"mapbox\":{\"style\":\"light\"},\"paper_bgcolor\":\"white\",\"plot_bgcolor\":\"#E5ECF6\",\"polar\":{\"angularaxis\":{\"gridcolor\":\"white\",\"linecolor\":\"white\",\"ticks\":\"\"},\"bgcolor\":\"#E5ECF6\",\"radialaxis\":{\"gridcolor\":\"white\",\"linecolor\":\"white\",\"ticks\":\"\"}},\"scene\":{\"xaxis\":{\"backgroundcolor\":\"#E5ECF6\",\"gridcolor\":\"white\",\"gridwidth\":2,\"linecolor\":\"white\",\"showbackground\":true,\"ticks\":\"\",\"zerolinecolor\":\"white\"},\"yaxis\":{\"backgroundcolor\":\"#E5ECF6\",\"gridcolor\":\"white\",\"gridwidth\":2,\"linecolor\":\"white\",\"showbackground\":true,\"ticks\":\"\",\"zerolinecolor\":\"white\"},\"zaxis\":{\"backgroundcolor\":\"#E5ECF6\",\"gridcolor\":\"white\",\"gridwidth\":2,\"linecolor\":\"white\",\"showbackground\":true,\"ticks\":\"\",\"zerolinecolor\":\"white\"}},\"shapedefaults\":{\"line\":{\"color\":\"#2a3f5f\"}},\"ternary\":{\"aaxis\":{\"gridcolor\":\"white\",\"linecolor\":\"white\",\"ticks\":\"\"},\"baxis\":{\"gridcolor\":\"white\",\"linecolor\":\"white\",\"ticks\":\"\"},\"bgcolor\":\"#E5ECF6\",\"caxis\":{\"gridcolor\":\"white\",\"linecolor\":\"white\",\"ticks\":\"\"}},\"title\":{\"x\":0.05},\"xaxis\":{\"automargin\":true,\"gridcolor\":\"white\",\"linecolor\":\"white\",\"ticks\":\"\",\"title\":{\"standoff\":15},\"zerolinecolor\":\"white\",\"zerolinewidth\":2},\"yaxis\":{\"automargin\":true,\"gridcolor\":\"white\",\"linecolor\":\"white\",\"ticks\":\"\",\"title\":{\"standoff\":15},\"zerolinecolor\":\"white\",\"zerolinewidth\":2}}},\"xaxis\":{\"anchor\":\"y\",\"domain\":[0.0,1.0],\"title\":{\"text\":\"Number of Ratings\"}},\"yaxis\":{\"anchor\":\"x\",\"domain\":[0.0,1.0],\"title\":{\"text\":\"Ratings\"}},\"legend\":{\"tracegroupgap\":0},\"title\":{\"text\":\"Number of ratings across all books\"},\"barmode\":\"relative\"},                        {\"responsive\": true}                    ).then(function(){\n",
              "                            \n",
              "var gd = document.getElementById('a2666ad5-ad94-49e4-b830-617cd13541fc');\n",
              "var x = new MutationObserver(function (mutations, observer) {{\n",
              "        var display = window.getComputedStyle(gd).display;\n",
              "        if (!display || display === 'none') {{\n",
              "            console.log([gd, 'removed!']);\n",
              "            Plotly.purge(gd);\n",
              "            observer.disconnect();\n",
              "        }}\n",
              "}});\n",
              "\n",
              "// Listen for the removal of the full notebook cells\n",
              "var notebookContainer = gd.closest('#notebook-container');\n",
              "if (notebookContainer) {{\n",
              "    x.observe(notebookContainer, {childList: true});\n",
              "}}\n",
              "\n",
              "// Listen for the clearing of the current output cell\n",
              "var outputEl = gd.closest('.output');\n",
              "if (outputEl) {{\n",
              "    x.observe(outputEl, {childList: true});\n",
              "}}\n",
              "\n",
              "                        })                };                            </script>        </div>\n",
              "</body>\n",
              "</html>"
            ]
          },
          "metadata": {}
        }
      ]
    },
    {
      "cell_type": "markdown",
      "source": [
        "Summary of Bar Chart \n",
        "\n",
        "* Harry Potter and the Sorcerer's Stone by J.K. Rowling has the most overall ratings, with 8,516,941 ratings, and the most 5 star ratings, with 5,537,066 ratings\n",
        "* The Catcher in the Rye by J.D. Salinger has the most 1 star ratings, with 157,595 ratings"
      ],
      "metadata": {
        "id": "slP-PSVF63YC"
      }
    },
    {
      "cell_type": "markdown",
      "source": [
        "## Analysis of Reviews"
      ],
      "metadata": {
        "id": "oxJ5DmNC8O9X"
      }
    },
    {
      "cell_type": "code",
      "source": [
        "# Analysis of Number of Reviews\n",
        "\n",
        "# Collect review data\n",
        "mean_review = round(mean(num_reviews), 2)\n",
        "least_reviewed = min(num_reviews)\n",
        "least_reviewed_books = find_keys_match_all([least_reviewed], num_reviews, titles)\n",
        "least_reviewed_authors = find_keys_match_all([least_reviewed], num_reviews, authors)\n",
        "most_reviewed = max(num_reviews)\n",
        "most_reviewed_books = find_keys_match_all([most_reviewed], num_reviews, titles)\n",
        "most_reviewed_authors = find_keys_match_all([most_reviewed], num_reviews, authors)\n",
        "\n",
        "# Plot a histogram of the num_reviews\n",
        "fig = px.histogram(x=num_reviews,\n",
        "                   title='Number of reviews for all of the books')\n",
        "fig.update_traces(hovertemplate='# of Reviews = %{x} reviews<br># of Publications = %{y}<extra></extra>')\n",
        "fig.update_layout(xaxis={'title': 'Number of Reviews'},\n",
        "                  yaxis={'title': 'Number of Publications'})\n",
        "fig.add_vline(mean_review, \n",
        "              line_width=3, \n",
        "              line_dash=\"dash\", \n",
        "              line_color=\"green\", \n",
        "              annotation_text=f\"Mean: {mean_review} reviews\", \n",
        "              annotation_position=\"top right\")\n",
        "fig.show()"
      ],
      "metadata": {
        "id": "FwRJnh9fHVSq",
        "colab": {
          "base_uri": "https://localhost:8080/",
          "height": 542
        },
        "outputId": "02991546-c281-4de9-b7c6-e6852d075a2e"
      },
      "execution_count": null,
      "outputs": [
        {
          "output_type": "display_data",
          "data": {
            "text/html": [
              "<html>\n",
              "<head><meta charset=\"utf-8\" /></head>\n",
              "<body>\n",
              "    <div>            <script src=\"https://cdnjs.cloudflare.com/ajax/libs/mathjax/2.7.5/MathJax.js?config=TeX-AMS-MML_SVG\"></script><script type=\"text/javascript\">if (window.MathJax) {MathJax.Hub.Config({SVG: {font: \"STIX-Web\"}});}</script>                <script type=\"text/javascript\">window.PlotlyConfig = {MathJaxConfig: 'local'};</script>\n",
              "        <script src=\"https://cdn.plot.ly/plotly-2.8.3.min.js\"></script>                <div id=\"0007a675-ad61-4d94-a57d-105fc1bcac33\" class=\"plotly-graph-div\" style=\"height:525px; width:100%;\"></div>            <script type=\"text/javascript\">                                    window.PLOTLYENV=window.PLOTLYENV || {};                                    if (document.getElementById(\"0007a675-ad61-4d94-a57d-105fc1bcac33\")) {                    Plotly.newPlot(                        \"0007a675-ad61-4d94-a57d-105fc1bcac33\",                        [{\"alignmentgroup\":\"True\",\"bingroup\":\"x\",\"hovertemplate\":\"# of Reviews = %{x} reviews<br># of Publications = %{y}<extra></extra>\",\"legendgroup\":\"\",\"marker\":{\"color\":\"#636efa\",\"pattern\":{\"shape\":\"\"}},\"name\":\"\",\"offsetgroup\":\"\",\"orientation\":\"v\",\"showlegend\":false,\"x\":[89015,62,8338,17439,11787,13928,1830,6928,11487,22,1453,46724,156,13007,450,243,29139,1,10,260,291,59,1760,14410,8772,19290,1685,8749,570,295,340,4758,919,119,16604,33822,16361,7840,1,2388,354,261,72,364,6,37883,2900,2004,5152,10974,10815,14,3038,254,13112,9380,3777,79,18435,20537,68782,303,13920,20720,244,4199,24452,2025,219,901,16598,20607,1886,303,1491,14,404,215,16686,3465,3217,3773,25874,581,25587,3386,8,9196,6061,49297,2482,4543,9,7828,50649,31389,28545,38217,26144,3152,5852,844,1395,2161,36136,75,34724,2330,5990,998,797,4522,9877,1,33295,158,55861,2011,243,2148,86,6718,533,11,608,24493,4741,800,8,6213,576,196,1836,8240,1400,19,59106,30,7,176,7520,29427,111,1072,9,17,23713,68,517,24358,2,1533,13152,43966,7898,377,648,3191,866,42,125,159,527,6270,2944,457,775,10323,16288,9,140475,21887,0,1791,1856,817,19975,18783,83446,1427,6432,95,6,16078,2288,56598,134557,9451,16647,1684,4592,1257,651,1564,63,3576,6688,656,768,3,20,6204,26,1625,4341,11095,2120,758,3884,262,767,595,6051,6607,9149,911,19717,244,1109,896,264,781,194,51710,10911,5255,6439,4165,15307,127,1591,14266,84645,5908,1,44,645,437,662,58,2785,259,19679,3948,14,5,5947,154,416,171,933,30503,49779,290,11113,26870,1851,6726,4947,2626,2054,1492,2140,1426,1581,1251,89,1043,39435,1133,30378,45433,1470,3037,43057,3149,14692,12977,2159,316,1223,224,550,6173,15126,83,11,36,9317,946,112,6696,82,761,18598,24861,24423,9761,446,18001,599,18628,12,1,616,518,15,82,24,4,6,9292,13157,298,485,25,8,177,1,34942,45,896,4047,10687,13265,132,5413,4361,210,21,14,73,1785,6814,32930,20,16223,97,620,24,150,15177,4378,3586,41576,31007,1368,8962,2,5085,13099,36860,2781,16875,812,925,0,14956,7967,1681,20,49629,2263,39026,61,3625,4,71318,41,1266,1060,44634,50,2931,1290,8,47,8,651,0,589,212,85,87559,341,22688,613,63,20,494,17,2857,43,51,9,188,3443,8204,31796,862,3936,20439,81,13368,184,2027,975,2172,87,103,24064,11478,6902,5037,2,113,757,891,4072,555,0,283,16917,2574,4675,1839,32683,92,4,21251,8306,2064,388,42982,2,30860,21635,1346,863,141,27390,197,2028,224,100,51,8380,630,96,171,26,23,1557,369,2765,8017,985,98,2805,15302,1191,2865,1649,16931,5152,3251,41,15013,4348,11,1588,20104,5683,477,109,349,803,2361,6,2517,5137,49696,1834,103364,205,2027,3182,23293,9871,1,684,3429,14156,31416,7841,828,18892,8819,593,1174,1,4197,9,3920,84,12719,146,6916,6484,14198,47,1012,366,3040,842,1872,14478,25254,43252,119,1410,14791,47168,1226,14296,62,4800,64763,68104,51786,47517,74527,57703,25257,23204,22688,23111,13753,6245,7895,2476,10040,1828,2337,1167,1117],\"xaxis\":\"x\",\"yaxis\":\"y\",\"type\":\"histogram\"}],                        {\"template\":{\"data\":{\"bar\":[{\"error_x\":{\"color\":\"#2a3f5f\"},\"error_y\":{\"color\":\"#2a3f5f\"},\"marker\":{\"line\":{\"color\":\"#E5ECF6\",\"width\":0.5},\"pattern\":{\"fillmode\":\"overlay\",\"size\":10,\"solidity\":0.2}},\"type\":\"bar\"}],\"barpolar\":[{\"marker\":{\"line\":{\"color\":\"#E5ECF6\",\"width\":0.5},\"pattern\":{\"fillmode\":\"overlay\",\"size\":10,\"solidity\":0.2}},\"type\":\"barpolar\"}],\"carpet\":[{\"aaxis\":{\"endlinecolor\":\"#2a3f5f\",\"gridcolor\":\"white\",\"linecolor\":\"white\",\"minorgridcolor\":\"white\",\"startlinecolor\":\"#2a3f5f\"},\"baxis\":{\"endlinecolor\":\"#2a3f5f\",\"gridcolor\":\"white\",\"linecolor\":\"white\",\"minorgridcolor\":\"white\",\"startlinecolor\":\"#2a3f5f\"},\"type\":\"carpet\"}],\"choropleth\":[{\"colorbar\":{\"outlinewidth\":0,\"ticks\":\"\"},\"type\":\"choropleth\"}],\"contour\":[{\"colorbar\":{\"outlinewidth\":0,\"ticks\":\"\"},\"colorscale\":[[0.0,\"#0d0887\"],[0.1111111111111111,\"#46039f\"],[0.2222222222222222,\"#7201a8\"],[0.3333333333333333,\"#9c179e\"],[0.4444444444444444,\"#bd3786\"],[0.5555555555555556,\"#d8576b\"],[0.6666666666666666,\"#ed7953\"],[0.7777777777777778,\"#fb9f3a\"],[0.8888888888888888,\"#fdca26\"],[1.0,\"#f0f921\"]],\"type\":\"contour\"}],\"contourcarpet\":[{\"colorbar\":{\"outlinewidth\":0,\"ticks\":\"\"},\"type\":\"contourcarpet\"}],\"heatmap\":[{\"colorbar\":{\"outlinewidth\":0,\"ticks\":\"\"},\"colorscale\":[[0.0,\"#0d0887\"],[0.1111111111111111,\"#46039f\"],[0.2222222222222222,\"#7201a8\"],[0.3333333333333333,\"#9c179e\"],[0.4444444444444444,\"#bd3786\"],[0.5555555555555556,\"#d8576b\"],[0.6666666666666666,\"#ed7953\"],[0.7777777777777778,\"#fb9f3a\"],[0.8888888888888888,\"#fdca26\"],[1.0,\"#f0f921\"]],\"type\":\"heatmap\"}],\"heatmapgl\":[{\"colorbar\":{\"outlinewidth\":0,\"ticks\":\"\"},\"colorscale\":[[0.0,\"#0d0887\"],[0.1111111111111111,\"#46039f\"],[0.2222222222222222,\"#7201a8\"],[0.3333333333333333,\"#9c179e\"],[0.4444444444444444,\"#bd3786\"],[0.5555555555555556,\"#d8576b\"],[0.6666666666666666,\"#ed7953\"],[0.7777777777777778,\"#fb9f3a\"],[0.8888888888888888,\"#fdca26\"],[1.0,\"#f0f921\"]],\"type\":\"heatmapgl\"}],\"histogram\":[{\"marker\":{\"pattern\":{\"fillmode\":\"overlay\",\"size\":10,\"solidity\":0.2}},\"type\":\"histogram\"}],\"histogram2d\":[{\"colorbar\":{\"outlinewidth\":0,\"ticks\":\"\"},\"colorscale\":[[0.0,\"#0d0887\"],[0.1111111111111111,\"#46039f\"],[0.2222222222222222,\"#7201a8\"],[0.3333333333333333,\"#9c179e\"],[0.4444444444444444,\"#bd3786\"],[0.5555555555555556,\"#d8576b\"],[0.6666666666666666,\"#ed7953\"],[0.7777777777777778,\"#fb9f3a\"],[0.8888888888888888,\"#fdca26\"],[1.0,\"#f0f921\"]],\"type\":\"histogram2d\"}],\"histogram2dcontour\":[{\"colorbar\":{\"outlinewidth\":0,\"ticks\":\"\"},\"colorscale\":[[0.0,\"#0d0887\"],[0.1111111111111111,\"#46039f\"],[0.2222222222222222,\"#7201a8\"],[0.3333333333333333,\"#9c179e\"],[0.4444444444444444,\"#bd3786\"],[0.5555555555555556,\"#d8576b\"],[0.6666666666666666,\"#ed7953\"],[0.7777777777777778,\"#fb9f3a\"],[0.8888888888888888,\"#fdca26\"],[1.0,\"#f0f921\"]],\"type\":\"histogram2dcontour\"}],\"mesh3d\":[{\"colorbar\":{\"outlinewidth\":0,\"ticks\":\"\"},\"type\":\"mesh3d\"}],\"parcoords\":[{\"line\":{\"colorbar\":{\"outlinewidth\":0,\"ticks\":\"\"}},\"type\":\"parcoords\"}],\"pie\":[{\"automargin\":true,\"type\":\"pie\"}],\"scatter\":[{\"marker\":{\"colorbar\":{\"outlinewidth\":0,\"ticks\":\"\"}},\"type\":\"scatter\"}],\"scatter3d\":[{\"line\":{\"colorbar\":{\"outlinewidth\":0,\"ticks\":\"\"}},\"marker\":{\"colorbar\":{\"outlinewidth\":0,\"ticks\":\"\"}},\"type\":\"scatter3d\"}],\"scattercarpet\":[{\"marker\":{\"colorbar\":{\"outlinewidth\":0,\"ticks\":\"\"}},\"type\":\"scattercarpet\"}],\"scattergeo\":[{\"marker\":{\"colorbar\":{\"outlinewidth\":0,\"ticks\":\"\"}},\"type\":\"scattergeo\"}],\"scattergl\":[{\"marker\":{\"colorbar\":{\"outlinewidth\":0,\"ticks\":\"\"}},\"type\":\"scattergl\"}],\"scattermapbox\":[{\"marker\":{\"colorbar\":{\"outlinewidth\":0,\"ticks\":\"\"}},\"type\":\"scattermapbox\"}],\"scatterpolar\":[{\"marker\":{\"colorbar\":{\"outlinewidth\":0,\"ticks\":\"\"}},\"type\":\"scatterpolar\"}],\"scatterpolargl\":[{\"marker\":{\"colorbar\":{\"outlinewidth\":0,\"ticks\":\"\"}},\"type\":\"scatterpolargl\"}],\"scatterternary\":[{\"marker\":{\"colorbar\":{\"outlinewidth\":0,\"ticks\":\"\"}},\"type\":\"scatterternary\"}],\"surface\":[{\"colorbar\":{\"outlinewidth\":0,\"ticks\":\"\"},\"colorscale\":[[0.0,\"#0d0887\"],[0.1111111111111111,\"#46039f\"],[0.2222222222222222,\"#7201a8\"],[0.3333333333333333,\"#9c179e\"],[0.4444444444444444,\"#bd3786\"],[0.5555555555555556,\"#d8576b\"],[0.6666666666666666,\"#ed7953\"],[0.7777777777777778,\"#fb9f3a\"],[0.8888888888888888,\"#fdca26\"],[1.0,\"#f0f921\"]],\"type\":\"surface\"}],\"table\":[{\"cells\":{\"fill\":{\"color\":\"#EBF0F8\"},\"line\":{\"color\":\"white\"}},\"header\":{\"fill\":{\"color\":\"#C8D4E3\"},\"line\":{\"color\":\"white\"}},\"type\":\"table\"}]},\"layout\":{\"annotationdefaults\":{\"arrowcolor\":\"#2a3f5f\",\"arrowhead\":0,\"arrowwidth\":1},\"autotypenumbers\":\"strict\",\"coloraxis\":{\"colorbar\":{\"outlinewidth\":0,\"ticks\":\"\"}},\"colorscale\":{\"diverging\":[[0,\"#8e0152\"],[0.1,\"#c51b7d\"],[0.2,\"#de77ae\"],[0.3,\"#f1b6da\"],[0.4,\"#fde0ef\"],[0.5,\"#f7f7f7\"],[0.6,\"#e6f5d0\"],[0.7,\"#b8e186\"],[0.8,\"#7fbc41\"],[0.9,\"#4d9221\"],[1,\"#276419\"]],\"sequential\":[[0.0,\"#0d0887\"],[0.1111111111111111,\"#46039f\"],[0.2222222222222222,\"#7201a8\"],[0.3333333333333333,\"#9c179e\"],[0.4444444444444444,\"#bd3786\"],[0.5555555555555556,\"#d8576b\"],[0.6666666666666666,\"#ed7953\"],[0.7777777777777778,\"#fb9f3a\"],[0.8888888888888888,\"#fdca26\"],[1.0,\"#f0f921\"]],\"sequentialminus\":[[0.0,\"#0d0887\"],[0.1111111111111111,\"#46039f\"],[0.2222222222222222,\"#7201a8\"],[0.3333333333333333,\"#9c179e\"],[0.4444444444444444,\"#bd3786\"],[0.5555555555555556,\"#d8576b\"],[0.6666666666666666,\"#ed7953\"],[0.7777777777777778,\"#fb9f3a\"],[0.8888888888888888,\"#fdca26\"],[1.0,\"#f0f921\"]]},\"colorway\":[\"#636efa\",\"#EF553B\",\"#00cc96\",\"#ab63fa\",\"#FFA15A\",\"#19d3f3\",\"#FF6692\",\"#B6E880\",\"#FF97FF\",\"#FECB52\"],\"font\":{\"color\":\"#2a3f5f\"},\"geo\":{\"bgcolor\":\"white\",\"lakecolor\":\"white\",\"landcolor\":\"#E5ECF6\",\"showlakes\":true,\"showland\":true,\"subunitcolor\":\"white\"},\"hoverlabel\":{\"align\":\"left\"},\"hovermode\":\"closest\",\"mapbox\":{\"style\":\"light\"},\"paper_bgcolor\":\"white\",\"plot_bgcolor\":\"#E5ECF6\",\"polar\":{\"angularaxis\":{\"gridcolor\":\"white\",\"linecolor\":\"white\",\"ticks\":\"\"},\"bgcolor\":\"#E5ECF6\",\"radialaxis\":{\"gridcolor\":\"white\",\"linecolor\":\"white\",\"ticks\":\"\"}},\"scene\":{\"xaxis\":{\"backgroundcolor\":\"#E5ECF6\",\"gridcolor\":\"white\",\"gridwidth\":2,\"linecolor\":\"white\",\"showbackground\":true,\"ticks\":\"\",\"zerolinecolor\":\"white\"},\"yaxis\":{\"backgroundcolor\":\"#E5ECF6\",\"gridcolor\":\"white\",\"gridwidth\":2,\"linecolor\":\"white\",\"showbackground\":true,\"ticks\":\"\",\"zerolinecolor\":\"white\"},\"zaxis\":{\"backgroundcolor\":\"#E5ECF6\",\"gridcolor\":\"white\",\"gridwidth\":2,\"linecolor\":\"white\",\"showbackground\":true,\"ticks\":\"\",\"zerolinecolor\":\"white\"}},\"shapedefaults\":{\"line\":{\"color\":\"#2a3f5f\"}},\"ternary\":{\"aaxis\":{\"gridcolor\":\"white\",\"linecolor\":\"white\",\"ticks\":\"\"},\"baxis\":{\"gridcolor\":\"white\",\"linecolor\":\"white\",\"ticks\":\"\"},\"bgcolor\":\"#E5ECF6\",\"caxis\":{\"gridcolor\":\"white\",\"linecolor\":\"white\",\"ticks\":\"\"}},\"title\":{\"x\":0.05},\"xaxis\":{\"automargin\":true,\"gridcolor\":\"white\",\"linecolor\":\"white\",\"ticks\":\"\",\"title\":{\"standoff\":15},\"zerolinecolor\":\"white\",\"zerolinewidth\":2},\"yaxis\":{\"automargin\":true,\"gridcolor\":\"white\",\"linecolor\":\"white\",\"ticks\":\"\",\"title\":{\"standoff\":15},\"zerolinecolor\":\"white\",\"zerolinewidth\":2}}},\"xaxis\":{\"anchor\":\"y\",\"domain\":[0.0,1.0],\"title\":{\"text\":\"Number of Reviews\"}},\"yaxis\":{\"anchor\":\"x\",\"domain\":[0.0,1.0],\"title\":{\"text\":\"Number of Publications\"}},\"legend\":{\"tracegroupgap\":0},\"title\":{\"text\":\"Number of reviews for all of the books\"},\"barmode\":\"relative\",\"shapes\":[{\"line\":{\"color\":\"green\",\"dash\":\"dash\",\"width\":3},\"type\":\"line\",\"x0\":9389.55,\"x1\":9389.55,\"xref\":\"x\",\"y0\":0,\"y1\":1,\"yref\":\"y domain\"}],\"annotations\":[{\"showarrow\":false,\"text\":\"Mean: 9389.55 reviews\",\"x\":9389.55,\"xanchor\":\"left\",\"xref\":\"x\",\"y\":1,\"yanchor\":\"top\",\"yref\":\"y domain\"}]},                        {\"responsive\": true}                    ).then(function(){\n",
              "                            \n",
              "var gd = document.getElementById('0007a675-ad61-4d94-a57d-105fc1bcac33');\n",
              "var x = new MutationObserver(function (mutations, observer) {{\n",
              "        var display = window.getComputedStyle(gd).display;\n",
              "        if (!display || display === 'none') {{\n",
              "            console.log([gd, 'removed!']);\n",
              "            Plotly.purge(gd);\n",
              "            observer.disconnect();\n",
              "        }}\n",
              "}});\n",
              "\n",
              "// Listen for the removal of the full notebook cells\n",
              "var notebookContainer = gd.closest('#notebook-container');\n",
              "if (notebookContainer) {{\n",
              "    x.observe(notebookContainer, {childList: true});\n",
              "}}\n",
              "\n",
              "// Listen for the clearing of the current output cell\n",
              "var outputEl = gd.closest('.output');\n",
              "if (outputEl) {{\n",
              "    x.observe(outputEl, {childList: true});\n",
              "}}\n",
              "\n",
              "                        })                };                            </script>        </div>\n",
              "</body>\n",
              "</html>"
            ]
          },
          "metadata": {}
        }
      ]
    },
    {
      "cell_type": "markdown",
      "source": [
        "Summary of Review Graph\n",
        "\n",
        "* 9,389.55 was the mean number of reviews\n",
        "* Goodnight Spoons by Keith Richards, Orations of American Orators: Including Biographical and Critical Sketches by Julian Hawthorne, Pomeranian: An Owner's Guide to a Happy Healthy Pet by Happeth A. Jones and Say Goodbye to Daisy Miller by Henry James had the lowest number of reviews, with 0 reviews\n",
        "* Gone Girl by Gillian Flynn had the highest number of reviews, with 140,475 reviews"
      ],
      "metadata": {
        "id": "IaYTXB2jV9tQ"
      }
    },
    {
      "cell_type": "code",
      "source": [
        ""
      ],
      "metadata": {
        "id": "waeGqgWcWdYu"
      },
      "execution_count": null,
      "outputs": []
    }
  ]
}